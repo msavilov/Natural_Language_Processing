{
 "cells": [
  {
   "cell_type": "markdown",
   "id": "024ce248",
   "metadata": {},
   "source": [
    "### Описание задания\n",
    "\n",
    "Классификация по тональности отзывов на банки с сайта banki.ru.\n",
    "Данные содержат непосредственно тексты отзывов, некоторую дополнительную информацию, а также оценку по шкале от 1 до 5.\n",
    "Тексты хранятся в json-ах в массиве responses.\n",
    "\n",
    "### Задачи\n",
    "**Часть 1. Анализ текстов**\n",
    "\n",
    "**1.1** Посчитать количество отзывов в разных городах и на разные банки\n",
    "\n",
    "**1.2** Построить гистограмы длин слов отзывов в символах и в словах\n",
    "\n",
    "**1.3** Найдите 10 самых частых:\n",
    "- слов\n",
    "- слов без стоп-слов\n",
    "- лемм\n",
    "- существительных\n",
    "\n",
    "**1.4** Построить кривые Ципфа и Хипса\n",
    "\n",
    "**1.5** Ответить на следующие вопросы:\n",
    "- какое слово встречается чаще, \"сотрудник\" или \"клиент\"?\n",
    "- сколько раз встречается слова \"мошенничество\" и \"доверие\"?\n",
    "\n",
    "**1.6** В поле \"rating_grade\" записана оценка отзыва по шкале от 1 до 5. Использовать меру для того, чтобы найти ключевые слова и биграмы для положительных отзывов (с оценкой 5) и отрицательных отзывов (с оценкой 1)\n",
    "\n",
    "**Часть 2. Тематическое моделирование**\n",
    "\n",
    "**2.1** Построить несколько тематических моделей коллекции документов с разным числом тем. Привести примеры понятных (интерпретируемых) тем.\n",
    "\n",
    "**2.2** Найти темы, в которых упомянуты конкретные банки (Сбербанк, ВТБ, другой банк). Можете ли вы их прокомментировать / объяснить? Эта часть задания может быть сделана с использованием gensim.\n",
    "\n",
    "**Часть 3. Классификация текстов**\n",
    "\n",
    "**3.1** Сформулировать для простоты задачу бинарной классификации: классифицировать на два класса, то есть, различать резко отрицательные отзывы (с оценкой 1) и положительные отзывы (с оценкой 5).\n",
    "\n",
    "**3.2** Составить обучающее и тестовое множество: выбрать из всего набора данных N1 отзывов с оценкой 1 и N2 отзывов с оценкой 5 (значение N1 и N2 – на ваше усмотрение). Использовать sklearn.model_selection.train_test_split для разделения множества отобранных документов на обучающее и тестовое.\n",
    "\n",
    "**3.3** Использовать любой известный алгоритм классификации текстов для решения задачи и получите baseline. Сравнить разные варианты векторизации текста: с использованием только униграм, пар или троек слов или с использованием символьных n-грам.\n",
    "\n",
    "**3.4** Сравнить, как изменяется качество решения задачи при использовании скрытых тем в качестве признаков:\n",
    "\n",
    "- преобразование (sklearn.feature_extraction.text.TfidfTransformer) и сингулярное разложение (оно же – латентый семантический анализ) (sklearn.decomposition.TruncatedSVD);\n",
    "- тематические модели LDA (sklearn.decomposition.LatentDirichletAllocation). Используйте accuracy и F-measure для оценки качества классификации."
   ]
  },
  {
   "cell_type": "code",
   "execution_count": 16,
   "id": "c8b42f08",
   "metadata": {},
   "outputs": [],
   "source": [
    "import warnings\n",
    "warnings.filterwarnings('ignore')"
   ]
  },
  {
   "cell_type": "code",
   "execution_count": 1,
   "id": "f00033f4",
   "metadata": {},
   "outputs": [],
   "source": [
    "import bz2\n",
    "import gdown\n",
    "import json\n",
    "import matplotlib.pyplot as plt\n",
    "%matplotlib inline\n",
    "import numpy as np\n",
    "import pandas as pd\n",
    "import pymorphy2\n",
    "import re\n",
    "import regex\n",
    "import seaborn as sns\n",
    "\n",
    "from collections import Counter\n",
    "from nltk.corpus import stopwords\n",
    "from nltk.tokenize import word_tokenize\n",
    "from scipy import sparse\n",
    "from string import punctuation\n",
    "from tqdm import tqdm\n",
    "\n",
    "from sklearn.decomposition import TruncatedSVD, LatentDirichletAllocation\n",
    "from sklearn.feature_extraction.text import CountVectorizer, TfidfTransformer, TfidfVectorizer\n",
    "from sklearn.metrics  import classification_report"
   ]
  },
  {
   "cell_type": "markdown",
   "id": "8b1d5596",
   "metadata": {},
   "source": [
    "### Скачивание данных"
   ]
  },
  {
   "cell_type": "code",
   "execution_count": 2,
   "id": "c11eb935",
   "metadata": {},
   "outputs": [],
   "source": [
    "url = 'https://drive.google.com/uc?id=1OelGGXPXBinXvZnDb1Bmmxe4rtdBmqdk'"
   ]
  },
  {
   "cell_type": "code",
   "execution_count": 3,
   "id": "5ffcceb6",
   "metadata": {},
   "outputs": [
    {
     "data": {
      "text/plain": [
       "'banki_responses.json.bz2'"
      ]
     },
     "execution_count": 3,
     "metadata": {},
     "output_type": "execute_result"
    }
   ],
   "source": [
    "gdown.download(url, quiet=True)"
   ]
  },
  {
   "cell_type": "code",
   "execution_count": 4,
   "id": "4c8f33bb",
   "metadata": {},
   "outputs": [
    {
     "name": "stderr",
     "output_type": "stream",
     "text": [
      "201030it [02:11, 1530.84it/s]\n"
     ]
    }
   ],
   "source": [
    "responses = []\n",
    "with bz2.BZ2File('banki_responses.json.bz2', 'r') as thefile:\n",
    "    for row in tqdm(thefile):\n",
    "        resp = json.loads(row)\n",
    "        if not resp['rating_not_checked'] and (len(resp['text'].split()) > 0):\n",
    "            responses.append(resp)"
   ]
  },
  {
   "cell_type": "code",
   "execution_count": 5,
   "id": "a517b949",
   "metadata": {},
   "outputs": [
    {
     "data": {
      "text/plain": [
       "153499"
      ]
     },
     "execution_count": 5,
     "metadata": {},
     "output_type": "execute_result"
    }
   ],
   "source": [
    "size = len(responses)\n",
    "size"
   ]
  },
  {
   "cell_type": "markdown",
   "id": "5815fd73",
   "metadata": {},
   "source": [
    "### Часть 1. Анализ текстов\n",
    "#### 1.1 Посчитать количество отзывов в разных городах и на разные банки"
   ]
  },
  {
   "cell_type": "code",
   "execution_count": 6,
   "id": "0a85e228",
   "metadata": {},
   "outputs": [
    {
     "data": {
      "text/html": [
       "<div>\n",
       "<style scoped>\n",
       "    .dataframe tbody tr th:only-of-type {\n",
       "        vertical-align: middle;\n",
       "    }\n",
       "\n",
       "    .dataframe tbody tr th {\n",
       "        vertical-align: top;\n",
       "    }\n",
       "\n",
       "    .dataframe thead th {\n",
       "        text-align: right;\n",
       "    }\n",
       "</style>\n",
       "<table border=\"1\" class=\"dataframe\">\n",
       "  <thead>\n",
       "    <tr style=\"text-align: right;\">\n",
       "      <th></th>\n",
       "      <th>city</th>\n",
       "      <th>rating_not_checked</th>\n",
       "      <th>title</th>\n",
       "      <th>num_comments</th>\n",
       "      <th>bank_license</th>\n",
       "      <th>author</th>\n",
       "      <th>bank_name</th>\n",
       "      <th>datetime</th>\n",
       "      <th>text</th>\n",
       "      <th>rating_grade</th>\n",
       "    </tr>\n",
       "  </thead>\n",
       "  <tbody>\n",
       "    <tr>\n",
       "      <th>0</th>\n",
       "      <td>г. Москва</td>\n",
       "      <td>False</td>\n",
       "      <td>Жалоба</td>\n",
       "      <td>0</td>\n",
       "      <td>лицензия № 2562</td>\n",
       "      <td>uhnov1</td>\n",
       "      <td>Бинбанк</td>\n",
       "      <td>2015-06-08 12:50:54</td>\n",
       "      <td>Добрый день! Я не являюсь клиентом банка и пор...</td>\n",
       "      <td>NaN</td>\n",
       "    </tr>\n",
       "    <tr>\n",
       "      <th>1</th>\n",
       "      <td>г. Новосибирск</td>\n",
       "      <td>False</td>\n",
       "      <td>Не могу пользоваться услугой Сбербанк он-лайн</td>\n",
       "      <td>0</td>\n",
       "      <td>лицензия № 1481</td>\n",
       "      <td>Foryou</td>\n",
       "      <td>Сбербанк России</td>\n",
       "      <td>2015-06-08 11:09:57</td>\n",
       "      <td>Доброго дня! Являюсь держателем зарплатной кар...</td>\n",
       "      <td>NaN</td>\n",
       "    </tr>\n",
       "    <tr>\n",
       "      <th>2</th>\n",
       "      <td>г. Москва</td>\n",
       "      <td>False</td>\n",
       "      <td>Двойное списание за один товар.</td>\n",
       "      <td>1</td>\n",
       "      <td>лицензия № 2562</td>\n",
       "      <td>Vladimir84</td>\n",
       "      <td>Бинбанк</td>\n",
       "      <td>2015-06-05 20:14:28</td>\n",
       "      <td>Здравствуйте!  Дублирую свое заявление от 03.0...</td>\n",
       "      <td>NaN</td>\n",
       "    </tr>\n",
       "    <tr>\n",
       "      <th>3</th>\n",
       "      <td>г. Ставрополь</td>\n",
       "      <td>False</td>\n",
       "      <td>Меняют проценты комиссии  не предупредив и не ...</td>\n",
       "      <td>2</td>\n",
       "      <td>лицензия № 1481</td>\n",
       "      <td>643609</td>\n",
       "      <td>Сбербанк России</td>\n",
       "      <td>2015-06-05 13:51:01</td>\n",
       "      <td>Добрый день!! Я открыл расчетный счет в СберБа...</td>\n",
       "      <td>NaN</td>\n",
       "    </tr>\n",
       "    <tr>\n",
       "      <th>4</th>\n",
       "      <td>г. Челябинск</td>\n",
       "      <td>False</td>\n",
       "      <td>Верните денежные средства за страховку</td>\n",
       "      <td>1</td>\n",
       "      <td>лицензия № 2766</td>\n",
       "      <td>anfisa-2003</td>\n",
       "      <td>ОТП Банк</td>\n",
       "      <td>2015-06-05 10:58:12</td>\n",
       "      <td>04.03.2015 г. взяла кредит в вашем банке, заяв...</td>\n",
       "      <td>NaN</td>\n",
       "    </tr>\n",
       "  </tbody>\n",
       "</table>\n",
       "</div>"
      ],
      "text/plain": [
       "             city  rating_not_checked  \\\n",
       "0       г. Москва               False   \n",
       "1  г. Новосибирск               False   \n",
       "2       г. Москва               False   \n",
       "3   г. Ставрополь               False   \n",
       "4    г. Челябинск               False   \n",
       "\n",
       "                                               title  num_comments  \\\n",
       "0                                             Жалоба             0   \n",
       "1      Не могу пользоваться услугой Сбербанк он-лайн             0   \n",
       "2                    Двойное списание за один товар.             1   \n",
       "3  Меняют проценты комиссии  не предупредив и не ...             2   \n",
       "4             Верните денежные средства за страховку             1   \n",
       "\n",
       "      bank_license       author        bank_name             datetime  \\\n",
       "0  лицензия № 2562       uhnov1          Бинбанк  2015-06-08 12:50:54   \n",
       "1  лицензия № 1481       Foryou  Сбербанк России  2015-06-08 11:09:57   \n",
       "2  лицензия № 2562   Vladimir84          Бинбанк  2015-06-05 20:14:28   \n",
       "3  лицензия № 1481       643609  Сбербанк России  2015-06-05 13:51:01   \n",
       "4  лицензия № 2766  anfisa-2003         ОТП Банк  2015-06-05 10:58:12   \n",
       "\n",
       "                                                text  rating_grade  \n",
       "0  Добрый день! Я не являюсь клиентом банка и пор...           NaN  \n",
       "1  Доброго дня! Являюсь держателем зарплатной кар...           NaN  \n",
       "2  Здравствуйте!  Дублирую свое заявление от 03.0...           NaN  \n",
       "3  Добрый день!! Я открыл расчетный счет в СберБа...           NaN  \n",
       "4  04.03.2015 г. взяла кредит в вашем банке, заяв...           NaN  "
      ]
     },
     "execution_count": 6,
     "metadata": {},
     "output_type": "execute_result"
    }
   ],
   "source": [
    "df = pd.DataFrame(responses)\n",
    "df.head()"
   ]
  },
  {
   "cell_type": "code",
   "execution_count": 7,
   "id": "f98268fe",
   "metadata": {},
   "outputs": [
    {
     "data": {
      "text/plain": [
       "г. Москва             55354\n",
       "г. Санкт-Петербург    14342\n",
       "г. Екатеринбург        2337\n",
       "г. Новосибирск         2300\n",
       "г. Нижний Новгород     1976\n",
       "г. Ростов-на-Дону      1891\n",
       "г. Самара              1731\n",
       "г. Челябинск           1507\n",
       "г. Казань              1440\n",
       "г. Краснодар           1262\n",
       "Name: city, dtype: int64"
      ]
     },
     "execution_count": 7,
     "metadata": {},
     "output_type": "execute_result"
    }
   ],
   "source": [
    "city_response = df['city'].value_counts()\n",
    "city_response.head(10)"
   ]
  },
  {
   "cell_type": "code",
   "execution_count": 8,
   "id": "f7116706",
   "metadata": {},
   "outputs": [
    {
     "data": {
      "text/plain": [
       "Сбербанк России              26327\n",
       "Альфа-Банк                   10224\n",
       "ВТБ 24                        8185\n",
       "Русский Стандарт              7943\n",
       "Хоум Кредит Банк              7549\n",
       "Тинькофф Банк                 5387\n",
       "Национальный Банк «Траст»     4607\n",
       "Ренессанс Кредит              3849\n",
       "Связной Банк                  3775\n",
       "ОТП Банк                      3237\n",
       "Name: bank_name, dtype: int64"
      ]
     },
     "execution_count": 8,
     "metadata": {},
     "output_type": "execute_result"
    }
   ],
   "source": [
    "banks_response = df['bank_name'].value_counts()\n",
    "banks_response.head(10)"
   ]
  },
  {
   "cell_type": "markdown",
   "id": "668058f2",
   "metadata": {},
   "source": [
    "#### 1.2 Построить гистограмы длин отзывов в символах и в словах\n",
    "Подсчёт будем производить сразу исключая стоп-слова и пунктуацию"
   ]
  },
  {
   "cell_type": "code",
   "execution_count": 9,
   "id": "904bb1aa",
   "metadata": {},
   "outputs": [],
   "source": [
    "noise = stopwords.words('russian') + list(punctuation)"
   ]
  },
  {
   "cell_type": "code",
   "execution_count": 10,
   "id": "f5016312",
   "metadata": {},
   "outputs": [],
   "source": [
    "vec_words = CountVectorizer(ngram_range=(1, 1), stop_words=noise)\n",
    "bow_words = vec_words.fit_transform(df['text'])\n",
    "vec_symbol = CountVectorizer(analyzer='char')\n",
    "bow_symbol = vec_symbol.fit_transform(df['text'])"
   ]
  },
  {
   "cell_type": "code",
   "execution_count": 12,
   "id": "598f56f0",
   "metadata": {},
   "outputs": [
    {
     "name": "stderr",
     "output_type": "stream",
     "text": [
      "100%|█████████████████████████████████████████████████████████████████████████| 153499/153499 [06:23<00:00, 400.21it/s]\n"
     ]
    }
   ],
   "source": [
    "ln_words = []\n",
    "ln_symbol = []\n",
    "for i in tqdm(range(size)):\n",
    "    ln_words.append(np.sum(bow_words[i].todense()))\n",
    "    ln_symbol.append(np.sum(bow_symbol[i].todense()))"
   ]
  },
  {
   "cell_type": "code",
   "execution_count": 27,
   "id": "583888da",
   "metadata": {},
   "outputs": [
    {
     "data": {
      "image/png": "[encoded data removed]",
      "text/plain": [
       "<Figure size 1400x1000 with 2 Axes>"
      ]
     },
     "metadata": {},
     "output_type": "display_data"
    }
   ],
   "source": [
    "fig, axes = plt.subplots(2, 1,figsize=(14,10))\n",
    "\n",
    "axes[0].hist(ln_symbol, bins = 200)\n",
    "axes[1].hist(ln_words, bins = 200)\n",
    "axes[0].set_xlim(0, 10000)\n",
    "axes[1].set_xlim(0, 1000)\n",
    "axes[0].set_title('Длины текстов в символах')\n",
    "axes[1].set_title('Длины текстов в словах')\n",
    "axes[0].set_ylabel('Количество')\n",
    "axes[1].set_ylabel('Количество')\n",
    "fig.show()"
   ]
  },
  {
   "cell_type": "markdown",
   "id": "b0561275",
   "metadata": {},
   "source": [
    "#### 1.3 Найдите 10 самых частых:"
   ]
  },
  {
   "cell_type": "markdown",
   "id": "1b9e0ea1",
   "metadata": {},
   "source": [
    "- слов"
   ]
  },
  {
   "cell_type": "code",
   "execution_count": 37,
   "id": "b2a82d0a",
   "metadata": {},
   "outputs": [
    {
     "data": {
      "text/plain": [
       "[('в', 1169557),\n",
       " ('и', 980761),\n",
       " ('не', 816419),\n",
       " ('на', 638715),\n",
       " ('что', 603171),\n",
       " ('я', 443478),\n",
       " ('с', 428021),\n",
       " ('по', 338743),\n",
       " ('мне', 293980),\n",
       " ('банка', 235176)]"
      ]
     },
     "execution_count": 37,
     "metadata": {},
     "output_type": "execute_result"
    }
   ],
   "source": [
    "corpus = [token for response in df.text for token in word_tokenize(response) if token not in punctuation]\n",
    "freq_dict = Counter(corpus)\n",
    "freq_dict.most_common(10)"
   ]
  },
  {
   "cell_type": "markdown",
   "id": "697141a7",
   "metadata": {},
   "source": [
    "- слов без стоп-слов"
   ]
  },
  {
   "cell_type": "code",
   "execution_count": null,
   "id": "26500cc7",
   "metadata": {},
   "outputs": [],
   "source": [
    "corpus = [word for word in corpus if word not in stopwords.words('russian')]\n",
    "freq_dict = Counter(corpus)\n",
    "freq_dict.most_common(10)"
   ]
  },
  {
   "cell_type": "markdown",
   "id": "2e2f616a",
   "metadata": {},
   "source": [
    "- лемм"
   ]
  },
  {
   "cell_type": "code",
   "execution_count": null,
   "id": "286e09cc",
   "metadata": {},
   "outputs": [],
   "source": [
    "morph = pymorphy2.MorphAnalyzer()"
   ]
  },
  {
   "cell_type": "code",
   "execution_count": null,
   "id": "3ceee96a",
   "metadata": {},
   "outputs": [],
   "source": [
    "lemmas = [morph.parse(word)[0].normal_form for word in corpus]\n",
    "freq_dict_lemm = Counter(lemmas)\n",
    "freq_dict_lemm.most_common(10)"
   ]
  },
  {
   "cell_type": "markdown",
   "id": "9a961390",
   "metadata": {},
   "source": [
    "- существительных"
   ]
  },
  {
   "cell_type": "code",
   "execution_count": null,
   "id": "8b4bfae7",
   "metadata": {},
   "outputs": [],
   "source": [
    "noun = [word for word in lemmas if morph.parse(word)[0].tag.POS=='NOUN']\n",
    "freq_dict_noun = Counter(noun)\n",
    "freq_dict_noun.most_common(10)"
   ]
  },
  {
   "cell_type": "markdown",
   "id": "1948fa8a",
   "metadata": {},
   "source": [
    "#### 1.4 Построить кривые Ципфа и Хипса"
   ]
  },
  {
   "cell_type": "code",
   "execution_count": null,
   "id": "e05eec27",
   "metadata": {},
   "outputs": [],
   "source": [
    "freqs = list(freq_dict.values())\n",
    "freqs = sorted(freqs, reverse = True)\n",
    "\n",
    "fig, ax = plt.subplots()\n",
    "ax.plot(freqs[:300], range(300))\n",
    "ax.set_title(u'Кривая Ципфа', fontsize=12)\n",
    "plt.show()"
   ]
  },
  {
   "cell_type": "code",
   "execution_count": null,
   "id": "efffe848",
   "metadata": {},
   "outputs": [],
   "source": [
    "cnt = Counter()\n",
    "n_words = []\n",
    "n_tokens = []\n",
    "tokens = []\n",
    "for index, row in tqdm(df.text.iterrows(), total = len(X)):\n",
    "    tokens = word_tokenize(row['text'])\n",
    "    cnt.update([token for token in tokens if token not in punctuation])\n",
    "    n_words.append(len(cnt))\n",
    "    n_tokens.append(sum(list(cnt.values())))"
   ]
  },
  {
   "cell_type": "code",
   "execution_count": null,
   "id": "7b7f2ce8",
   "metadata": {},
   "outputs": [],
   "source": [
    "fig, ax = plt.subplots()\n",
    "ax.plot(n_tokens, n_words)\n",
    "ax.set_title(u'Кривая Хипса', fontsize=12)\n",
    "plt.show()"
   ]
  },
  {
   "cell_type": "markdown",
   "id": "fff129fa",
   "metadata": {},
   "source": [
    "#### 1.5 Ответить на следующие вопросы:\n",
    "\n",
    "- какое слово встречается чаще, \"сотрудник\" или \"клиент\"?\n",
    "- сколько раз встречается слова \"мошенничество\" и \"доверие\"?"
   ]
  },
  {
   "cell_type": "code",
   "execution_count": null,
   "id": "7f9b53a7",
   "metadata": {},
   "outputs": [],
   "source": [
    "for val in [\"сотрудник\", \"клиент\", \"мошенничество\", \"доверие\"]:\n",
    "    print(val, freq_dict.get(val))"
   ]
  },
  {
   "cell_type": "markdown",
   "id": "02e6baff",
   "metadata": {},
   "source": [
    "#### 1.6 В поле \"rating_grade\" записана оценка отзыва по шкале от 1 до 5. Использовать меру для того, чтобы найти ключевые слова и биграмы для положительных отзывов (с оценкой 5) и отрицательных отзывов (с оценкой 1)"
   ]
  },
  {
   "cell_type": "code",
   "execution_count": null,
   "id": "887a8788",
   "metadata": {},
   "outputs": [],
   "source": [
    "positive = df.loc[df.rating_grade==5]\n",
    "negative = df.loc[df.rating_grade==1]"
   ]
  }
 ],
 "metadata": {
  "kernelspec": {
   "display_name": "Python 3 (ipykernel)",
   "language": "python",
   "name": "python3"
  },
  "language_info": {
   "codemirror_mode": {
    "name": "ipython",
    "version": 3
   },
   "file_extension": ".py",
   "mimetype": "text/x-python",
   "name": "python",
   "nbconvert_exporter": "python",
   "pygments_lexer": "ipython3",
   "version": "3.10.9"
  }
 },
 "nbformat": 4,
 "nbformat_minor": 5
}
