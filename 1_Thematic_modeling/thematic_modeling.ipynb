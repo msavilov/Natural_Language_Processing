{
 "cells": [
  {
   "cell_type": "markdown",
   "id": "024ce248",
   "metadata": {},
   "source": [
    "### Описание задания\n",
    "\n",
    "Классификация по тональности отзывов на банки с сайта banki.ru.\n",
    "Данные содержат непосредственно тексты отзывов, некоторую дополнительную информацию, а также оценку по шкале от 1 до 5.\n",
    "Тексты хранятся в json-ах в массиве responses.\n",
    "\n",
    "### Задачи\n",
    "**Часть 1. Анализ текстов**\n",
    "\n",
    "**1.1** Посчитать количество отзывов в разных городах и на разные банки\n",
    "\n",
    "**1.2** Построить гистограмы длин слов отзывов в символах и в словах\n",
    "\n",
    "**1.3** Найдите 10 самых частых:\n",
    "- слов\n",
    "- слов без стоп-слов\n",
    "- лемм\n",
    "- существительных\n",
    "\n",
    "**1.4** Построить кривые Ципфа и Хипса\n",
    "\n",
    "**1.5** Ответить на следующие вопросы:\n",
    "- какое слово встречается чаще, \"сотрудник\" или \"клиент\"?\n",
    "- сколько раз встречается слова \"мошенничество\" и \"доверие\"?\n",
    "\n",
    "**1.6** В поле \"rating_grade\" записана оценка отзыва по шкале от 1 до 5. Использовать меру для того, чтобы найти ключевые слова и биграмы для положительных отзывов (с оценкой 5) и отрицательных отзывов (с оценкой 1)\n",
    "\n",
    "**Часть 2. Тематическое моделирование**\n",
    "\n",
    "**2.1** Построить несколько тематических моделей коллекции документов с разным числом тем. Привести примеры понятных (интерпретируемых) тем.\n",
    "\n",
    "**2.2** Найти темы, в которых упомянуты конкретные банки (Сбербанк, ВТБ, другой банк). Можете ли вы их прокомментировать / объяснить?\n",
    "\n",
    "**Часть 3. Классификация текстов**\n",
    "\n",
    "**3.1** Сформулировать для простоты задачу бинарной классификации: классифицировать на два класса, то есть, различать резко отрицательные отзывы (с оценкой 1) и положительные отзывы (с оценкой 5).\n",
    "\n",
    "**3.2** Составить обучающее и тестовое множество: выбрать из всего набора данных N1 отзывов с оценкой 1 и N2 отзывов с оценкой 5 (значение N1 и N2 – на ваше усмотрение). Использовать sklearn.model_selection.train_test_split для разделения множества отобранных документов на обучающее и тестовое.\n",
    "\n",
    "**3.3** Использовать любой известный алгоритм классификации текстов для решения задачи и получите baseline. Сравнить разные варианты векторизации текста: с использованием только униграм, пар или троек слов или с использованием символьных n-грам.\n",
    "\n",
    "**3.4** Сравнить, как изменяется качество решения задачи при использовании скрытых тем в качестве признаков:\n",
    "\n",
    "- преобразование (sklearn.feature_extraction.text.TfidfTransformer) и сингулярное разложение (оно же – латентый семантический анализ) (sklearn.decomposition.TruncatedSVD);\n",
    "- тематические модели LDA (sklearn.decomposition.LatentDirichletAllocation). Используйте accuracy и F-measure для оценки качества классификации."
   ]
  },
  {
   "cell_type": "code",
   "execution_count": 1,
   "id": "597726cc",
   "metadata": {},
   "outputs": [],
   "source": [
    "import warnings\n",
    "warnings.filterwarnings('ignore')"
   ]
  },
  {
   "cell_type": "code",
   "execution_count": 142,
   "id": "915cbf4b",
   "metadata": {},
   "outputs": [],
   "source": [
    "import bz2\n",
    "import gdown\n",
    "import json\n",
    "import matplotlib.pyplot as plt\n",
    "%matplotlib inline\n",
    "import numpy as np\n",
    "import pandas as pd\n",
    "import pymorphy2\n",
    "import re\n",
    "import regex\n",
    "import seaborn as sns\n",
    "\n",
    "from collections import Counter\n",
    "from nltk.corpus import stopwords\n",
    "from nltk.tokenize import word_tokenize\n",
    "from scipy import sparse\n",
    "from string import punctuation\n",
    "from tqdm import tqdm\n",
    "\n",
    "from gensim import similarities\n",
    "from gensim.corpora import Dictionary\n",
    "from gensim.models import lsimodel, TfidfModel\n",
    "\n",
    "from sklearn.decomposition import TruncatedSVD, LatentDirichletAllocation\n",
    "from sklearn.ensemble import RandomForestClassifier\n",
    "from sklearn.feature_extraction.text import CountVectorizer, TfidfTransformer, TfidfVectorizer \n",
    "from sklearn.metrics  import classification_report\n",
    "from sklearn.model_selection import train_test_split\n",
    "from sklearn.pipeline import Pipeline"
   ]
  },
  {
   "cell_type": "markdown",
   "id": "ffd44df7",
   "metadata": {},
   "source": [
    "### Скачивание данных"
   ]
  },
  {
   "cell_type": "code",
   "execution_count": 3,
   "id": "e23b8a3e",
   "metadata": {},
   "outputs": [],
   "source": [
    "url = 'https://drive.google.com/uc?id=1OelGGXPXBinXvZnDb1Bmmxe4rtdBmqdk'"
   ]
  },
  {
   "cell_type": "code",
   "execution_count": 4,
   "id": "7b6c48e8",
   "metadata": {},
   "outputs": [
    {
     "data": {
      "text/plain": [
       "'banki_responses.json.bz2'"
      ]
     },
     "execution_count": 4,
     "metadata": {},
     "output_type": "execute_result"
    }
   ],
   "source": [
    "gdown.download(url, quiet=True)"
   ]
  },
  {
   "cell_type": "code",
   "execution_count": 5,
   "id": "af99756c",
   "metadata": {},
   "outputs": [
    {
     "name": "stderr",
     "output_type": "stream",
     "text": [
      "201030it [00:52, 3844.34it/s]\n"
     ]
    }
   ],
   "source": [
    "responses = []\n",
    "with bz2.BZ2File('banki_responses.json.bz2', 'r') as thefile:\n",
    "    for row in tqdm(thefile):\n",
    "        resp = json.loads(row)\n",
    "        if not resp['rating_not_checked'] and (len(resp['text'].split()) > 0):\n",
    "            responses.append(resp)"
   ]
  },
  {
   "cell_type": "code",
   "execution_count": 6,
   "id": "742d9918",
   "metadata": {},
   "outputs": [
    {
     "data": {
      "text/plain": [
       "153499"
      ]
     },
     "execution_count": 6,
     "metadata": {},
     "output_type": "execute_result"
    }
   ],
   "source": [
    "size = len(responses)\n",
    "size"
   ]
  },
  {
   "cell_type": "markdown",
   "id": "6602a725",
   "metadata": {},
   "source": [
    "### Часть 1. Анализ текстов\n",
    "#### 1.1 Посчитать количество отзывов в разных городах и на разные банки"
   ]
  },
  {
   "cell_type": "code",
   "execution_count": 7,
   "id": "bfaa6278",
   "metadata": {},
   "outputs": [
    {
     "data": {
      "text/html": [
       "<div>\n",
       "<style scoped>\n",
       "    .dataframe tbody tr th:only-of-type {\n",
       "        vertical-align: middle;\n",
       "    }\n",
       "\n",
       "    .dataframe tbody tr th {\n",
       "        vertical-align: top;\n",
       "    }\n",
       "\n",
       "    .dataframe thead th {\n",
       "        text-align: right;\n",
       "    }\n",
       "</style>\n",
       "<table border=\"1\" class=\"dataframe\">\n",
       "  <thead>\n",
       "    <tr style=\"text-align: right;\">\n",
       "      <th></th>\n",
       "      <th>city</th>\n",
       "      <th>rating_not_checked</th>\n",
       "      <th>title</th>\n",
       "      <th>num_comments</th>\n",
       "      <th>bank_license</th>\n",
       "      <th>author</th>\n",
       "      <th>bank_name</th>\n",
       "      <th>datetime</th>\n",
       "      <th>text</th>\n",
       "      <th>rating_grade</th>\n",
       "    </tr>\n",
       "  </thead>\n",
       "  <tbody>\n",
       "    <tr>\n",
       "      <th>0</th>\n",
       "      <td>г. Москва</td>\n",
       "      <td>False</td>\n",
       "      <td>Жалоба</td>\n",
       "      <td>0</td>\n",
       "      <td>лицензия № 2562</td>\n",
       "      <td>uhnov1</td>\n",
       "      <td>Бинбанк</td>\n",
       "      <td>2015-06-08 12:50:54</td>\n",
       "      <td>Добрый день! Я не являюсь клиентом банка и пор...</td>\n",
       "      <td>NaN</td>\n",
       "    </tr>\n",
       "    <tr>\n",
       "      <th>1</th>\n",
       "      <td>г. Новосибирск</td>\n",
       "      <td>False</td>\n",
       "      <td>Не могу пользоваться услугой Сбербанк он-лайн</td>\n",
       "      <td>0</td>\n",
       "      <td>лицензия № 1481</td>\n",
       "      <td>Foryou</td>\n",
       "      <td>Сбербанк России</td>\n",
       "      <td>2015-06-08 11:09:57</td>\n",
       "      <td>Доброго дня! Являюсь держателем зарплатной кар...</td>\n",
       "      <td>NaN</td>\n",
       "    </tr>\n",
       "    <tr>\n",
       "      <th>2</th>\n",
       "      <td>г. Москва</td>\n",
       "      <td>False</td>\n",
       "      <td>Двойное списание за один товар.</td>\n",
       "      <td>1</td>\n",
       "      <td>лицензия № 2562</td>\n",
       "      <td>Vladimir84</td>\n",
       "      <td>Бинбанк</td>\n",
       "      <td>2015-06-05 20:14:28</td>\n",
       "      <td>Здравствуйте!  Дублирую свое заявление от 03.0...</td>\n",
       "      <td>NaN</td>\n",
       "    </tr>\n",
       "    <tr>\n",
       "      <th>3</th>\n",
       "      <td>г. Ставрополь</td>\n",
       "      <td>False</td>\n",
       "      <td>Меняют проценты комиссии  не предупредив и не ...</td>\n",
       "      <td>2</td>\n",
       "      <td>лицензия № 1481</td>\n",
       "      <td>643609</td>\n",
       "      <td>Сбербанк России</td>\n",
       "      <td>2015-06-05 13:51:01</td>\n",
       "      <td>Добрый день!! Я открыл расчетный счет в СберБа...</td>\n",
       "      <td>NaN</td>\n",
       "    </tr>\n",
       "    <tr>\n",
       "      <th>4</th>\n",
       "      <td>г. Челябинск</td>\n",
       "      <td>False</td>\n",
       "      <td>Верните денежные средства за страховку</td>\n",
       "      <td>1</td>\n",
       "      <td>лицензия № 2766</td>\n",
       "      <td>anfisa-2003</td>\n",
       "      <td>ОТП Банк</td>\n",
       "      <td>2015-06-05 10:58:12</td>\n",
       "      <td>04.03.2015 г. взяла кредит в вашем банке, заяв...</td>\n",
       "      <td>NaN</td>\n",
       "    </tr>\n",
       "  </tbody>\n",
       "</table>\n",
       "</div>"
      ],
      "text/plain": [
       "             city  rating_not_checked  \\\n",
       "0       г. Москва               False   \n",
       "1  г. Новосибирск               False   \n",
       "2       г. Москва               False   \n",
       "3   г. Ставрополь               False   \n",
       "4    г. Челябинск               False   \n",
       "\n",
       "                                               title  num_comments  \\\n",
       "0                                             Жалоба             0   \n",
       "1      Не могу пользоваться услугой Сбербанк он-лайн             0   \n",
       "2                    Двойное списание за один товар.             1   \n",
       "3  Меняют проценты комиссии  не предупредив и не ...             2   \n",
       "4             Верните денежные средства за страховку             1   \n",
       "\n",
       "      bank_license       author        bank_name             datetime  \\\n",
       "0  лицензия № 2562       uhnov1          Бинбанк  2015-06-08 12:50:54   \n",
       "1  лицензия № 1481       Foryou  Сбербанк России  2015-06-08 11:09:57   \n",
       "2  лицензия № 2562   Vladimir84          Бинбанк  2015-06-05 20:14:28   \n",
       "3  лицензия № 1481       643609  Сбербанк России  2015-06-05 13:51:01   \n",
       "4  лицензия № 2766  anfisa-2003         ОТП Банк  2015-06-05 10:58:12   \n",
       "\n",
       "                                                text  rating_grade  \n",
       "0  Добрый день! Я не являюсь клиентом банка и пор...           NaN  \n",
       "1  Доброго дня! Являюсь держателем зарплатной кар...           NaN  \n",
       "2  Здравствуйте!  Дублирую свое заявление от 03.0...           NaN  \n",
       "3  Добрый день!! Я открыл расчетный счет в СберБа...           NaN  \n",
       "4  04.03.2015 г. взяла кредит в вашем банке, заяв...           NaN  "
      ]
     },
     "execution_count": 7,
     "metadata": {},
     "output_type": "execute_result"
    }
   ],
   "source": [
    "df = pd.DataFrame(responses)\n",
    "df.head()"
   ]
  },
  {
   "cell_type": "code",
   "execution_count": 8,
   "id": "e2566911",
   "metadata": {},
   "outputs": [
    {
     "data": {
      "text/plain": [
       "г. Москва             55354\n",
       "г. Санкт-Петербург    14342\n",
       "г. Екатеринбург        2337\n",
       "г. Новосибирск         2300\n",
       "г. Нижний Новгород     1976\n",
       "г. Ростов-на-Дону      1891\n",
       "г. Самара              1731\n",
       "г. Челябинск           1507\n",
       "г. Казань              1440\n",
       "г. Краснодар           1262\n",
       "Name: city, dtype: int64"
      ]
     },
     "execution_count": 8,
     "metadata": {},
     "output_type": "execute_result"
    }
   ],
   "source": [
    "city_response = df['city'].value_counts()\n",
    "city_response.head(10)"
   ]
  },
  {
   "cell_type": "code",
   "execution_count": 9,
   "id": "863e8701",
   "metadata": {},
   "outputs": [
    {
     "data": {
      "text/plain": [
       "Сбербанк России              26327\n",
       "Альфа-Банк                   10224\n",
       "ВТБ 24                        8185\n",
       "Русский Стандарт              7943\n",
       "Хоум Кредит Банк              7549\n",
       "Тинькофф Банк                 5387\n",
       "Национальный Банк «Траст»     4607\n",
       "Ренессанс Кредит              3849\n",
       "Связной Банк                  3775\n",
       "ОТП Банк                      3237\n",
       "Name: bank_name, dtype: int64"
      ]
     },
     "execution_count": 9,
     "metadata": {},
     "output_type": "execute_result"
    }
   ],
   "source": [
    "banks_response = df['bank_name'].value_counts()\n",
    "banks_response.head(10)"
   ]
  },
  {
   "cell_type": "markdown",
   "id": "97d13017",
   "metadata": {},
   "source": [
    "#### 1.2 Построить гистограмы длин отзывов в символах и в словах\n",
    "Подсчёт будем производить сразу исключая стоп-слова и пунктуацию"
   ]
  },
  {
   "cell_type": "code",
   "execution_count": 11,
   "id": "9063aee3",
   "metadata": {},
   "outputs": [],
   "source": [
    "noise = stopwords.words('russian') + list(punctuation)"
   ]
  },
  {
   "cell_type": "code",
   "execution_count": 12,
   "id": "849815b8",
   "metadata": {},
   "outputs": [],
   "source": [
    "vec_words = CountVectorizer(ngram_range=(1, 1), stop_words=noise)\n",
    "bow_words = vec_words.fit_transform(df['text'])\n",
    "vec_symbol = CountVectorizer(analyzer='char')\n",
    "bow_symbol = vec_symbol.fit_transform(df['text'])"
   ]
  },
  {
   "cell_type": "code",
   "execution_count": 13,
   "id": "567c324a",
   "metadata": {},
   "outputs": [
    {
     "name": "stderr",
     "output_type": "stream",
     "text": [
      "100%|█████████████████████████████████████████████████████████████████████████| 153499/153499 [03:20<00:00, 764.01it/s]\n"
     ]
    }
   ],
   "source": [
    "ln_words = []\n",
    "ln_symbol = []\n",
    "for i in tqdm(range(size)):\n",
    "    ln_words.append(np.sum(bow_words[i].todense()))\n",
    "    ln_symbol.append(np.sum(bow_symbol[i].todense()))"
   ]
  },
  {
   "cell_type": "code",
   "execution_count": 14,
   "id": "9953876a",
   "metadata": {},
   "outputs": [
    {
     "data": {
      "image/png": "[encoded data removed]",
      "text/plain": [
       "<Figure size 1008x720 with 2 Axes>"
      ]
     },
     "metadata": {
      "needs_background": "light"
     },
     "output_type": "display_data"
    }
   ],
   "source": [
    "fig, axes = plt.subplots(2, 1,figsize=(14,10))\n",
    "\n",
    "axes[0].hist(ln_symbol, bins = 200)\n",
    "axes[1].hist(ln_words, bins = 200)\n",
    "axes[0].set_xlim(0, 10000)\n",
    "axes[1].set_xlim(0, 1000)\n",
    "axes[0].set_title('Длины текстов в символах')\n",
    "axes[1].set_title('Длины текстов в словах')\n",
    "axes[0].set_ylabel('Количество')\n",
    "axes[1].set_ylabel('Количество')\n",
    "fig.show()"
   ]
  },
  {
   "cell_type": "markdown",
   "id": "972e0050",
   "metadata": {},
   "source": [
    "#### 1.3 Найдите 10 самых частых:"
   ]
  },
  {
   "cell_type": "markdown",
   "id": "60b1e607",
   "metadata": {},
   "source": [
    "- слов"
   ]
  },
  {
   "cell_type": "code",
   "execution_count": 15,
   "id": "cff503c7",
   "metadata": {},
   "outputs": [
    {
     "data": {
      "text/plain": [
       "[('в', 1169557),\n",
       " ('и', 980761),\n",
       " ('не', 816419),\n",
       " ('на', 638715),\n",
       " ('что', 603171),\n",
       " ('я', 443478),\n",
       " ('с', 428021),\n",
       " ('по', 338743),\n",
       " ('мне', 293980),\n",
       " ('банка', 235176)]"
      ]
     },
     "execution_count": 15,
     "metadata": {},
     "output_type": "execute_result"
    }
   ],
   "source": [
    "corpus = [token for response in df.text for token in word_tokenize(response) if token not in punctuation]\n",
    "freq_dict = Counter(corpus)\n",
    "freq_dict.most_common(10)"
   ]
  },
  {
   "cell_type": "markdown",
   "id": "c03c28d3",
   "metadata": {},
   "source": [
    "- слов без стоп-слов"
   ]
  },
  {
   "cell_type": "code",
   "execution_count": 26,
   "id": "bb54ec1c",
   "metadata": {
    "collapsed": true
   },
   "outputs": [],
   "source": [
    "stopword = stopwords.words('russian')\n",
    "punkts = ['``', '...', \"''\", '\"\"', '..', '....']\n",
    "for val in punkts:\n",
    "    stopword.append(val)"
   ]
  },
  {
   "cell_type": "code",
   "execution_count": 28,
   "id": "c048633a",
   "metadata": {},
   "outputs": [
    {
     "name": "stderr",
     "output_type": "stream",
     "text": [
      "100%|██████████████████████████████████████████████████████████████████| 36766261/36766261 [01:26<00:00, 424977.01it/s]\n"
     ]
    },
    {
     "data": {
      "text/plain": [
       "[('банка', 235176),\n",
       " ('банк', 159569),\n",
       " ('это', 158915),\n",
       " ('деньги', 121777),\n",
       " ('карту', 101181),\n",
       " ('карты', 99040),\n",
       " ('день', 74627),\n",
       " ('кредит', 71823),\n",
       " ('заявление', 65006),\n",
       " ('отделение', 63424)]"
      ]
     },
     "execution_count": 28,
     "metadata": {},
     "output_type": "execute_result"
    }
   ],
   "source": [
    "corpus_without_stop = []\n",
    "for word in tqdm(corpus):\n",
    "    if word.lower() not in stopword:\n",
    "        corpus_without_stop.append(word)\n",
    "freq_dict = Counter(corpus_without_stop)\n",
    "freq_dict.most_common(10)"
   ]
  },
  {
   "cell_type": "markdown",
   "id": "68299d2b",
   "metadata": {},
   "source": [
    "- лемм"
   ]
  },
  {
   "cell_type": "code",
   "execution_count": 29,
   "id": "57c98756",
   "metadata": {},
   "outputs": [],
   "source": [
    "morph = pymorphy2.MorphAnalyzer()"
   ]
  },
  {
   "cell_type": "code",
   "execution_count": 33,
   "id": "86bab0fb",
   "metadata": {},
   "outputs": [
    {
     "name": "stderr",
     "output_type": "stream",
     "text": [
      "100%|██████████████████████████████████████████████████████████████████| 23470205/23470205 [1:27:37<00:00, 4463.75it/s]\n"
     ]
    },
    {
     "data": {
      "text/plain": [
       "[('банк', 624274),\n",
       " ('карта', 331816),\n",
       " ('это', 199740),\n",
       " ('деньга', 178337),\n",
       " ('день', 172634),\n",
       " ('мой', 167035),\n",
       " ('кредит', 154863),\n",
       " ('который', 148990),\n",
       " ('отделение', 143616),\n",
       " ('счёт', 140509)]"
      ]
     },
     "execution_count": 33,
     "metadata": {},
     "output_type": "execute_result"
    }
   ],
   "source": [
    "lemmas = []\n",
    "noun = []\n",
    "for word in tqdm(corpus_without_stop):\n",
    "    temp = morph.parse(word)[0]\n",
    "    lemm = temp.normal_form\n",
    "    lemmas.append(lemm)\n",
    "    if temp.tag.POS == 'NOUN':\n",
    "        noun.append(lemm)\n",
    "freq_dict_lemm = Counter(lemmas)\n",
    "freq_dict_lemm.most_common(10)"
   ]
  },
  {
   "cell_type": "markdown",
   "id": "7df00bc9",
   "metadata": {},
   "source": [
    "- существительных"
   ]
  },
  {
   "cell_type": "code",
   "execution_count": 34,
   "id": "f6d43708",
   "metadata": {},
   "outputs": [
    {
     "data": {
      "text/plain": [
       "[('банк', 624274),\n",
       " ('карта', 331816),\n",
       " ('деньга', 178337),\n",
       " ('день', 172634),\n",
       " ('кредит', 154863),\n",
       " ('отделение', 143616),\n",
       " ('счёт', 140509),\n",
       " ('сотрудник', 133662),\n",
       " ('клиент', 132908),\n",
       " ('сумма', 110914)]"
      ]
     },
     "execution_count": 34,
     "metadata": {},
     "output_type": "execute_result"
    }
   ],
   "source": [
    "freq_dict_noun = Counter(noun)\n",
    "freq_dict_noun.most_common(10)"
   ]
  },
  {
   "cell_type": "markdown",
   "id": "196d0012",
   "metadata": {},
   "source": [
    "#### 1.4 Построить кривые Ципфа и Хипса"
   ]
  },
  {
   "cell_type": "code",
   "execution_count": 36,
   "id": "ec1a1c13",
   "metadata": {},
   "outputs": [
    {
     "data": {
      "image/png": "[encoded data removed]",
      "text/plain": [
       "<Figure size 432x288 with 1 Axes>"
      ]
     },
     "metadata": {
      "needs_background": "light"
     },
     "output_type": "display_data"
    }
   ],
   "source": [
    "freqs = list(freq_dict.values())\n",
    "freqs = sorted(freqs, reverse = True)\n",
    "\n",
    "fig, ax = plt.subplots()\n",
    "ax.plot(range(300), freqs[:300])\n",
    "ax.set_title(u'Кривая Ципфа', fontsize=12)\n",
    "ax.set_title(u'Кривая Ципфа', fontsize=12)\n",
    "plt.show()"
   ]
  },
  {
   "cell_type": "code",
   "execution_count": 38,
   "id": "047fee22",
   "metadata": {},
   "outputs": [
    {
     "name": "stderr",
     "output_type": "stream",
     "text": [
      "100%|█████████████████████████████████████████████████████████████████████████| 153499/153499 [25:18<00:00, 101.11it/s]\n"
     ]
    }
   ],
   "source": [
    "cnt = Counter()\n",
    "n_words = []\n",
    "n_tokens = []\n",
    "tokens = []\n",
    "for index, row in tqdm(df.iterrows(), total = len(df)):\n",
    "    tokens = word_tokenize(row['text'])\n",
    "    cnt.update([token for token in tokens if token not in punctuation])\n",
    "    n_words.append(len(cnt))\n",
    "    n_tokens.append(sum(list(cnt.values())))"
   ]
  },
  {
   "cell_type": "code",
   "execution_count": 39,
   "id": "aa85dec9",
   "metadata": {},
   "outputs": [
    {
     "data": {
      "image/png": "[encoded data removed]",
      "text/plain": [
       "<Figure size 432x288 with 1 Axes>"
      ]
     },
     "metadata": {
      "needs_background": "light"
     },
     "output_type": "display_data"
    }
   ],
   "source": [
    "fig, ax = plt.subplots()\n",
    "ax.plot(n_tokens, n_words)\n",
    "ax.set_title(u'Кривая Хипса', fontsize=12)\n",
    "plt.show()"
   ]
  },
  {
   "cell_type": "markdown",
   "id": "797db427",
   "metadata": {},
   "source": [
    "#### 1.5 Ответить на следующие вопросы:\n",
    "\n",
    "- какое слово встречается чаще, \"сотрудник\" или \"клиент\"?\n",
    "- сколько раз встречается слова \"мошенничество\" и \"доверие\"?"
   ]
  },
  {
   "cell_type": "markdown",
   "id": "5158ecf7",
   "metadata": {},
   "source": [
    "Для ответа на опрос используем корпус с существительными из п.1.3"
   ]
  },
  {
   "cell_type": "code",
   "execution_count": 40,
   "id": "76e0d4b5",
   "metadata": {},
   "outputs": [
    {
     "name": "stdout",
     "output_type": "stream",
     "text": [
      "сотрудник 133662\n",
      "клиент 132908\n",
      "мошенничество 3228\n",
      "доверие 2098\n"
     ]
    }
   ],
   "source": [
    "for val in [\"сотрудник\", \"клиент\", \"мошенничество\", \"доверие\"]:\n",
    "    print(val, freq_dict_noun.get(val))"
   ]
  },
  {
   "cell_type": "markdown",
   "id": "292a5287",
   "metadata": {},
   "source": [
    "**Вывод:** слово \"мошенничество\" встречается чаще, чем \"доверие\". Слова \"сотрудник\" и \"клиент\" встречаются почти с одной частотой: разница встречаемости этих слов 0.5%."
   ]
  },
  {
   "cell_type": "markdown",
   "id": "d73b3459",
   "metadata": {},
   "source": [
    "#### 1.6 В поле \"rating_grade\" записана оценка отзыва по шкале от 1 до 5. Использовать меру для того, чтобы найти ключевые слова и биграмы для положительных отзывов (с оценкой 5) и отрицательных отзывов (с оценкой 1).\n",
    "\n",
    "Ключевые слова будем искать, используя ещё и признак 'title', так как в нём клиент кратко обозначает суть отзыва. "
   ]
  },
  {
   "cell_type": "code",
   "execution_count": 95,
   "id": "5e37ff80",
   "metadata": {},
   "outputs": [],
   "source": [
    "mystopwords = stopwords.words('russian')\n",
    "\n",
    "ru_words = re.compile(\"[А-Яа-я]+\")\n",
    "\n",
    "\n",
    "def get_top_word(bow, count_word = 10):\n",
    "    '''\n",
    "    Принимает на вход результат TfidfVectorizer.fit_transform.\n",
    "    Возвращает список ключевых слов\n",
    "    '''\n",
    "    idx = np.ravel(bow.sum(axis=0).argsort(axis=1))[::-1][:count_word]\n",
    "    top_words = np.array(vec.get_feature_names_out())[idx].tolist()\n",
    "    return top_words\n",
    "\n",
    "\n",
    "def words_only(text):\n",
    "    return \" \".join(ru_words.findall(text))\n",
    "\n",
    "def lemmatize(text):\n",
    "    try:\n",
    "        return  \" \".join([morph.parse(word)[0].normal_form for word in text.lower().split()])\n",
    "    except:\n",
    "        return \" \"\n",
    "\n",
    "def remove_stopwords(text, mystopwords = mystopwords):\n",
    "    try:\n",
    "        return \" \".join([token for token in text.split() if not token in mystopwords])\n",
    "    except:\n",
    "        return \"\"\n",
    " \n",
    "def preprocess(text):\n",
    "    return remove_stopwords(lemmatize(words_only(text.lower())))"
   ]
  },
  {
   "cell_type": "code",
   "execution_count": 66,
   "id": "14bd688c",
   "metadata": {},
   "outputs": [],
   "source": [
    "lemma_df = df.copy()"
   ]
  },
  {
   "cell_type": "code",
   "execution_count": 52,
   "id": "056d9b24",
   "metadata": {},
   "outputs": [],
   "source": [
    "tqdm.pandas()"
   ]
  },
  {
   "cell_type": "code",
   "execution_count": 67,
   "id": "98156e1a",
   "metadata": {},
   "outputs": [
    {
     "name": "stderr",
     "output_type": "stream",
     "text": [
      "100%|████████████████████████████████████████████████████████████████████████| 153499/153499 [3:25:19<00:00, 12.46it/s]\n"
     ]
    }
   ],
   "source": [
    "lemma_df.text = lemma_df.text.astype('str').progress_apply(preprocess)"
   ]
  },
  {
   "cell_type": "code",
   "execution_count": 68,
   "id": "5ce1d831",
   "metadata": {},
   "outputs": [
    {
     "name": "stderr",
     "output_type": "stream",
     "text": [
      "100%|█████████████████████████████████████████████████████████████████████████| 153499/153499 [04:04<00:00, 627.31it/s]\n"
     ]
    }
   ],
   "source": [
    "lemma_df.title = lemma_df.title.astype('str').progress_apply(preprocess)"
   ]
  },
  {
   "cell_type": "code",
   "execution_count": 69,
   "id": "41628746",
   "metadata": {},
   "outputs": [
    {
     "data": {
      "text/html": [
       "<div>\n",
       "<style scoped>\n",
       "    .dataframe tbody tr th:only-of-type {\n",
       "        vertical-align: middle;\n",
       "    }\n",
       "\n",
       "    .dataframe tbody tr th {\n",
       "        vertical-align: top;\n",
       "    }\n",
       "\n",
       "    .dataframe thead th {\n",
       "        text-align: right;\n",
       "    }\n",
       "</style>\n",
       "<table border=\"1\" class=\"dataframe\">\n",
       "  <thead>\n",
       "    <tr style=\"text-align: right;\">\n",
       "      <th></th>\n",
       "      <th>city</th>\n",
       "      <th>rating_not_checked</th>\n",
       "      <th>title</th>\n",
       "      <th>num_comments</th>\n",
       "      <th>bank_license</th>\n",
       "      <th>author</th>\n",
       "      <th>bank_name</th>\n",
       "      <th>datetime</th>\n",
       "      <th>text</th>\n",
       "      <th>rating_grade</th>\n",
       "    </tr>\n",
       "  </thead>\n",
       "  <tbody>\n",
       "    <tr>\n",
       "      <th>0</th>\n",
       "      <td>г. Москва</td>\n",
       "      <td>False</td>\n",
       "      <td>жалоба</td>\n",
       "      <td>0</td>\n",
       "      <td>лицензия № 2562</td>\n",
       "      <td>uhnov1</td>\n",
       "      <td>Бинбанк</td>\n",
       "      <td>2015-06-08 12:50:54</td>\n",
       "      <td>добрый день являться клиент банк поручитель кр...</td>\n",
       "      <td>NaN</td>\n",
       "    </tr>\n",
       "    <tr>\n",
       "      <th>1</th>\n",
       "      <td>г. Новосибирск</td>\n",
       "      <td>False</td>\n",
       "      <td>мочь пользоваться услуга сбербанк лайна</td>\n",
       "      <td>0</td>\n",
       "      <td>лицензия № 1481</td>\n",
       "      <td>Foryou</td>\n",
       "      <td>Сбербанк России</td>\n",
       "      <td>2015-06-08 11:09:57</td>\n",
       "      <td>добрый день являться держатель зарплатный карт...</td>\n",
       "      <td>NaN</td>\n",
       "    </tr>\n",
       "    <tr>\n",
       "      <th>2</th>\n",
       "      <td>г. Москва</td>\n",
       "      <td>False</td>\n",
       "      <td>двойной списание товар</td>\n",
       "      <td>1</td>\n",
       "      <td>лицензия № 2562</td>\n",
       "      <td>Vladimir84</td>\n",
       "      <td>Бинбанк</td>\n",
       "      <td>2015-06-05 20:14:28</td>\n",
       "      <td>здравствуйте дублировать свой заявление можайс...</td>\n",
       "      <td>NaN</td>\n",
       "    </tr>\n",
       "    <tr>\n",
       "      <th>3</th>\n",
       "      <td>г. Ставрополь</td>\n",
       "      <td>False</td>\n",
       "      <td>менять процент комиссия предупредить известить...</td>\n",
       "      <td>2</td>\n",
       "      <td>лицензия № 1481</td>\n",
       "      <td>643609</td>\n",
       "      <td>Сбербанк России</td>\n",
       "      <td>2015-06-05 13:51:01</td>\n",
       "      <td>добрый день открыть расчётный счёт сбербанк юр...</td>\n",
       "      <td>NaN</td>\n",
       "    </tr>\n",
       "    <tr>\n",
       "      <th>4</th>\n",
       "      <td>г. Челябинск</td>\n",
       "      <td>False</td>\n",
       "      <td>вернуть денежный средство страховка</td>\n",
       "      <td>1</td>\n",
       "      <td>лицензия № 2766</td>\n",
       "      <td>anfisa-2003</td>\n",
       "      <td>ОТП Банк</td>\n",
       "      <td>2015-06-05 10:58:12</td>\n",
       "      <td>г взять кредит ваш банк заявить сумма рубль го...</td>\n",
       "      <td>NaN</td>\n",
       "    </tr>\n",
       "  </tbody>\n",
       "</table>\n",
       "</div>"
      ],
      "text/plain": [
       "             city  rating_not_checked  \\\n",
       "0       г. Москва               False   \n",
       "1  г. Новосибирск               False   \n",
       "2       г. Москва               False   \n",
       "3   г. Ставрополь               False   \n",
       "4    г. Челябинск               False   \n",
       "\n",
       "                                               title  num_comments  \\\n",
       "0                                             жалоба             0   \n",
       "1            мочь пользоваться услуга сбербанк лайна             0   \n",
       "2                             двойной списание товар             1   \n",
       "3  менять процент комиссия предупредить известить...             2   \n",
       "4                вернуть денежный средство страховка             1   \n",
       "\n",
       "      bank_license       author        bank_name             datetime  \\\n",
       "0  лицензия № 2562       uhnov1          Бинбанк  2015-06-08 12:50:54   \n",
       "1  лицензия № 1481       Foryou  Сбербанк России  2015-06-08 11:09:57   \n",
       "2  лицензия № 2562   Vladimir84          Бинбанк  2015-06-05 20:14:28   \n",
       "3  лицензия № 1481       643609  Сбербанк России  2015-06-05 13:51:01   \n",
       "4  лицензия № 2766  anfisa-2003         ОТП Банк  2015-06-05 10:58:12   \n",
       "\n",
       "                                                text  rating_grade  \n",
       "0  добрый день являться клиент банк поручитель кр...           NaN  \n",
       "1  добрый день являться держатель зарплатный карт...           NaN  \n",
       "2  здравствуйте дублировать свой заявление можайс...           NaN  \n",
       "3  добрый день открыть расчётный счёт сбербанк юр...           NaN  \n",
       "4  г взять кредит ваш банк заявить сумма рубль го...           NaN  "
      ]
     },
     "execution_count": 69,
     "metadata": {},
     "output_type": "execute_result"
    }
   ],
   "source": [
    "lemma_df.head(5)"
   ]
  },
  {
   "cell_type": "code",
   "execution_count": 76,
   "id": "7337ee2e",
   "metadata": {},
   "outputs": [],
   "source": [
    "positive = lemma_df[lemma_df['rating_grade']==5]\n",
    "negative = lemma_df[lemma_df['rating_grade']==1]"
   ]
  },
  {
   "cell_type": "code",
   "execution_count": 77,
   "id": "4c2a249c",
   "metadata": {},
   "outputs": [],
   "source": [
    "vec = TfidfVectorizer(ngram_range=(1, 2), stop_words=stopword)\n",
    "bow_title = vec.fit(lemma_df['title'])\n",
    "bow_text = vec.fit(lemma_df['text'])"
   ]
  },
  {
   "cell_type": "code",
   "execution_count": 85,
   "id": "8839c574",
   "metadata": {},
   "outputs": [],
   "source": [
    "bow_positive_title = bow_title.transform(positive['title'])\n",
    "bow_positive_text = bow_text.transform(positive['text'])"
   ]
  },
  {
   "cell_type": "code",
   "execution_count": 87,
   "id": "a71b2209",
   "metadata": {},
   "outputs": [
    {
     "name": "stdout",
     "output_type": "stream",
     "text": [
      "Ключевые слова и биграммы для title для положительных отзывов:\n"
     ]
    },
    {
     "data": {
      "text/plain": [
       "['благодарность',\n",
       " 'банк',\n",
       " 'отличный',\n",
       " 'хороший',\n",
       " 'обслуживание',\n",
       " 'спасибо',\n",
       " 'хороший банк',\n",
       " 'отличный банк',\n",
       " 'довольный',\n",
       " 'ипотека']"
      ]
     },
     "execution_count": 87,
     "metadata": {},
     "output_type": "execute_result"
    }
   ],
   "source": [
    "print('Ключевые слова и биграммы для title для положительных отзывов:')\n",
    "get_top_word(bow_positive_title)"
   ]
  },
  {
   "cell_type": "code",
   "execution_count": 88,
   "id": "b2d4723d",
   "metadata": {},
   "outputs": [
    {
     "name": "stdout",
     "output_type": "stream",
     "text": [
      "Ключевые слова и биграммы для text для положительных отзывов:\n"
     ]
    },
    {
     "data": {
      "text/plain": [
       "['банк',\n",
       " 'карта',\n",
       " 'всё',\n",
       " 'очень',\n",
       " 'вклад',\n",
       " 'это',\n",
       " 'кредит',\n",
       " 'отделение',\n",
       " 'клиент',\n",
       " 'офис']"
      ]
     },
     "execution_count": 88,
     "metadata": {},
     "output_type": "execute_result"
    }
   ],
   "source": [
    "print('Ключевые слова и биграммы для text для положительных отзывов:')\n",
    "get_top_word(bow_positive_text)"
   ]
  },
  {
   "cell_type": "code",
   "execution_count": 89,
   "id": "18d88235",
   "metadata": {},
   "outputs": [],
   "source": [
    "bow_negative_title = bow_title.transform(negative['title'])\n",
    "bow_negative_text = bow_text.transform(negative['text'])"
   ]
  },
  {
   "cell_type": "code",
   "execution_count": 92,
   "id": "f08ec5c3",
   "metadata": {},
   "outputs": [
    {
     "name": "stdout",
     "output_type": "stream",
     "text": [
      "Ключевые слова и биграммы для title для отрицательных отзывов:\n"
     ]
    },
    {
     "data": {
      "text/plain": [
       "['банк',\n",
       " 'карта',\n",
       " 'деньга',\n",
       " 'банкомат',\n",
       " 'обслуживание',\n",
       " 'отвратительный',\n",
       " 'сбербанк',\n",
       " 'кредит',\n",
       " 'клиент',\n",
       " 'ужасный']"
      ]
     },
     "execution_count": 92,
     "metadata": {},
     "output_type": "execute_result"
    }
   ],
   "source": [
    "print('Ключевые слова и биграммы для title для отрицательных отзывов:')\n",
    "get_top_word(bow_negative_title)"
   ]
  },
  {
   "cell_type": "code",
   "execution_count": 93,
   "id": "fc584ac0",
   "metadata": {},
   "outputs": [
    {
     "name": "stdout",
     "output_type": "stream",
     "text": [
      "Ключевые слова и биграммы для text для отрицательных отзывов:\n"
     ]
    },
    {
     "data": {
      "text/plain": [
       "['банк',\n",
       " 'карта',\n",
       " 'это',\n",
       " 'деньга',\n",
       " 'отделение',\n",
       " 'кредит',\n",
       " 'день',\n",
       " 'счёт',\n",
       " 'заявление',\n",
       " 'сотрудник']"
      ]
     },
     "execution_count": 93,
     "metadata": {},
     "output_type": "execute_result"
    }
   ],
   "source": [
    "print('Ключевые слова и биграммы для text для отрицательных отзывов:')\n",
    "get_top_word(bow_negative_text)"
   ]
  },
  {
   "cell_type": "markdown",
   "id": "7e33cc71",
   "metadata": {},
   "source": [
    "### Часть 2. Тематическое моделирование\n",
    "\n",
    "#### 2.1 Построить несколько тематических моделей коллекции документов с разным числом тем. Привести примеры понятных (интерпретируемых) тем."
   ]
  },
  {
   "cell_type": "code",
   "execution_count": 96,
   "id": "2cba49f8",
   "metadata": {},
   "outputs": [],
   "source": [
    "texts = [text.split() for text in lemma_df.text]\n",
    "dictionary = Dictionary(texts)\n",
    "corpus = [dictionary.doc2bow(text) for text in texts]"
   ]
  },
  {
   "cell_type": "code",
   "execution_count": 97,
   "id": "1778abb4",
   "metadata": {},
   "outputs": [],
   "source": [
    "tfidf = TfidfModel(corpus)\n",
    "corpus_tfidf = tfidf[corpus]"
   ]
  },
  {
   "cell_type": "markdown",
   "id": "7c9b75ea",
   "metadata": {},
   "source": [
    "Построим модели с различным числом тем: 5, 20, 501"
   ]
  },
  {
   "cell_type": "code",
   "execution_count": 100,
   "id": "6d19ff2c",
   "metadata": {},
   "outputs": [
    {
     "data": {
      "text/plain": [
       "[(0,\n",
       "  '0.195*\"карта\" + 0.134*\"кредит\" + 0.115*\"деньга\" + 0.109*\"заявление\" + 0.107*\"счёт\" + 0.101*\"вклад\" + 0.100*\"банкомат\" + 0.100*\"отделение\" + 0.097*\"сбербанк\" + 0.096*\"сумма\"'),\n",
       " (1,\n",
       "  '-0.478*\"вклад\" + 0.332*\"кредит\" + 0.164*\"страховка\" + 0.147*\"платёж\" + 0.145*\"задолженность\" + 0.135*\"погашение\" + -0.129*\"банкомат\" + -0.128*\"очередь\" + -0.121*\"карта\" + -0.120*\"открыть\"'),\n",
       " (2,\n",
       "  '-0.400*\"вклад\" + 0.264*\"карта\" + 0.263*\"банкомат\" + -0.212*\"кредит\" + 0.205*\"сбербанк\" + -0.147*\"страховка\" + 0.141*\"операция\" + -0.137*\"договор\" + 0.128*\"средство\" + 0.125*\"деньга\"'),\n",
       " (3,\n",
       "  '-0.273*\"вклад\" + -0.210*\"сумма\" + 0.201*\"заявка\" + 0.200*\"номер\" + -0.182*\"руб\" + -0.166*\"договор\" + 0.160*\"звонок\" + -0.153*\"платёж\" + -0.147*\"средство\" + -0.146*\"погашение\"'),\n",
       " (4,\n",
       "  '0.281*\"вклад\" + 0.278*\"номер\" + 0.235*\"звонок\" + -0.219*\"страховка\" + -0.191*\"заявка\" + 0.171*\"ваш\" + 0.149*\"поступать\" + 0.141*\"персональный\" + 0.139*\"данные\" + 0.133*\"телефон\"')]"
      ]
     },
     "execution_count": 100,
     "metadata": {},
     "output_type": "execute_result"
    }
   ],
   "source": [
    "lsi_5 = lsimodel.LsiModel(corpus=corpus_tfidf, id2word=dictionary, num_topics=5)\n",
    "lsi_5.show_topics(5)"
   ]
  },
  {
   "cell_type": "code",
   "execution_count": 101,
   "id": "cc311355",
   "metadata": {},
   "outputs": [
    {
     "data": {
      "text/plain": [
       "[(0,\n",
       "  '0.194*\"карта\" + 0.133*\"кредит\" + 0.115*\"деньга\" + 0.109*\"заявление\" + 0.107*\"счёт\" + 0.101*\"банкомат\" + 0.101*\"вклад\" + 0.100*\"отделение\" + 0.096*\"сбербанк\" + 0.096*\"сумма\"'),\n",
       " (1,\n",
       "  '-0.383*\"вклад\" + 0.358*\"кредит\" + -0.211*\"банкомат\" + -0.170*\"карта\" + 0.167*\"страховка\" + 0.149*\"платёж\" + 0.146*\"задолженность\" + 0.141*\"погашение\" + -0.121*\"деньга\" + 0.117*\"звонок\"'),\n",
       " (2,\n",
       "  '-0.499*\"вклад\" + 0.277*\"банкомат\" + 0.218*\"карта\" + 0.186*\"сбербанк\" + 0.134*\"заявление\" + -0.129*\"кредит\" + 0.122*\"операция\" + 0.119*\"деньга\" + -0.118*\"договор\" + 0.118*\"средство\"'),\n",
       " (3,\n",
       "  '-0.270*\"вклад\" + -0.220*\"сумма\" + 0.194*\"номер\" + -0.192*\"руб\" + 0.170*\"заявка\" + -0.158*\"погашение\" + -0.155*\"платёж\" + -0.154*\"договор\" + 0.148*\"звонок\" + -0.145*\"процент\"'),\n",
       " (4,\n",
       "  '0.323*\"вклад\" + 0.270*\"номер\" + -0.239*\"карта\" + -0.217*\"страховка\" + -0.191*\"заявка\" + 0.189*\"звонок\" + -0.149*\"кредит\" + 0.138*\"телефон\" + 0.138*\"ваш\" + -0.121*\"лимит\"')]"
      ]
     },
     "execution_count": 101,
     "metadata": {},
     "output_type": "execute_result"
    }
   ],
   "source": [
    "lsi_20 = lsimodel.LsiModel(corpus=corpus_tfidf, id2word=dictionary, num_topics=20)\n",
    "lsi_20.show_topics(5)"
   ]
  },
  {
   "cell_type": "code",
   "execution_count": 102,
   "id": "170b76d7",
   "metadata": {},
   "outputs": [
    {
     "data": {
      "text/plain": [
       "[(0,\n",
       "  '0.194*\"карта\" + 0.133*\"кредит\" + 0.115*\"деньга\" + 0.109*\"заявление\" + 0.107*\"счёт\" + 0.101*\"банкомат\" + 0.101*\"вклад\" + 0.100*\"отделение\" + 0.096*\"сбербанк\" + 0.096*\"сумма\"'),\n",
       " (1,\n",
       "  '-0.366*\"вклад\" + 0.364*\"кредит\" + -0.223*\"банкомат\" + -0.177*\"карта\" + 0.169*\"страховка\" + 0.146*\"задолженность\" + 0.142*\"платёж\" + 0.139*\"погашение\" + -0.124*\"деньга\" + 0.117*\"звонок\"'),\n",
       " (2,\n",
       "  '-0.510*\"вклад\" + 0.272*\"банкомат\" + 0.212*\"карта\" + 0.183*\"сбербанк\" + 0.135*\"заявление\" + -0.119*\"очередь\" + 0.118*\"операция\" + -0.117*\"кредит\" + 0.114*\"средство\" + 0.114*\"деньга\"'),\n",
       " (3,\n",
       "  '-0.260*\"вклад\" + -0.219*\"сумма\" + 0.205*\"номер\" + -0.189*\"руб\" + 0.171*\"заявка\" + -0.158*\"погашение\" + -0.156*\"платёж\" + -0.155*\"договор\" + 0.155*\"звонок\" + -0.146*\"рубль\"'),\n",
       " (4,\n",
       "  '0.328*\"вклад\" + 0.268*\"номер\" + -0.259*\"карта\" + -0.206*\"страховка\" + -0.195*\"заявка\" + 0.189*\"звонок\" + 0.143*\"ваш\" + 0.137*\"телефон\" + -0.136*\"кредит\" + -0.127*\"лимит\"')]"
      ]
     },
     "execution_count": 102,
     "metadata": {},
     "output_type": "execute_result"
    }
   ],
   "source": [
    "lsi_50 = lsimodel.LsiModel(corpus=corpus_tfidf, id2word=dictionary, num_topics=50)\n",
    "lsi_50.show_topics(5)"
   ]
  },
  {
   "cell_type": "markdown",
   "id": "6fb07d21",
   "metadata": {},
   "source": [
    "**Вывод:** для различного числа тем для моделей изменения коснулись только размера вклада тем.\n",
    "Получили понятные темы: карта, кредит, страховка, банкомат и тд."
   ]
  },
  {
   "cell_type": "markdown",
   "id": "e5089748",
   "metadata": {},
   "source": [
    "#### 2.2 Найти темы, в которых упомянуты конкретные банки (Сбербанк, ВТБ, другой банк). Можете ли вы их прокомментировать / объяснить?\n",
    "Проверим первые 20 отзывов на основе модели lsi_20 на наличие тем, связанных с конкретными банками."
   ]
  },
  {
   "cell_type": "code",
   "execution_count": 111,
   "id": "7368d922",
   "metadata": {
    "scrolled": true
   },
   "outputs": [
    {
     "data": {
      "text/plain": [
       "[[0,\n",
       "  [('карта', 0.19449843186668436),\n",
       "   ('кредит', 0.13333041995845443),\n",
       "   ('деньга', 0.11490045154092841),\n",
       "   ('заявление', 0.10890373780164807),\n",
       "   ('счёт', 0.10682018722587537),\n",
       "   ('банкомат', 0.1012599334872163),\n",
       "   ('вклад', 0.10068696632484765),\n",
       "   ('отделение', 0.10036893847003552),\n",
       "   ('сбербанк', 0.09635361858864562),\n",
       "   ('сумма', 0.09589968369256853)]],\n",
       " [2,\n",
       "  [('вклад', -0.49855451259464956),\n",
       "   ('банкомат', 0.27680956196075185),\n",
       "   ('карта', 0.21809568028293203),\n",
       "   ('сбербанк', 0.18572642174224552),\n",
       "   ('заявление', 0.13353570836490183),\n",
       "   ('кредит', -0.12864067034291587),\n",
       "   ('операция', 0.1216334715271755),\n",
       "   ('деньга', 0.11853652747996019),\n",
       "   ('договор', -0.11810494398782312),\n",
       "   ('средство', 0.11794322807135532)]],\n",
       " [6,\n",
       "  [('заявка', 0.2504144795411299),\n",
       "   ('сбербанк', 0.24475433507137184),\n",
       "   ('заявление', 0.20561149048663868),\n",
       "   ('страховка', 0.19387681654053618),\n",
       "   ('платёж', -0.18685556337158532),\n",
       "   ('страхование', 0.1534567325558659),\n",
       "   ('документ', 0.14836507046278163),\n",
       "   ('рассмотрение', 0.14660585105571514),\n",
       "   ('задолженность', -0.14315221126244593),\n",
       "   ('вклад', 0.1344485372662651)]],\n",
       " [7,\n",
       "  [('вклад', -0.30023953346267707),\n",
       "   ('перевод', 0.2753296773114241),\n",
       "   ('сбербанк', 0.2553121479270417),\n",
       "   ('карта', -0.24661600292545857),\n",
       "   ('банкомат', -0.22254225581800588),\n",
       "   ('платёж', 0.15425642650870358),\n",
       "   ('счёт', 0.1159025777044768),\n",
       "   ('задолженность', -0.1130711327795679),\n",
       "   ('заявление', -0.11176212787234538),\n",
       "   ('терминал', 0.1113253882003801)]],\n",
       " [8,\n",
       "  [('банкомат', 0.31621310271566216),\n",
       "   ('сбербанк', -0.2362045510639986),\n",
       "   ('платёж', -0.20630568572234342),\n",
       "   ('страховка', 0.20280413106301282),\n",
       "   ('альфа', 0.17162036729204708),\n",
       "   ('страхование', 0.15800097950270586),\n",
       "   ('комиссия', 0.13328856599444672),\n",
       "   ('услуга', 0.12664773885049005),\n",
       "   ('погашение', -0.12096347007658115),\n",
       "   ('ваш', 0.10934026207620227)]],\n",
       " [8,\n",
       "  [('банкомат', 0.31621310271566216),\n",
       "   ('сбербанк', -0.2362045510639986),\n",
       "   ('платёж', -0.20630568572234342),\n",
       "   ('страховка', 0.20280413106301282),\n",
       "   ('альфа', 0.17162036729204708),\n",
       "   ('страхование', 0.15800097950270586),\n",
       "   ('комиссия', 0.13328856599444672),\n",
       "   ('услуга', 0.12664773885049005),\n",
       "   ('погашение', -0.12096347007658115),\n",
       "   ('ваш', 0.10934026207620227)]],\n",
       " [9,\n",
       "  [('страховка', -0.39661270350323186),\n",
       "   ('сбербанк', -0.3340274585088389),\n",
       "   ('заявка', 0.24637807006713805),\n",
       "   ('страхование', -0.18525376028990523),\n",
       "   ('номер', -0.16213278436566347),\n",
       "   ('документ', 0.13866341510045557),\n",
       "   ('смс', -0.1307056025298584),\n",
       "   ('страховой', -0.12806360512797216),\n",
       "   ('рассмотрение', 0.12036483358108481),\n",
       "   ('средство', 0.11851008248449205)]],\n",
       " [10,\n",
       "  [('заявка', -0.31051291242607953),\n",
       "   ('кошелёк', -0.18362076632768512),\n",
       "   ('карта', 0.18307612096798626),\n",
       "   ('смс', -0.1630615195317184),\n",
       "   ('вклад', -0.16217558262899126),\n",
       "   ('заявление', 0.15663186640270088),\n",
       "   ('страховка', -0.15468389552882758),\n",
       "   ('киви', -0.15465431632857662),\n",
       "   ('сбербанк', 0.14613984700379123),\n",
       "   ('очередь', 0.14310998710650774)]],\n",
       " [11,\n",
       "  [('сбербанк', 0.43808801294303107),\n",
       "   ('счёт', -0.23040869670352968),\n",
       "   ('страховка', -0.2152963138569768),\n",
       "   ('перевод', -0.21198311214616347),\n",
       "   ('заявление', -0.1568814351012277),\n",
       "   ('заявка', 0.14902559539549648),\n",
       "   ('терминал', 0.14365452872853085),\n",
       "   ('онлайн', 0.13923026208170428),\n",
       "   ('вклад', 0.13873637796752442),\n",
       "   ('кредит', 0.1345862949432014)]],\n",
       " [12,\n",
       "  [('терминал', 0.3927538837414339),\n",
       "   ('сбербанк', -0.30323622003147394),\n",
       "   ('кошелёк', 0.2586923701205164),\n",
       "   ('перевод', -0.22543534013554573),\n",
       "   ('киви', 0.21799243802295057),\n",
       "   ('комиссия', -0.18816882013846079),\n",
       "   ('платёж', 0.13666487014955456),\n",
       "   ('договор', 0.13040947803979056),\n",
       "   ('счёт', -0.1295956113870498),\n",
       "   ('заявка', -0.1156574446983235)]],\n",
       " [13,\n",
       "  [('кошелёк', 0.3267709918500963),\n",
       "   ('киви', 0.24164465798672133),\n",
       "   ('смс', -0.2096202199373432),\n",
       "   ('погашение', -0.19737785521051207),\n",
       "   ('услуга', -0.1834317460044304),\n",
       "   ('досрочный', -0.1746906270920578),\n",
       "   ('альфа', -0.16616373324095812),\n",
       "   ('претензия', -0.13275732093530143),\n",
       "   ('подключить', -0.13195753627018345),\n",
       "   ('терминал', 0.12626256140298722)]],\n",
       " [14,\n",
       "  [('руб', 0.38900441671758174),\n",
       "   ('терминал', 0.3112248839906937),\n",
       "   ('комиссия', 0.23826430509977534),\n",
       "   ('кошелёк', -0.18651698229825428),\n",
       "   ('заявка', 0.17965053522566687),\n",
       "   ('банкомат', -0.1571717042795379),\n",
       "   ('альфа', -0.1288871681294632),\n",
       "   ('очередь', 0.12165825419208096),\n",
       "   ('заблокировать', -0.12120515129636879),\n",
       "   ('касса', 0.1190663606192361)]]]"
      ]
     },
     "execution_count": 111,
     "metadata": {},
     "output_type": "execute_result"
    }
   ],
   "source": [
    "banks = ['сбербанк', 'альфа', 'втб', 'тинькофф']\n",
    "responses = []\n",
    "\n",
    "for idx in range(20):\n",
    "    for response in lsi_20.show_topic(topicno=idx, topn=10):\n",
    "        if response[0] in banks:\n",
    "            responses.append([idx, lsi_20.show_topic(topicno=idx, topn=10)])\n",
    "\n",
    "responses"
   ]
  },
  {
   "cell_type": "markdown",
   "id": "c05aad05",
   "metadata": {},
   "source": [
    "Для примера интерпритируем отзыв с idx=2, для которого указаны темы: банкомат, карта, сбербанк, заявлением, операция, деньга, средство. Можно предположить, что отзыв связан с операцией с деньгами по карте в банкомате Сбербанка, из-за которой клиенту пришлось написать заявление в банк."
   ]
  },
  {
   "cell_type": "markdown",
   "id": "2bca063a",
   "metadata": {},
   "source": [
    "### Часть 3. Классификация текстов\n",
    "#### 3.1 Сформулировать для простоты задачу бинарной классификации: классифицировать на два класса, то есть, различать резко отрицательные отзывы (с оценкой 1) и положительные отзывы (с оценкой 5)."
   ]
  },
  {
   "cell_type": "markdown",
   "id": "b4634d76",
   "metadata": {},
   "source": [
    "Используем датафреймы positive и negative, полученные в п.1.6, оставим в них только text"
   ]
  },
  {
   "cell_type": "code",
   "execution_count": 129,
   "id": "9e6f9a01",
   "metadata": {},
   "outputs": [],
   "source": [
    "data = pd.concat([positive, negative])"
   ]
  },
  {
   "cell_type": "code",
   "execution_count": 137,
   "id": "bab63f81",
   "metadata": {},
   "outputs": [],
   "source": [
    "X = data['text']\n",
    "y = data['rating_grade']"
   ]
  },
  {
   "cell_type": "code",
   "execution_count": 138,
   "id": "d2df0590",
   "metadata": {},
   "outputs": [
    {
     "data": {
      "text/plain": [
       "98     досрочно закрывать вклад отпуск жена заказыват...\n",
       "122    хотеть открыть вклад доходный год процент начи...\n",
       "157    вчера июнь просидеть очередь х час получение с...\n",
       "259    сегодня открывать вклад это банк очередь клиен...\n",
       "266    история получение кредит ренессанс кредит банк...\n",
       "Name: text, dtype: object"
      ]
     },
     "execution_count": 138,
     "metadata": {},
     "output_type": "execute_result"
    }
   ],
   "source": [
    "X.head()"
   ]
  },
  {
   "cell_type": "markdown",
   "id": "52cc84e9",
   "metadata": {},
   "source": [
    "#### 3.2 Составить обучающее и тестовое множество: выбрать из всего набора данных N1 отзывов с оценкой 1 и N2 отзывов с оценкой 5 (значение N1 и N2 – на ваше усмотрение). Использовать sklearn.model_selection.train_test_split для разделения множества отобранных документов на обучающее и тестовое."
   ]
  },
  {
   "cell_type": "code",
   "execution_count": 139,
   "id": "dd8bf947",
   "metadata": {},
   "outputs": [],
   "source": [
    "X_train, X_test, y_train, y_test = train_test_split(X, y, test_size=0.3, random_state = 21)"
   ]
  },
  {
   "cell_type": "markdown",
   "id": "69a4dcdd",
   "metadata": {},
   "source": [
    "#### 3.3 Использовать любой известный алгоритм классификации текстов для решения задачи и получите baseline. Сравнить разные варианты векторизации текста: с использованием только униграм, пар или троек слов или с использованием символьных n-грамм"
   ]
  },
  {
   "cell_type": "code",
   "execution_count": 146,
   "id": "88cb1571",
   "metadata": {},
   "outputs": [],
   "source": [
    "def random_forest_n_gram(n, analyzer='word'):\n",
    "    '''Принимает размер n-gram и строит модель'''\n",
    "    vec = CountVectorizer(analyzer=analyzer, ngram_range=(n, n))\n",
    "    bow = vec.fit_transform(X_train)\n",
    "    \n",
    "    model = RandomForestClassifier(random_state=21)\n",
    "    model.fit(bow, y_train)\n",
    "    \n",
    "    pred = model.predict(vec.transform(X_test))\n",
    "    print(classification_report(pred, y_test))"
   ]
  },
  {
   "cell_type": "code",
   "execution_count": 147,
   "id": "61ad2b66",
   "metadata": {},
   "outputs": [
    {
     "name": "stdout",
     "output_type": "stream",
     "text": [
      "Модель с использованием только униграм\n",
      "              precision    recall  f1-score   support\n",
      "\n",
      "         1.0       1.00      0.89      0.94     15848\n",
      "         5.0       0.62      0.99      0.76      2782\n",
      "\n",
      "    accuracy                           0.91     18630\n",
      "   macro avg       0.81      0.94      0.85     18630\n",
      "weighted avg       0.94      0.91      0.91     18630\n",
      "\n"
     ]
    }
   ],
   "source": [
    "print('Модель с использованием только униграм')\n",
    "random_forest_n_gram(1)"
   ]
  },
  {
   "cell_type": "code",
   "execution_count": 148,
   "id": "5c73442f",
   "metadata": {},
   "outputs": [
    {
     "name": "stdout",
     "output_type": "stream",
     "text": [
      "Модель с использованием только биграм\n",
      "              precision    recall  f1-score   support\n",
      "\n",
      "         1.0       0.99      0.90      0.94     15605\n",
      "         5.0       0.64      0.95      0.77      3025\n",
      "\n",
      "    accuracy                           0.91     18630\n",
      "   macro avg       0.82      0.92      0.85     18630\n",
      "weighted avg       0.93      0.91      0.91     18630\n",
      "\n"
     ]
    }
   ],
   "source": [
    "print('Модель с использованием только биграм')\n",
    "random_forest_n_gram(2)"
   ]
  },
  {
   "cell_type": "code",
   "execution_count": 149,
   "id": "6c5eb5c0",
   "metadata": {},
   "outputs": [
    {
     "name": "stdout",
     "output_type": "stream",
     "text": [
      "Модель с использованием только триграм\n",
      "              precision    recall  f1-score   support\n",
      "\n",
      "         1.0       0.99      0.84      0.91     16630\n",
      "         5.0       0.41      0.92      0.57      2000\n",
      "\n",
      "    accuracy                           0.85     18630\n",
      "   macro avg       0.70      0.88      0.74     18630\n",
      "weighted avg       0.93      0.85      0.87     18630\n",
      "\n"
     ]
    }
   ],
   "source": [
    "print('Модель с использованием только триграм')\n",
    "random_forest_n_gram(3)"
   ]
  },
  {
   "cell_type": "code",
   "execution_count": 150,
   "id": "9033e219",
   "metadata": {},
   "outputs": [
    {
     "name": "stdout",
     "output_type": "stream",
     "text": [
      "Модель с использованием использованием символьных n-грамм\n",
      "              precision    recall  f1-score   support\n",
      "\n",
      "         1.0       0.98      0.80      0.88     17367\n",
      "         5.0       0.21      0.76      0.33      1263\n",
      "\n",
      "    accuracy                           0.80     18630\n",
      "   macro avg       0.60      0.78      0.61     18630\n",
      "weighted avg       0.93      0.80      0.84     18630\n",
      "\n"
     ]
    }
   ],
   "source": [
    "print('Модель с использованием использованием символьных n-грамм')\n",
    "random_forest_n_gram(1, analyzer='char')"
   ]
  },
  {
   "cell_type": "markdown",
   "id": "2171b846",
   "metadata": {},
   "source": [
    "**Вывод:** модели RandomForestClassifier на основе униграмм и биграмм показали примерно одинаковую точность 0.91"
   ]
  },
  {
   "cell_type": "markdown",
   "id": "07991314",
   "metadata": {},
   "source": [
    "#### 3.4 Сравнить, как изменяется качество решения задачи при использовании скрытых тем в качестве признаков:\n",
    "- преобразование (sklearn.feature_extraction.text.TfidfTransformer) и сингулярное разложение (оно же – латентый семантический анализ) (sklearn.decomposition.TruncatedSVD)"
   ]
  },
  {
   "cell_type": "code",
   "execution_count": 152,
   "id": "7bc22744",
   "metadata": {},
   "outputs": [],
   "source": [
    "model_tf_idf_TruncatedSVD = Pipeline([ \n",
    "    ('vect', CountVectorizer()), \n",
    "    ('tfidf', TfidfTransformer()), \n",
    "    ('tm', TruncatedSVD()), \n",
    "    ('model', RandomForestClassifier())\n",
    "])"
   ]
  },
  {
   "cell_type": "code",
   "execution_count": 153,
   "id": "d4499bb5",
   "metadata": {},
   "outputs": [
    {
     "data": {
      "text/plain": [
       "Pipeline(steps=[('vect', CountVectorizer()), ('tfidf', TfidfTransformer()),\n",
       "                ('tm', TruncatedSVD()), ('model', RandomForestClassifier())])"
      ]
     },
     "execution_count": 153,
     "metadata": {},
     "output_type": "execute_result"
    }
   ],
   "source": [
    "model_tf_idf_TruncatedSVD.fit(X_train, y_train)"
   ]
  },
  {
   "cell_type": "code",
   "execution_count": 154,
   "id": "33c6e5a0",
   "metadata": {},
   "outputs": [
    {
     "name": "stdout",
     "output_type": "stream",
     "text": [
      "              precision    recall  f1-score   support\n",
      "\n",
      "         1.0       0.90      0.78      0.84     16500\n",
      "         5.0       0.17      0.36      0.23      2130\n",
      "\n",
      "    accuracy                           0.73     18630\n",
      "   macro avg       0.54      0.57      0.54     18630\n",
      "weighted avg       0.82      0.73      0.77     18630\n",
      "\n"
     ]
    }
   ],
   "source": [
    "truncatedsvd_pred = model_tf_idf_TruncatedSVD.predict(X_test)\n",
    "print(classification_report(truncatedsvd_pred, y_test))"
   ]
  },
  {
   "cell_type": "markdown",
   "id": "ab2030c2",
   "metadata": {},
   "source": [
    "- тематические модели LDA (sklearn.decomposition.LatentDirichletAllocation). Используйте accuracy и F-measure для оценки качества классификации."
   ]
  },
  {
   "cell_type": "code",
   "execution_count": 155,
   "id": "2d480b35",
   "metadata": {},
   "outputs": [],
   "source": [
    "model_tf_idf_LDA = Pipeline([\n",
    "     ('vect', CountVectorizer()),\n",
    "     ('lda', LatentDirichletAllocation()),\n",
    "     ('model', RandomForestClassifier())\n",
    "])"
   ]
  },
  {
   "cell_type": "code",
   "execution_count": 156,
   "id": "b95f39c1",
   "metadata": {},
   "outputs": [
    {
     "name": "stdout",
     "output_type": "stream",
     "text": [
      "              precision    recall  f1-score   support\n",
      "\n",
      "         1.0       0.96      0.94      0.95     14564\n",
      "         5.0       0.79      0.87      0.83      4066\n",
      "\n",
      "    accuracy                           0.92     18630\n",
      "   macro avg       0.88      0.90      0.89     18630\n",
      "weighted avg       0.92      0.92      0.92     18630\n",
      "\n"
     ]
    }
   ],
   "source": [
    "model_tf_idf_LDA.fit(X_train, y_train)\n",
    "lda_pred = model_tf_idf_LDA.predict(X_test)\n",
    "print(classification_report(lda_pred, y_test))"
   ]
  },
  {
   "cell_type": "markdown",
   "id": "d1746ec7",
   "metadata": {},
   "source": [
    "**Вывод:** классификация текстов на основе LDA показала куда более высокую точность 0.92 по сравнению с моделью на основе сингулярного разложения TruncatedSVD 0.73"
   ]
  },
  {
   "cell_type": "markdown",
   "id": "ae74023a",
   "metadata": {},
   "source": [
    "### Выводы\n",
    "В работе были рассмотрены различные аспекты классификации по тональности отзывов на банки: анализ основных характеристик, тематическое моделирование и классификация на основе классической модели RandomForestClassifier с использованием TruncatedSVD и LDA.\n",
    "\n",
    "Модель классификации на основе LDA показал хорошую точность 0.92, при этом он превышает по скорости классическую модель RandomForestClassifier."
   ]
  }
 ],
 "metadata": {
  "kernelspec": {
   "display_name": "Python 3 (ipykernel)",
   "language": "python",
   "name": "python3"
  },
  "language_info": {
   "codemirror_mode": {
    "name": "ipython",
    "version": 3
   },
   "file_extension": ".py",
   "mimetype": "text/x-python",
   "name": "python",
   "nbconvert_exporter": "python",
   "pygments_lexer": "ipython3",
   "version": "3.10.9"
  }
 },
 "nbformat": 4,
 "nbformat_minor": 5
}
