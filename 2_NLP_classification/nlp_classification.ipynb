{
 "cells": [
  {
   "cell_type": "markdown",
   "id": "178e3752",
   "metadata": {
    "id": "178e3752"
   },
   "source": [
    "### Описание задания\n",
    "\n",
    "На основе данных твитов [fakenews](https://raw.githubusercontent.com/diptamath/covid_fake_news/main/data/Constraint_Train.csv) произвести классификацию текста различными методами.\n",
    "\n",
    "Получить для обученных моделей классификации значение f1 выше 0.91 для методов на sklearn и выше 0.52 для методов на pytorch."
   ]
  },
  {
   "cell_type": "code",
   "execution_count": 1,
   "id": "167bbbe0",
   "metadata": {
    "executionInfo": {
     "elapsed": 3402,
     "status": "ok",
     "timestamp": 1687207461481,
     "user": {
      "displayName": "Максим С",
      "userId": "03675471117906283736"
     },
     "user_tz": -180
    },
    "id": "167bbbe0"
   },
   "outputs": [],
   "source": [
    "import numpy as np\n",
    "import pandas as pd\n",
    "\n",
    "from collections import Counter\n",
    "from gensim.models.word2vec import Word2Vec\n",
    "from nltk.tokenize import word_tokenize\n",
    "from tqdm import tqdm\n",
    "\n",
    "from sklearn.feature_extraction.text import CountVectorizer\n",
    "from sklearn.linear_model import LogisticRegression\n",
    "from sklearn.model_selection import train_test_split\n",
    "from sklearn.metrics import classification_report\n",
    "\n",
    "import torch\n",
    "import torch.nn as nn\n",
    "import torch.optim as optim"
   ]
  },
  {
   "cell_type": "markdown",
   "id": "4255800d",
   "metadata": {
    "id": "4255800d"
   },
   "source": [
    "### Необходимые функции и классы"
   ]
  },
  {
   "cell_type": "code",
   "execution_count": 2,
   "id": "7809e5cf",
   "metadata": {
    "executionInfo": {
     "elapsed": 152,
     "status": "ok",
     "timestamp": 1687207461484,
     "user": {
      "displayName": "Максим С",
      "userId": "03675471117906283736"
     },
     "user_tz": -180
    },
    "id": "7809e5cf"
   },
   "outputs": [],
   "source": [
    "def get_embedding(text, max_len=None):\n",
    "    '''Получение эмбеддингов'''\n",
    "    result = []\n",
    "    if not max_len:\n",
    "        for word in word_tokenize(text.lower()):\n",
    "            if word in model_tweets.wv:\n",
    "                result.append(model_tweets.wv[word])\n",
    "\n",
    "        if len(result):\n",
    "            result = np.sum(result, axis=0)\n",
    "        else:\n",
    "            result = np.zeros(300)\n",
    "    else:\n",
    "        for i in range(max_len):\n",
    "            if i < len(text):\n",
    "                word = text[i]\n",
    "                if word in model_tweets.wv:\n",
    "                    result.append(model_tweets.wv[word])\n",
    "                else:\n",
    "                    result.append(np.zeros(300))\n",
    "            else:\n",
    "                result.append(np.zeros(300))\n",
    "    return result\n",
    "\n",
    "\n",
    "def train_one_epoch(in_data, targets, batch_size=16):\n",
    "    '''Train func for LSTM'''\n",
    "    for i in tqdm(range(0, in_data.shape[0], batch_size)):\n",
    "        batch_x = in_data[i:i + batch_size].cuda()\n",
    "        batch_y = targets[i:i + batch_size].cuda()\n",
    "        optimizer.zero_grad()\n",
    "        output = net(batch_x)\n",
    "        loss = criterion(output.reshape(-1), batch_y)\n",
    "        loss.backward()\n",
    "        optimizer.step()\n",
    "    print(loss)\n",
    "\n",
    "\n",
    "class BiLSTM(nn.Module):\n",
    "    '''RNN LSTM'''\n",
    "    def __init__(self):\n",
    "        super(BiLSTM, self).__init__()\n",
    "        self.lstm = nn.LSTM(300, 100)\n",
    "        self.out = nn.Linear(100, 1)\n",
    "\n",
    "    def forward(self, x):\n",
    "        embeddings, (shortterm, longterm) = self.lstm(x.transpose(0, 1))\n",
    "        prediction = torch.sigmoid(self.out(longterm))\n",
    "        return prediction"
   ]
  },
  {
   "cell_type": "markdown",
   "id": "0e533af1",
   "metadata": {
    "id": "0e533af1"
   },
   "source": [
    "### Загрузка данных"
   ]
  },
  {
   "cell_type": "code",
   "execution_count": 3,
   "id": "144e5724",
   "metadata": {
    "colab": {
     "base_uri": "https://localhost:8080/"
    },
    "executionInfo": {
     "elapsed": 150,
     "status": "ok",
     "timestamp": 1687207461486,
     "user": {
      "displayName": "Максим С",
      "userId": "03675471117906283736"
     },
     "user_tz": -180
    },
    "id": "144e5724",
    "outputId": "fff98122-bbf3-4e65-ae0b-ef18dc13180b"
   },
   "outputs": [
    {
     "name": "stdout",
     "output_type": "stream",
     "text": [
      "--2023-06-19 20:44:25--  https://raw.githubusercontent.com/diptamath/covid_fake_news/main/data/Constraint_Train.csv\n",
      "Resolving raw.githubusercontent.com (raw.githubusercontent.com)... 185.199.111.133, 185.199.110.133, 185.199.109.133, ...\n",
      "Connecting to raw.githubusercontent.com (raw.githubusercontent.com)|185.199.111.133|:443... connected.\n",
      "HTTP request sent, awaiting response... 200 OK\n",
      "Length: 1253562 (1.2M) [text/plain]\n",
      "Saving to: ‘Constraint_Train.csv.17’\n",
      "\n",
      "\r",
      "Constraint_Train.cs   0%[                    ]       0  --.-KB/s               \r",
      "Constraint_Train.cs 100%[===================>]   1.20M  --.-KB/s    in 0.06s   \n",
      "\n",
      "2023-06-19 20:44:26 (21.7 MB/s) - ‘Constraint_Train.csv.17’ saved [1253562/1253562]\n",
      "\n"
     ]
    }
   ],
   "source": [
    "!wget https://raw.githubusercontent.com/diptamath/covid_fake_news/main/data/Constraint_Train.csv"
   ]
  },
  {
   "cell_type": "code",
   "execution_count": 4,
   "id": "a6be3e38",
   "metadata": {
    "executionInfo": {
     "elapsed": 142,
     "status": "ok",
     "timestamp": 1687207461516,
     "user": {
      "displayName": "Максим С",
      "userId": "03675471117906283736"
     },
     "user_tz": -180
    },
    "id": "a6be3e38"
   },
   "outputs": [],
   "source": [
    "df = pd.read_csv('./Constraint_Train.csv')"
   ]
  },
  {
   "cell_type": "code",
   "execution_count": 5,
   "id": "a2f0800a",
   "metadata": {
    "colab": {
     "base_uri": "https://localhost:8080/",
     "height": 206
    },
    "executionInfo": {
     "elapsed": 143,
     "status": "ok",
     "timestamp": 1687207461519,
     "user": {
      "displayName": "Максим С",
      "userId": "03675471117906283736"
     },
     "user_tz": -180
    },
    "id": "a2f0800a",
    "outputId": "ca4e1f85-928e-41d1-a519-6b7fbd5b5538"
   },
   "outputs": [
    {
     "data": {
      "text/html": [
       "\n",
       "  <div id=\"df-2f1b6e9e-1ae2-47bc-a3dd-7df3635ec4b1\">\n",
       "    <div class=\"colab-df-container\">\n",
       "      <div>\n",
       "<style scoped>\n",
       "    .dataframe tbody tr th:only-of-type {\n",
       "        vertical-align: middle;\n",
       "    }\n",
       "\n",
       "    .dataframe tbody tr th {\n",
       "        vertical-align: top;\n",
       "    }\n",
       "\n",
       "    .dataframe thead th {\n",
       "        text-align: right;\n",
       "    }\n",
       "</style>\n",
       "<table border=\"1\" class=\"dataframe\">\n",
       "  <thead>\n",
       "    <tr style=\"text-align: right;\">\n",
       "      <th></th>\n",
       "      <th>id</th>\n",
       "      <th>tweet</th>\n",
       "      <th>label</th>\n",
       "    </tr>\n",
       "  </thead>\n",
       "  <tbody>\n",
       "    <tr>\n",
       "      <th>0</th>\n",
       "      <td>1</td>\n",
       "      <td>The CDC currently reports 99031 deaths. In gen...</td>\n",
       "      <td>real</td>\n",
       "    </tr>\n",
       "    <tr>\n",
       "      <th>1</th>\n",
       "      <td>2</td>\n",
       "      <td>States reported 1121 deaths a small rise from ...</td>\n",
       "      <td>real</td>\n",
       "    </tr>\n",
       "    <tr>\n",
       "      <th>2</th>\n",
       "      <td>3</td>\n",
       "      <td>Politically Correct Woman (Almost) Uses Pandem...</td>\n",
       "      <td>fake</td>\n",
       "    </tr>\n",
       "    <tr>\n",
       "      <th>3</th>\n",
       "      <td>4</td>\n",
       "      <td>#IndiaFightsCorona: We have 1524 #COVID testin...</td>\n",
       "      <td>real</td>\n",
       "    </tr>\n",
       "    <tr>\n",
       "      <th>4</th>\n",
       "      <td>5</td>\n",
       "      <td>Populous states can generate large case counts...</td>\n",
       "      <td>real</td>\n",
       "    </tr>\n",
       "  </tbody>\n",
       "</table>\n",
       "</div>\n",
       "      <button class=\"colab-df-convert\" onclick=\"convertToInteractive('df-2f1b6e9e-1ae2-47bc-a3dd-7df3635ec4b1')\"\n",
       "              title=\"Convert this dataframe to an interactive table.\"\n",
       "              style=\"display:none;\">\n",
       "        \n",
       "  <svg xmlns=\"http://www.w3.org/2000/svg\" height=\"24px\"viewBox=\"0 0 24 24\"\n",
       "       width=\"24px\">\n",
       "    <path d=\"M0 0h24v24H0V0z\" fill=\"none\"/>\n",
       "    <path d=\"M18.56 5.44l.94 2.06.94-2.06 2.06-.94-2.06-.94-.94-2.06-.94 2.06-2.06.94zm-11 1L8.5 8.5l.94-2.06 2.06-.94-2.06-.94L8.5 2.5l-.94 2.06-2.06.94zm10 10l.94 2.06.94-2.06 2.06-.94-2.06-.94-.94-2.06-.94 2.06-2.06.94z\"/><path d=\"M17.41 7.96l-1.37-1.37c-.4-.4-.92-.59-1.43-.59-.52 0-1.04.2-1.43.59L10.3 9.45l-7.72 7.72c-.78.78-.78 2.05 0 2.83L4 21.41c.39.39.9.59 1.41.59.51 0 1.02-.2 1.41-.59l7.78-7.78 2.81-2.81c.8-.78.8-2.07 0-2.86zM5.41 20L4 18.59l7.72-7.72 1.47 1.35L5.41 20z\"/>\n",
       "  </svg>\n",
       "      </button>\n",
       "      \n",
       "  <style>\n",
       "    .colab-df-container {\n",
       "      display:flex;\n",
       "      flex-wrap:wrap;\n",
       "      gap: 12px;\n",
       "    }\n",
       "\n",
       "    .colab-df-convert {\n",
       "      background-color: #E8F0FE;\n",
       "      border: none;\n",
       "      border-radius: 50%;\n",
       "      cursor: pointer;\n",
       "      display: none;\n",
       "      fill: #1967D2;\n",
       "      height: 32px;\n",
       "      padding: 0 0 0 0;\n",
       "      width: 32px;\n",
       "    }\n",
       "\n",
       "    .colab-df-convert:hover {\n",
       "      background-color: #E2EBFA;\n",
       "      box-shadow: 0px 1px 2px rgba(60, 64, 67, 0.3), 0px 1px 3px 1px rgba(60, 64, 67, 0.15);\n",
       "      fill: #174EA6;\n",
       "    }\n",
       "\n",
       "    [theme=dark] .colab-df-convert {\n",
       "      background-color: #3B4455;\n",
       "      fill: #D2E3FC;\n",
       "    }\n",
       "\n",
       "    [theme=dark] .colab-df-convert:hover {\n",
       "      background-color: #434B5C;\n",
       "      box-shadow: 0px 1px 3px 1px rgba(0, 0, 0, 0.15);\n",
       "      filter: drop-shadow(0px 1px 2px rgba(0, 0, 0, 0.3));\n",
       "      fill: #FFFFFF;\n",
       "    }\n",
       "  </style>\n",
       "\n",
       "      <script>\n",
       "        const buttonEl =\n",
       "          document.querySelector('#df-2f1b6e9e-1ae2-47bc-a3dd-7df3635ec4b1 button.colab-df-convert');\n",
       "        buttonEl.style.display =\n",
       "          google.colab.kernel.accessAllowed ? 'block' : 'none';\n",
       "\n",
       "        async function convertToInteractive(key) {\n",
       "          const element = document.querySelector('#df-2f1b6e9e-1ae2-47bc-a3dd-7df3635ec4b1');\n",
       "          const dataTable =\n",
       "            await google.colab.kernel.invokeFunction('convertToInteractive',\n",
       "                                                     [key], {});\n",
       "          if (!dataTable) return;\n",
       "\n",
       "          const docLinkHtml = 'Like what you see? Visit the ' +\n",
       "            '<a target=\"_blank\" href=https://colab.research.google.com/notebooks/data_table.ipynb>data table notebook</a>'\n",
       "            + ' to learn more about interactive tables.';\n",
       "          element.innerHTML = '';\n",
       "          dataTable['output_type'] = 'display_data';\n",
       "          await google.colab.output.renderOutput(dataTable, element);\n",
       "          const docLink = document.createElement('div');\n",
       "          docLink.innerHTML = docLinkHtml;\n",
       "          element.appendChild(docLink);\n",
       "        }\n",
       "      </script>\n",
       "    </div>\n",
       "  </div>\n",
       "  "
      ],
      "text/plain": [
       "   id                                              tweet label\n",
       "0   1  The CDC currently reports 99031 deaths. In gen...  real\n",
       "1   2  States reported 1121 deaths a small rise from ...  real\n",
       "2   3  Politically Correct Woman (Almost) Uses Pandem...  fake\n",
       "3   4  #IndiaFightsCorona: We have 1524 #COVID testin...  real\n",
       "4   5  Populous states can generate large case counts...  real"
      ]
     },
     "execution_count": 5,
     "metadata": {},
     "output_type": "execute_result"
    }
   ],
   "source": [
    "df.head()"
   ]
  },
  {
   "cell_type": "code",
   "execution_count": 6,
   "id": "5b245edb",
   "metadata": {
    "colab": {
     "base_uri": "https://localhost:8080/"
    },
    "executionInfo": {
     "elapsed": 156,
     "status": "ok",
     "timestamp": 1687207461535,
     "user": {
      "displayName": "Максим С",
      "userId": "03675471117906283736"
     },
     "user_tz": -180
    },
    "id": "5b245edb",
    "outputId": "5c7a4419-5f3d-46d1-e4bc-ff35f765e5ec"
   },
   "outputs": [
    {
     "name": "stdout",
     "output_type": "stream",
     "text": [
      "<class 'pandas.core.frame.DataFrame'>\n",
      "RangeIndex: 6420 entries, 0 to 6419\n",
      "Data columns (total 3 columns):\n",
      " #   Column  Non-Null Count  Dtype \n",
      "---  ------  --------------  ----- \n",
      " 0   id      6420 non-null   int64 \n",
      " 1   tweet   6420 non-null   object\n",
      " 2   label   6420 non-null   object\n",
      "dtypes: int64(1), object(2)\n",
      "memory usage: 150.6+ KB\n"
     ]
    }
   ],
   "source": [
    "df.info()"
   ]
  },
  {
   "cell_type": "markdown",
   "id": "4af38bed",
   "metadata": {
    "id": "4af38bed"
   },
   "source": [
    " ### Классификация с использованием векторайзера"
   ]
  },
  {
   "cell_type": "code",
   "execution_count": 7,
   "id": "23d34825",
   "metadata": {
    "executionInfo": {
     "elapsed": 126,
     "status": "ok",
     "timestamp": 1687207461544,
     "user": {
      "displayName": "Максим С",
      "userId": "03675471117906283736"
     },
     "user_tz": -180
    },
    "id": "23d34825"
   },
   "outputs": [],
   "source": [
    "vec = CountVectorizer()\n",
    "bow = vec.fit_transform(df.tweet)"
   ]
  },
  {
   "cell_type": "markdown",
   "id": "6519e97b",
   "metadata": {
    "id": "6519e97b"
   },
   "source": [
    "Обучение модели на основе векторайзера."
   ]
  },
  {
   "cell_type": "code",
   "execution_count": 8,
   "id": "536ed315",
   "metadata": {
    "colab": {
     "base_uri": "https://localhost:8080/",
     "height": 75
    },
    "executionInfo": {
     "elapsed": 1516,
     "status": "ok",
     "timestamp": 1687207462936,
     "user": {
      "displayName": "Максим С",
      "userId": "03675471117906283736"
     },
     "user_tz": -180
    },
    "id": "536ed315",
    "outputId": "43ed809e-bc6c-45e6-e466-3319d7d34bff"
   },
   "outputs": [
    {
     "data": {
      "text/html": [
       "<style>#sk-container-id-1 {color: black;background-color: white;}#sk-container-id-1 pre{padding: 0;}#sk-container-id-1 div.sk-toggleable {background-color: white;}#sk-container-id-1 label.sk-toggleable__label {cursor: pointer;display: block;width: 100%;margin-bottom: 0;padding: 0.3em;box-sizing: border-box;text-align: center;}#sk-container-id-1 label.sk-toggleable__label-arrow:before {content: \"▸\";float: left;margin-right: 0.25em;color: #696969;}#sk-container-id-1 label.sk-toggleable__label-arrow:hover:before {color: black;}#sk-container-id-1 div.sk-estimator:hover label.sk-toggleable__label-arrow:before {color: black;}#sk-container-id-1 div.sk-toggleable__content {max-height: 0;max-width: 0;overflow: hidden;text-align: left;background-color: #f0f8ff;}#sk-container-id-1 div.sk-toggleable__content pre {margin: 0.2em;color: black;border-radius: 0.25em;background-color: #f0f8ff;}#sk-container-id-1 input.sk-toggleable__control:checked~div.sk-toggleable__content {max-height: 200px;max-width: 100%;overflow: auto;}#sk-container-id-1 input.sk-toggleable__control:checked~label.sk-toggleable__label-arrow:before {content: \"▾\";}#sk-container-id-1 div.sk-estimator input.sk-toggleable__control:checked~label.sk-toggleable__label {background-color: #d4ebff;}#sk-container-id-1 div.sk-label input.sk-toggleable__control:checked~label.sk-toggleable__label {background-color: #d4ebff;}#sk-container-id-1 input.sk-hidden--visually {border: 0;clip: rect(1px 1px 1px 1px);clip: rect(1px, 1px, 1px, 1px);height: 1px;margin: -1px;overflow: hidden;padding: 0;position: absolute;width: 1px;}#sk-container-id-1 div.sk-estimator {font-family: monospace;background-color: #f0f8ff;border: 1px dotted black;border-radius: 0.25em;box-sizing: border-box;margin-bottom: 0.5em;}#sk-container-id-1 div.sk-estimator:hover {background-color: #d4ebff;}#sk-container-id-1 div.sk-parallel-item::after {content: \"\";width: 100%;border-bottom: 1px solid gray;flex-grow: 1;}#sk-container-id-1 div.sk-label:hover label.sk-toggleable__label {background-color: #d4ebff;}#sk-container-id-1 div.sk-serial::before {content: \"\";position: absolute;border-left: 1px solid gray;box-sizing: border-box;top: 0;bottom: 0;left: 50%;z-index: 0;}#sk-container-id-1 div.sk-serial {display: flex;flex-direction: column;align-items: center;background-color: white;padding-right: 0.2em;padding-left: 0.2em;position: relative;}#sk-container-id-1 div.sk-item {position: relative;z-index: 1;}#sk-container-id-1 div.sk-parallel {display: flex;align-items: stretch;justify-content: center;background-color: white;position: relative;}#sk-container-id-1 div.sk-item::before, #sk-container-id-1 div.sk-parallel-item::before {content: \"\";position: absolute;border-left: 1px solid gray;box-sizing: border-box;top: 0;bottom: 0;left: 50%;z-index: -1;}#sk-container-id-1 div.sk-parallel-item {display: flex;flex-direction: column;z-index: 1;position: relative;background-color: white;}#sk-container-id-1 div.sk-parallel-item:first-child::after {align-self: flex-end;width: 50%;}#sk-container-id-1 div.sk-parallel-item:last-child::after {align-self: flex-start;width: 50%;}#sk-container-id-1 div.sk-parallel-item:only-child::after {width: 0;}#sk-container-id-1 div.sk-dashed-wrapped {border: 1px dashed gray;margin: 0 0.4em 0.5em 0.4em;box-sizing: border-box;padding-bottom: 0.4em;background-color: white;}#sk-container-id-1 div.sk-label label {font-family: monospace;font-weight: bold;display: inline-block;line-height: 1.2em;}#sk-container-id-1 div.sk-label-container {text-align: center;}#sk-container-id-1 div.sk-container {/* jupyter's `normalize.less` sets `[hidden] { display: none; }` but bootstrap.min.css set `[hidden] { display: none !important; }` so we also need the `!important` here to be able to override the default hidden behavior on the sphinx rendered scikit-learn.org. See: https://github.com/scikit-learn/scikit-learn/issues/21755 */display: inline-block !important;position: relative;}#sk-container-id-1 div.sk-text-repr-fallback {display: none;}</style><div id=\"sk-container-id-1\" class=\"sk-top-container\"><div class=\"sk-text-repr-fallback\"><pre>LogisticRegression()</pre><b>In a Jupyter environment, please rerun this cell to show the HTML representation or trust the notebook. <br />On GitHub, the HTML representation is unable to render, please try loading this page with nbviewer.org.</b></div><div class=\"sk-container\" hidden><div class=\"sk-item\"><div class=\"sk-estimator sk-toggleable\"><input class=\"sk-toggleable__control sk-hidden--visually\" id=\"sk-estimator-id-1\" type=\"checkbox\" checked><label for=\"sk-estimator-id-1\" class=\"sk-toggleable__label sk-toggleable__label-arrow\">LogisticRegression</label><div class=\"sk-toggleable__content\"><pre>LogisticRegression()</pre></div></div></div></div></div>"
      ],
      "text/plain": [
       "LogisticRegression()"
      ]
     },
     "execution_count": 8,
     "metadata": {},
     "output_type": "execute_result"
    }
   ],
   "source": [
    "X_train, X_test, y_train, y_test = train_test_split(bow, df.label, test_size=0.3, random_state=21)\n",
    "model = LogisticRegression(solver='lbfgs')\n",
    "model.fit(X_train, y_train)"
   ]
  },
  {
   "cell_type": "code",
   "execution_count": 9,
   "id": "PglAfEKR0rGW",
   "metadata": {
    "colab": {
     "base_uri": "https://localhost:8080/"
    },
    "executionInfo": {
     "elapsed": 93,
     "status": "ok",
     "timestamp": 1687207462945,
     "user": {
      "displayName": "Максим С",
      "userId": "03675471117906283736"
     },
     "user_tz": -180
    },
    "id": "PglAfEKR0rGW",
    "outputId": "5cc7d6d6-c0d3-499c-e86d-399963eb992d"
   },
   "outputs": [
    {
     "name": "stdout",
     "output_type": "stream",
     "text": [
      "              precision    recall  f1-score   support\n",
      "\n",
      "        fake       0.90      0.93      0.91       887\n",
      "        real       0.94      0.91      0.92      1039\n",
      "\n",
      "    accuracy                           0.92      1926\n",
      "   macro avg       0.92      0.92      0.92      1926\n",
      "weighted avg       0.92      0.92      0.92      1926\n",
      "\n"
     ]
    }
   ],
   "source": [
    "predicted = model.predict(X_test)\n",
    "print(classification_report(y_test, predicted))"
   ]
  },
  {
   "cell_type": "markdown",
   "id": "cb499939",
   "metadata": {
    "id": "cb499939"
   },
   "source": [
    "**Вывод:** Применение модели классификации LogisticRegression на основе векторайзера CountVectorizer дало точность результата **0.92**."
   ]
  },
  {
   "cell_type": "markdown",
   "id": "f8701aa5",
   "metadata": {
    "id": "f8701aa5"
   },
   "source": [
    "### Классификация с использованием эмбеддингов"
   ]
  },
  {
   "cell_type": "code",
   "execution_count": 10,
   "id": "VbYtcZcp0wvJ",
   "metadata": {
    "colab": {
     "base_uri": "https://localhost:8080/"
    },
    "executionInfo": {
     "elapsed": 108,
     "status": "ok",
     "timestamp": 1687207462983,
     "user": {
      "displayName": "Максим С",
      "userId": "03675471117906283736"
     },
     "user_tz": -180
    },
    "id": "VbYtcZcp0wvJ",
    "outputId": "6120ba0a-3bbe-47bd-aba3-e813356c35f5"
   },
   "outputs": [
    {
     "name": "stderr",
     "output_type": "stream",
     "text": [
      "[nltk_data] Downloading package punkt to /root/nltk_data...\n",
      "[nltk_data]   Package punkt is already up-to-date!\n"
     ]
    },
    {
     "data": {
      "text/plain": [
       "True"
      ]
     },
     "execution_count": 10,
     "metadata": {},
     "output_type": "execute_result"
    }
   ],
   "source": [
    "import nltk\n",
    "nltk.download('punkt')"
   ]
  },
  {
   "cell_type": "code",
   "execution_count": 11,
   "id": "17a9de57",
   "metadata": {
    "executionInfo": {
     "elapsed": 2439,
     "status": "ok",
     "timestamp": 1687207465322,
     "user": {
      "displayName": "Максим С",
      "userId": "03675471117906283736"
     },
     "user_tz": -180
    },
    "id": "17a9de57"
   },
   "outputs": [],
   "source": [
    "sentences = [word_tokenize(text.lower()) for text in df.tweet]"
   ]
  },
  {
   "cell_type": "code",
   "execution_count": 12,
   "id": "767e41fe",
   "metadata": {
    "colab": {
     "base_uri": "https://localhost:8080/"
    },
    "executionInfo": {
     "elapsed": 5360,
     "status": "ok",
     "timestamp": 1687207470657,
     "user": {
      "displayName": "Максим С",
      "userId": "03675471117906283736"
     },
     "user_tz": -180
    },
    "id": "767e41fe",
    "outputId": "b420bb48-3bc1-4454-e7c0-6ab6ae2f9d61"
   },
   "outputs": [
    {
     "name": "stdout",
     "output_type": "stream",
     "text": [
      "CPU times: user 8.3 s, sys: 68 ms, total: 8.37 s\n",
      "Wall time: 6.98 s\n"
     ]
    }
   ],
   "source": [
    "%time model_tweets = Word2Vec(sentences, workers=4, vector_size=300, min_count=3, window=5, epochs=15)"
   ]
  },
  {
   "cell_type": "markdown",
   "id": "18fc02ac",
   "metadata": {
    "id": "18fc02ac"
   },
   "source": [
    "Проверим правильно ли обучилась у нас модель на близости к слову covid."
   ]
  },
  {
   "cell_type": "code",
   "execution_count": 13,
   "id": "cd6ea29e",
   "metadata": {
    "colab": {
     "base_uri": "https://localhost:8080/"
    },
    "executionInfo": {
     "elapsed": 96,
     "status": "ok",
     "timestamp": 1687207470673,
     "user": {
      "displayName": "Максим С",
      "userId": "03675471117906283736"
     },
     "user_tz": -180
    },
    "id": "cd6ea29e",
    "outputId": "3de2fefc-9fdf-4632-ce88-00daa3f07fc1"
   },
   "outputs": [
    {
     "data": {
      "text/plain": [
       "[('coronavirus', 0.6735660433769226),\n",
       " ('covid-19', 0.6397594213485718),\n",
       " ('covid19', 0.6177120208740234),\n",
       " ('corona', 0.5911555886268616),\n",
       " ('virus', 0.5405569672584534),\n",
       " ('future', 0.5210791826248169),\n",
       " ('coronavirus._', 0.5153530240058899),\n",
       " ('flu', 0.5134640336036682),\n",
       " ('hydroxychloroquine', 0.49073326587677),\n",
       " ('caring', 0.4851606786251068)]"
      ]
     },
     "execution_count": 13,
     "metadata": {},
     "output_type": "execute_result"
    }
   ],
   "source": [
    "model_tweets.wv.most_similar('covid')"
   ]
  },
  {
   "cell_type": "markdown",
   "id": "307f1bb5",
   "metadata": {
    "id": "307f1bb5"
   },
   "source": [
    "Получение эмбеддингов твитов на основе обученной модели Word2Vec."
   ]
  },
  {
   "cell_type": "code",
   "execution_count": 14,
   "id": "2d85584a",
   "metadata": {
    "colab": {
     "base_uri": "https://localhost:8080/"
    },
    "executionInfo": {
     "elapsed": 6304,
     "status": "ok",
     "timestamp": 1687207476889,
     "user": {
      "displayName": "Максим С",
      "userId": "03675471117906283736"
     },
     "user_tz": -180
    },
    "id": "2d85584a",
    "outputId": "fa4a624c-d975-429e-8fce-136b113fa90f"
   },
   "outputs": [
    {
     "name": "stderr",
     "output_type": "stream",
     "text": [
      "100%|██████████| 6420/6420 [00:06<00:00, 1044.38it/s]\n"
     ]
    }
   ],
   "source": [
    "features = [get_embedding(text) for text in tqdm(df.tweet)]"
   ]
  },
  {
   "cell_type": "code",
   "execution_count": 15,
   "id": "f5e1eb65",
   "metadata": {
    "executionInfo": {
     "elapsed": 84,
     "status": "ok",
     "timestamp": 1687207476905,
     "user": {
      "displayName": "Максим С",
      "userId": "03675471117906283736"
     },
     "user_tz": -180
    },
    "id": "f5e1eb65"
   },
   "outputs": [],
   "source": [
    "X_train, X_test, y_train, y_test = train_test_split(features, df.label, test_size=0.3, random_state=21)"
   ]
  },
  {
   "cell_type": "markdown",
   "id": "1cb84b76",
   "metadata": {
    "id": "1cb84b76"
   },
   "source": [
    "Обучение модели на основе эмбеддингов."
   ]
  },
  {
   "cell_type": "code",
   "execution_count": 16,
   "id": "a496004c",
   "metadata": {
    "colab": {
     "base_uri": "https://localhost:8080/",
     "height": 75
    },
    "executionInfo": {
     "elapsed": 4483,
     "status": "ok",
     "timestamp": 1687207481308,
     "user": {
      "displayName": "Максим С",
      "userId": "03675471117906283736"
     },
     "user_tz": -180
    },
    "id": "a496004c",
    "outputId": "7da353c2-9f68-479b-8f41-18aef8579a2d"
   },
   "outputs": [
    {
     "data": {
      "text/html": [
       "<style>#sk-container-id-2 {color: black;background-color: white;}#sk-container-id-2 pre{padding: 0;}#sk-container-id-2 div.sk-toggleable {background-color: white;}#sk-container-id-2 label.sk-toggleable__label {cursor: pointer;display: block;width: 100%;margin-bottom: 0;padding: 0.3em;box-sizing: border-box;text-align: center;}#sk-container-id-2 label.sk-toggleable__label-arrow:before {content: \"▸\";float: left;margin-right: 0.25em;color: #696969;}#sk-container-id-2 label.sk-toggleable__label-arrow:hover:before {color: black;}#sk-container-id-2 div.sk-estimator:hover label.sk-toggleable__label-arrow:before {color: black;}#sk-container-id-2 div.sk-toggleable__content {max-height: 0;max-width: 0;overflow: hidden;text-align: left;background-color: #f0f8ff;}#sk-container-id-2 div.sk-toggleable__content pre {margin: 0.2em;color: black;border-radius: 0.25em;background-color: #f0f8ff;}#sk-container-id-2 input.sk-toggleable__control:checked~div.sk-toggleable__content {max-height: 200px;max-width: 100%;overflow: auto;}#sk-container-id-2 input.sk-toggleable__control:checked~label.sk-toggleable__label-arrow:before {content: \"▾\";}#sk-container-id-2 div.sk-estimator input.sk-toggleable__control:checked~label.sk-toggleable__label {background-color: #d4ebff;}#sk-container-id-2 div.sk-label input.sk-toggleable__control:checked~label.sk-toggleable__label {background-color: #d4ebff;}#sk-container-id-2 input.sk-hidden--visually {border: 0;clip: rect(1px 1px 1px 1px);clip: rect(1px, 1px, 1px, 1px);height: 1px;margin: -1px;overflow: hidden;padding: 0;position: absolute;width: 1px;}#sk-container-id-2 div.sk-estimator {font-family: monospace;background-color: #f0f8ff;border: 1px dotted black;border-radius: 0.25em;box-sizing: border-box;margin-bottom: 0.5em;}#sk-container-id-2 div.sk-estimator:hover {background-color: #d4ebff;}#sk-container-id-2 div.sk-parallel-item::after {content: \"\";width: 100%;border-bottom: 1px solid gray;flex-grow: 1;}#sk-container-id-2 div.sk-label:hover label.sk-toggleable__label {background-color: #d4ebff;}#sk-container-id-2 div.sk-serial::before {content: \"\";position: absolute;border-left: 1px solid gray;box-sizing: border-box;top: 0;bottom: 0;left: 50%;z-index: 0;}#sk-container-id-2 div.sk-serial {display: flex;flex-direction: column;align-items: center;background-color: white;padding-right: 0.2em;padding-left: 0.2em;position: relative;}#sk-container-id-2 div.sk-item {position: relative;z-index: 1;}#sk-container-id-2 div.sk-parallel {display: flex;align-items: stretch;justify-content: center;background-color: white;position: relative;}#sk-container-id-2 div.sk-item::before, #sk-container-id-2 div.sk-parallel-item::before {content: \"\";position: absolute;border-left: 1px solid gray;box-sizing: border-box;top: 0;bottom: 0;left: 50%;z-index: -1;}#sk-container-id-2 div.sk-parallel-item {display: flex;flex-direction: column;z-index: 1;position: relative;background-color: white;}#sk-container-id-2 div.sk-parallel-item:first-child::after {align-self: flex-end;width: 50%;}#sk-container-id-2 div.sk-parallel-item:last-child::after {align-self: flex-start;width: 50%;}#sk-container-id-2 div.sk-parallel-item:only-child::after {width: 0;}#sk-container-id-2 div.sk-dashed-wrapped {border: 1px dashed gray;margin: 0 0.4em 0.5em 0.4em;box-sizing: border-box;padding-bottom: 0.4em;background-color: white;}#sk-container-id-2 div.sk-label label {font-family: monospace;font-weight: bold;display: inline-block;line-height: 1.2em;}#sk-container-id-2 div.sk-label-container {text-align: center;}#sk-container-id-2 div.sk-container {/* jupyter's `normalize.less` sets `[hidden] { display: none; }` but bootstrap.min.css set `[hidden] { display: none !important; }` so we also need the `!important` here to be able to override the default hidden behavior on the sphinx rendered scikit-learn.org. See: https://github.com/scikit-learn/scikit-learn/issues/21755 */display: inline-block !important;position: relative;}#sk-container-id-2 div.sk-text-repr-fallback {display: none;}</style><div id=\"sk-container-id-2\" class=\"sk-top-container\"><div class=\"sk-text-repr-fallback\"><pre>LogisticRegression(solver=&#x27;newton-cg&#x27;)</pre><b>In a Jupyter environment, please rerun this cell to show the HTML representation or trust the notebook. <br />On GitHub, the HTML representation is unable to render, please try loading this page with nbviewer.org.</b></div><div class=\"sk-container\" hidden><div class=\"sk-item\"><div class=\"sk-estimator sk-toggleable\"><input class=\"sk-toggleable__control sk-hidden--visually\" id=\"sk-estimator-id-2\" type=\"checkbox\" checked><label for=\"sk-estimator-id-2\" class=\"sk-toggleable__label sk-toggleable__label-arrow\">LogisticRegression</label><div class=\"sk-toggleable__content\"><pre>LogisticRegression(solver=&#x27;newton-cg&#x27;)</pre></div></div></div></div></div>"
      ],
      "text/plain": [
       "LogisticRegression(solver='newton-cg')"
      ]
     },
     "execution_count": 16,
     "metadata": {},
     "output_type": "execute_result"
    }
   ],
   "source": [
    "model = LogisticRegression(solver='newton-cg')\n",
    "model.fit(X_train, y_train)"
   ]
  },
  {
   "cell_type": "code",
   "execution_count": 17,
   "id": "3e0d1745",
   "metadata": {
    "colab": {
     "base_uri": "https://localhost:8080/"
    },
    "executionInfo": {
     "elapsed": 472,
     "status": "ok",
     "timestamp": 1687207481776,
     "user": {
      "displayName": "Максим С",
      "userId": "03675471117906283736"
     },
     "user_tz": -180
    },
    "id": "3e0d1745",
    "outputId": "9296d035-f624-48bb-ed08-6c383de0df19"
   },
   "outputs": [
    {
     "name": "stdout",
     "output_type": "stream",
     "text": [
      "              precision    recall  f1-score   support\n",
      "\n",
      "        fake       0.89      0.94      0.91       887\n",
      "        real       0.95      0.90      0.92      1039\n",
      "\n",
      "    accuracy                           0.92      1926\n",
      "   macro avg       0.92      0.92      0.92      1926\n",
      "weighted avg       0.92      0.92      0.92      1926\n",
      "\n"
     ]
    }
   ],
   "source": [
    "predicted = model.predict(X_test)\n",
    "print(classification_report(y_test, predicted))"
   ]
  },
  {
   "cell_type": "markdown",
   "id": "e048a05f",
   "metadata": {
    "id": "e048a05f"
   },
   "source": [
    "**Вывод:** Применение модели классификации LogisticRegression с использованием эмбеддингов Word2Vec дало точность результата **0.92**."
   ]
  },
  {
   "cell_type": "markdown",
   "id": "372287c6",
   "metadata": {
    "id": "372287c6"
   },
   "source": [
    "### Классификация на основе PyTorch + LSTM\n",
    "Подготовка данных"
   ]
  },
  {
   "cell_type": "code",
   "execution_count": 18,
   "id": "edd22d95",
   "metadata": {
    "executionInfo": {
     "elapsed": 6,
     "status": "ok",
     "timestamp": 1687207481777,
     "user": {
      "displayName": "Максим С",
      "userId": "03675471117906283736"
     },
     "user_tz": -180
    },
    "id": "edd22d95"
   },
   "outputs": [],
   "source": [
    "labels = (df.label == 'real').astype(int).to_list()"
   ]
  },
  {
   "cell_type": "code",
   "execution_count": 19,
   "id": "5fb388e6",
   "metadata": {
    "executionInfo": {
     "elapsed": 3974,
     "status": "ok",
     "timestamp": 1687207485746,
     "user": {
      "displayName": "Максим С",
      "userId": "03675471117906283736"
     },
     "user_tz": -180
    },
    "id": "5fb388e6"
   },
   "outputs": [],
   "source": [
    "token_lists = [word_tokenize(text.lower()) for text in df.tweet]"
   ]
  },
  {
   "cell_type": "markdown",
   "id": "2b26d565",
   "metadata": {
    "id": "2b26d565"
   },
   "source": [
    "На основе most_common выберем max_len."
   ]
  },
  {
   "cell_type": "code",
   "execution_count": 20,
   "id": "818c9d80",
   "metadata": {
    "executionInfo": {
     "elapsed": 104,
     "status": "ok",
     "timestamp": 1687207485749,
     "user": {
      "displayName": "Максим С",
      "userId": "03675471117906283736"
     },
     "user_tz": -180
    },
    "id": "818c9d80"
   },
   "outputs": [],
   "source": [
    "max_len = 250"
   ]
  },
  {
   "cell_type": "code",
   "execution_count": 21,
   "id": "620580d6",
   "metadata": {
    "executionInfo": {
     "elapsed": 3710,
     "status": "ok",
     "timestamp": 1687207489385,
     "user": {
      "displayName": "Максим С",
      "userId": "03675471117906283736"
     },
     "user_tz": -180
    },
    "id": "620580d6"
   },
   "outputs": [],
   "source": [
    "features = [get_embedding(text, max_len) for text in token_lists]"
   ]
  },
  {
   "cell_type": "code",
   "execution_count": 22,
   "id": "2c4bd0ab",
   "metadata": {
    "executionInfo": {
     "elapsed": 32,
     "status": "ok",
     "timestamp": 1687207489389,
     "user": {
      "displayName": "Максим С",
      "userId": "03675471117906283736"
     },
     "user_tz": -180
    },
    "id": "2c4bd0ab"
   },
   "outputs": [],
   "source": [
    "X_train, X_test, y_train, y_test = train_test_split(features, labels, test_size=0.3, random_state=21)"
   ]
  },
  {
   "cell_type": "code",
   "execution_count": 23,
   "id": "83b10347",
   "metadata": {
    "colab": {
     "base_uri": "https://localhost:8080/"
    },
    "executionInfo": {
     "elapsed": 32,
     "status": "ok",
     "timestamp": 1687207489391,
     "user": {
      "displayName": "Максим С",
      "userId": "03675471117906283736"
     },
     "user_tz": -180
    },
    "id": "83b10347",
    "outputId": "0446e5cd-8dbb-4695-e389-d70c18c8d4c4"
   },
   "outputs": [
    {
     "name": "stdout",
     "output_type": "stream",
     "text": [
      "BiLSTM(\n",
      "  (lstm): LSTM(300, 100)\n",
      "  (out): Linear(in_features=100, out_features=1, bias=True)\n",
      ")\n"
     ]
    }
   ],
   "source": [
    "net = BiLSTM()\n",
    "print(net)"
   ]
  },
  {
   "cell_type": "code",
   "execution_count": 24,
   "id": "d36347bf",
   "metadata": {
    "colab": {
     "base_uri": "https://localhost:8080/"
    },
    "executionInfo": {
     "elapsed": 20827,
     "status": "ok",
     "timestamp": 1687207553938,
     "user": {
      "displayName": "Максим С",
      "userId": "03675471117906283736"
     },
     "user_tz": -180
    },
    "id": "d36347bf",
    "outputId": "20cc8c8a-8fcb-40cf-a34f-16465f4dbd48"
   },
   "outputs": [
    {
     "name": "stderr",
     "output_type": "stream",
     "text": [
      "<ipython-input-24-81f64c74c852>:1: UserWarning: Creating a tensor from a list of numpy.ndarrays is extremely slow. Please consider converting the list to a single numpy.ndarray with numpy.array() before converting to a tensor. (Triggered internally at ../torch/csrc/utils/tensor_new.cpp:245.)\n",
      "  in_data = torch.tensor(X_train).float()\n"
     ]
    }
   ],
   "source": [
    "in_data = torch.tensor(X_train).float()\n",
    "targets = torch.tensor(y_train).float()\n",
    "in_data_test = torch.tensor(X_test).float()\n",
    "targets_test = torch.tensor(y_test).float()"
   ]
  },
  {
   "cell_type": "code",
   "execution_count": 25,
   "id": "b28669cf",
   "metadata": {
    "colab": {
     "base_uri": "https://localhost:8080/"
    },
    "executionInfo": {
     "elapsed": 208,
     "status": "ok",
     "timestamp": 1687207553941,
     "user": {
      "displayName": "Максим С",
      "userId": "03675471117906283736"
     },
     "user_tz": -180
    },
    "id": "b28669cf",
    "outputId": "7c68dfdd-9c7e-4a30-af1e-2d717acf2694"
   },
   "outputs": [
    {
     "data": {
      "text/plain": [
       "torch.Size([4494, 250, 300])"
      ]
     },
     "execution_count": 25,
     "metadata": {},
     "output_type": "execute_result"
    }
   ],
   "source": [
    "in_data.shape"
   ]
  },
  {
   "cell_type": "code",
   "execution_count": 26,
   "id": "r0J63hFXPcoP",
   "metadata": {
    "colab": {
     "base_uri": "https://localhost:8080/"
    },
    "executionInfo": {
     "elapsed": 198,
     "status": "ok",
     "timestamp": 1687207553944,
     "user": {
      "displayName": "Максим С",
      "userId": "03675471117906283736"
     },
     "user_tz": -180
    },
    "id": "r0J63hFXPcoP",
    "outputId": "896190ed-e38b-4d47-cf62-f8349b87eddd"
   },
   "outputs": [
    {
     "data": {
      "text/plain": [
       "torch.Size([4494])"
      ]
     },
     "execution_count": 26,
     "metadata": {},
     "output_type": "execute_result"
    }
   ],
   "source": [
    "targets.shape"
   ]
  },
  {
   "cell_type": "code",
   "execution_count": 27,
   "id": "ab2c73e0",
   "metadata": {
    "executionInfo": {
     "elapsed": 187,
     "status": "ok",
     "timestamp": 1687207553972,
     "user": {
      "displayName": "Максим С",
      "userId": "03675471117906283736"
     },
     "user_tz": -180
    },
    "id": "ab2c73e0"
   },
   "outputs": [],
   "source": [
    "optimizer = optim.SGD(net.parameters(), lr=0.1)\n",
    "criterion = nn.BCELoss()"
   ]
  },
  {
   "cell_type": "markdown",
   "id": "AKhIMiOs8dRx",
   "metadata": {
    "id": "AKhIMiOs8dRx"
   },
   "source": [
    "Будем использовать вычисления с использованием аппаратного ускорителя GPU."
   ]
  },
  {
   "cell_type": "code",
   "execution_count": 28,
   "id": "n1ks_fFn7ydg",
   "metadata": {
    "colab": {
     "base_uri": "https://localhost:8080/"
    },
    "executionInfo": {
     "elapsed": 184,
     "status": "ok",
     "timestamp": 1687207553974,
     "user": {
      "displayName": "Максим С",
      "userId": "03675471117906283736"
     },
     "user_tz": -180
    },
    "id": "n1ks_fFn7ydg",
    "outputId": "ad4d5929-3a63-479e-97e7-f4268512f11d"
   },
   "outputs": [
    {
     "data": {
      "text/plain": [
       "BiLSTM(\n",
       "  (lstm): LSTM(300, 100)\n",
       "  (out): Linear(in_features=100, out_features=1, bias=True)\n",
       ")"
      ]
     },
     "execution_count": 28,
     "metadata": {},
     "output_type": "execute_result"
    }
   ],
   "source": [
    "net.cuda()"
   ]
  },
  {
   "cell_type": "markdown",
   "id": "1ce6d34f",
   "metadata": {
    "id": "1ce6d34f"
   },
   "source": [
    "Обучим модель на 20 эпохах."
   ]
  },
  {
   "cell_type": "code",
   "execution_count": 29,
   "id": "fea88aee",
   "metadata": {
    "colab": {
     "base_uri": "https://localhost:8080/"
    },
    "executionInfo": {
     "elapsed": 21655,
     "status": "ok",
     "timestamp": 1687207575457,
     "user": {
      "displayName": "Максим С",
      "userId": "03675471117906283736"
     },
     "user_tz": -180
    },
    "id": "fea88aee",
    "outputId": "ddda3b55-8959-44a5-8dc1-fd45dfa3d737"
   },
   "outputs": [
    {
     "name": "stderr",
     "output_type": "stream",
     "text": [
      "100%|██████████| 281/281 [00:01<00:00, 228.94it/s]\n"
     ]
    },
    {
     "name": "stdout",
     "output_type": "stream",
     "text": [
      "tensor(0.6875, device='cuda:0', grad_fn=<BinaryCrossEntropyBackward0>)\n"
     ]
    },
    {
     "name": "stderr",
     "output_type": "stream",
     "text": [
      "100%|██████████| 281/281 [00:01<00:00, 263.44it/s]\n"
     ]
    },
    {
     "name": "stdout",
     "output_type": "stream",
     "text": [
      "tensor(0.6868, device='cuda:0', grad_fn=<BinaryCrossEntropyBackward0>)\n"
     ]
    },
    {
     "name": "stderr",
     "output_type": "stream",
     "text": [
      "100%|██████████| 281/281 [00:01<00:00, 242.54it/s]\n"
     ]
    },
    {
     "name": "stdout",
     "output_type": "stream",
     "text": [
      "tensor(0.6862, device='cuda:0', grad_fn=<BinaryCrossEntropyBackward0>)\n"
     ]
    },
    {
     "name": "stderr",
     "output_type": "stream",
     "text": [
      "100%|██████████| 281/281 [00:01<00:00, 226.89it/s]\n"
     ]
    },
    {
     "name": "stdout",
     "output_type": "stream",
     "text": [
      "tensor(0.6857, device='cuda:0', grad_fn=<BinaryCrossEntropyBackward0>)\n"
     ]
    },
    {
     "name": "stderr",
     "output_type": "stream",
     "text": [
      "100%|██████████| 281/281 [00:01<00:00, 255.82it/s]\n"
     ]
    },
    {
     "name": "stdout",
     "output_type": "stream",
     "text": [
      "tensor(0.6852, device='cuda:0', grad_fn=<BinaryCrossEntropyBackward0>)\n"
     ]
    },
    {
     "name": "stderr",
     "output_type": "stream",
     "text": [
      "100%|██████████| 281/281 [00:01<00:00, 266.08it/s]\n"
     ]
    },
    {
     "name": "stdout",
     "output_type": "stream",
     "text": [
      "tensor(0.6848, device='cuda:0', grad_fn=<BinaryCrossEntropyBackward0>)\n"
     ]
    },
    {
     "name": "stderr",
     "output_type": "stream",
     "text": [
      "100%|██████████| 281/281 [00:01<00:00, 262.33it/s]\n"
     ]
    },
    {
     "name": "stdout",
     "output_type": "stream",
     "text": [
      "tensor(0.6844, device='cuda:0', grad_fn=<BinaryCrossEntropyBackward0>)\n"
     ]
    },
    {
     "name": "stderr",
     "output_type": "stream",
     "text": [
      "100%|██████████| 281/281 [00:01<00:00, 267.76it/s]\n"
     ]
    },
    {
     "name": "stdout",
     "output_type": "stream",
     "text": [
      "tensor(0.6841, device='cuda:0', grad_fn=<BinaryCrossEntropyBackward0>)\n"
     ]
    },
    {
     "name": "stderr",
     "output_type": "stream",
     "text": [
      "100%|██████████| 281/281 [00:01<00:00, 261.70it/s]\n"
     ]
    },
    {
     "name": "stdout",
     "output_type": "stream",
     "text": [
      "tensor(0.6838, device='cuda:0', grad_fn=<BinaryCrossEntropyBackward0>)\n"
     ]
    },
    {
     "name": "stderr",
     "output_type": "stream",
     "text": [
      "100%|██████████| 281/281 [00:01<00:00, 265.20it/s]\n"
     ]
    },
    {
     "name": "stdout",
     "output_type": "stream",
     "text": [
      "tensor(0.6836, device='cuda:0', grad_fn=<BinaryCrossEntropyBackward0>)\n"
     ]
    },
    {
     "name": "stderr",
     "output_type": "stream",
     "text": [
      "100%|██████████| 281/281 [00:01<00:00, 267.32it/s]\n"
     ]
    },
    {
     "name": "stdout",
     "output_type": "stream",
     "text": [
      "tensor(0.6833, device='cuda:0', grad_fn=<BinaryCrossEntropyBackward0>)\n"
     ]
    },
    {
     "name": "stderr",
     "output_type": "stream",
     "text": [
      "100%|██████████| 281/281 [00:01<00:00, 263.71it/s]\n"
     ]
    },
    {
     "name": "stdout",
     "output_type": "stream",
     "text": [
      "tensor(0.6831, device='cuda:0', grad_fn=<BinaryCrossEntropyBackward0>)\n"
     ]
    },
    {
     "name": "stderr",
     "output_type": "stream",
     "text": [
      "100%|██████████| 281/281 [00:01<00:00, 264.58it/s]\n"
     ]
    },
    {
     "name": "stdout",
     "output_type": "stream",
     "text": [
      "tensor(0.6829, device='cuda:0', grad_fn=<BinaryCrossEntropyBackward0>)\n"
     ]
    },
    {
     "name": "stderr",
     "output_type": "stream",
     "text": [
      "100%|██████████| 281/281 [00:01<00:00, 244.81it/s]\n"
     ]
    },
    {
     "name": "stdout",
     "output_type": "stream",
     "text": [
      "tensor(0.6828, device='cuda:0', grad_fn=<BinaryCrossEntropyBackward0>)\n"
     ]
    },
    {
     "name": "stderr",
     "output_type": "stream",
     "text": [
      "100%|██████████| 281/281 [00:01<00:00, 227.92it/s]\n"
     ]
    },
    {
     "name": "stdout",
     "output_type": "stream",
     "text": [
      "tensor(0.6826, device='cuda:0', grad_fn=<BinaryCrossEntropyBackward0>)\n"
     ]
    },
    {
     "name": "stderr",
     "output_type": "stream",
     "text": [
      "100%|██████████| 281/281 [00:01<00:00, 241.48it/s]\n"
     ]
    },
    {
     "name": "stdout",
     "output_type": "stream",
     "text": [
      "tensor(0.6825, device='cuda:0', grad_fn=<BinaryCrossEntropyBackward0>)\n"
     ]
    },
    {
     "name": "stderr",
     "output_type": "stream",
     "text": [
      "100%|██████████| 281/281 [00:01<00:00, 266.76it/s]\n"
     ]
    },
    {
     "name": "stdout",
     "output_type": "stream",
     "text": [
      "tensor(0.6823, device='cuda:0', grad_fn=<BinaryCrossEntropyBackward0>)\n"
     ]
    },
    {
     "name": "stderr",
     "output_type": "stream",
     "text": [
      "100%|██████████| 281/281 [00:01<00:00, 264.60it/s]\n"
     ]
    },
    {
     "name": "stdout",
     "output_type": "stream",
     "text": [
      "tensor(0.6822, device='cuda:0', grad_fn=<BinaryCrossEntropyBackward0>)\n"
     ]
    },
    {
     "name": "stderr",
     "output_type": "stream",
     "text": [
      "100%|██████████| 281/281 [00:01<00:00, 266.07it/s]\n"
     ]
    },
    {
     "name": "stdout",
     "output_type": "stream",
     "text": [
      "tensor(0.6821, device='cuda:0', grad_fn=<BinaryCrossEntropyBackward0>)\n"
     ]
    },
    {
     "name": "stderr",
     "output_type": "stream",
     "text": [
      "100%|██████████| 281/281 [00:01<00:00, 267.28it/s]"
     ]
    },
    {
     "name": "stdout",
     "output_type": "stream",
     "text": [
      "tensor(0.6820, device='cuda:0', grad_fn=<BinaryCrossEntropyBackward0>)\n"
     ]
    },
    {
     "name": "stderr",
     "output_type": "stream",
     "text": [
      "\n"
     ]
    }
   ],
   "source": [
    "for i in range(20):\n",
    "  train_one_epoch(in_data, targets)"
   ]
  },
  {
   "cell_type": "code",
   "execution_count": 30,
   "id": "jwe2z6ta5Rbg",
   "metadata": {
    "executionInfo": {
     "elapsed": 231,
     "status": "ok",
     "timestamp": 1687207575490,
     "user": {
      "displayName": "Максим С",
      "userId": "03675471117906283736"
     },
     "user_tz": -180
    },
    "id": "jwe2z6ta5Rbg"
   },
   "outputs": [],
   "source": [
    "with torch.no_grad():\n",
    "    output = net(in_data_test.cuda()).reshape(-1)"
   ]
  },
  {
   "cell_type": "code",
   "execution_count": 31,
   "id": "9e49f6f7",
   "metadata": {
    "colab": {
     "base_uri": "https://localhost:8080/"
    },
    "executionInfo": {
     "elapsed": 229,
     "status": "ok",
     "timestamp": 1687207575491,
     "user": {
      "displayName": "Максим С",
      "userId": "03675471117906283736"
     },
     "user_tz": -180
    },
    "id": "9e49f6f7",
    "outputId": "f7511ee4-04d1-4cfe-b785-efcc87a713f0"
   },
   "outputs": [
    {
     "data": {
      "text/plain": [
       "0.5399792315680166"
      ]
     },
     "execution_count": 31,
     "metadata": {},
     "output_type": "execute_result"
    }
   ],
   "source": [
    "result = (output.cpu() > 0.5) == targets_test\n",
    "result.sum().item() / len(result)"
   ]
  },
  {
   "cell_type": "markdown",
   "id": "lhvONT6pCl6j",
   "metadata": {
    "id": "lhvONT6pCl6j"
   },
   "source": [
    "**Вывод:** Применив модель классификации на основе PyTorch + LSTM без внесения изменений схему нейросети была достигнута точность модели **0.54**"
   ]
  },
  {
   "cell_type": "markdown",
   "id": "616282d6",
   "metadata": {},
   "source": [
    "### Выводы\n",
    "\n",
    "Были применены наивные методы классификации с использованием векторизации и эмбеддингов, а также с использованием PyTorch + LSTM. Были достигнуты требуемые по заданию параметры точности.\n",
    "Наивные модели показывали высокую точность моделей, при этом они не требуют дополнительной настройки.\n",
    "Нейросеть в базовом уровне показала низкую точность, так как она требует дополнительной настройки."
   ]
  }
 ],
 "metadata": {
  "accelerator": "GPU",
  "colab": {
   "gpuType": "T4",
   "provenance": []
  },
  "kernelspec": {
   "display_name": "Python 3 (ipykernel)",
   "language": "python",
   "name": "python3"
  },
  "language_info": {
   "codemirror_mode": {
    "name": "ipython",
    "version": 3
   },
   "file_extension": ".py",
   "mimetype": "text/x-python",
   "name": "python",
   "nbconvert_exporter": "python",
   "pygments_lexer": "ipython3",
   "version": "3.10.9"
  }
 },
 "nbformat": 4,
 "nbformat_minor": 5
}
