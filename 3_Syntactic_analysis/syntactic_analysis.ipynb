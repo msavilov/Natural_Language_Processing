{
 "cells": [
  {
   "cell_type": "markdown",
   "id": "4091a1f2",
   "metadata": {},
   "source": [
    "### Описание задания.\n",
    "\n",
    "#### Часть 1: Составление словарей для классификации по тональности.\n",
    "\n",
    "При классификации текстов или предложений по тональности необходимо использовать оценочные словари для предметной области, то есть, такие словари, в которых содержатся отрицательные и позитивные слова для какой-то предметной области. Идея подобных словарей основана на следующих наблюдениях: во-первых, для разных товаров используются разные оценочные слова (например бывает “захватывающая книга”, но не бывает “захватывающих лыж”), во-вторых, в контексте разных товаров одни и те же слова могут иметь разную окраску (слово “тормоз” в отзыве на велосипед имеет нейтральную окраску, в отзыве на компьютер – резко негативную, “пыль” в контексте пылесосов – нейтральную, в контексте кофемолок – положительную (“мелкий помол в пыль”)). Еще один пример: \"теплое пиво\" – это плохо, а \"теплый свитер\" – это хорошо.\n",
    "\n",
    "Данные для задания: датасет отзывов на банки с сайта banki.ru. Данные содержат непосредственно тексты отзывов, некоторую дополнительную информацию, а также оценку по шкале от 1 до 5. Тексты хранятся в json-ах в массиве responses.\n",
    "\n",
    "- Разбить всю коллекцию отзывов на предложения. Лемматизировать все слова.\n",
    "- Обучить по коллекции предложений word2vec.\n",
    "- Привести несколько удачных и неудачных примеров решения стандартных текстов для word2vec:\n",
    "    - тест на определение ближайших слов\n",
    "    - тест на аналогии (мужчина – король : женщина – королева)\n",
    "    - тест на определение лишнего слова.\n",
    "\n",
    "- Построить несколько визуализаций:\n",
    "    - TSNE для топ-100 (или топ-500) слов и найти осмысленные кластеры слов\n",
    "    - задать координаты для нового пространства следующим образом: одна ось описывает отношение \"плохо – хорошо\", вторая – \"медленно – быстро\" и найдите координаты названий банков в этих координатах. Более формально: берем вектор слова \"хорошо\", вычитаем из него вектор слова \"плохо\", получаем новый вектор, который описывает разницу между хорошими и плохими словами. Берем вектор слова \"сбербанк\" и умножаем его на этот новый вектор – получаем координату по первой оси. Аналогично – для второй оси. Две координаты уже можно нарисовать на плоскости.\n",
    "\n",
    "\n",
    "#### Часть 2:  Распространение метки.\n",
    "\n",
    "- Определить 5–8 позитивных слов (например, быстрый, удобный) и 5–8 негативных слов (например, очередь, медленно). Эти слова будут основной будущего оценочного словаря\n",
    "- Пусть позитивному классу соответствует метка 1, негативному — -1\n",
    "- Пометить выбранные слова в лексическом графе соответствующими метками\n",
    "- Запустить любой известный вам метод распространения метки (Label Propogation) в лексическом графе\n",
    "- На выходе метода распространения ошибки должны быть новые слова, помеченные метками 1 и -1 — это и есть искомые оценочные слова\n",
    "\n",
    "Алгоритмы распространения метки устроены примерно так: пусть мы находимся в выршине, помеченном +1. С какой-то вероятностью мы переносим эту метку на соседние узлы. С меньшей вероятностью переносим ее на вершины на расстоянии два. В конце распространения метки, часть вершин оказывается помечена меткой +1, часть – -1, большая часть остается без метки.\n",
    "\n",
    "Рекомендуемые алгоритмы распространения метки:\n",
    "- graphlab.label_propagation (graphlab доступен бесплатно по образовательной лицензии)\n",
    "- sklearn.semi_supervised.LabelPropagation\n",
    "- sklearn.semi_supervised.LabelSpreading"
   ]
  },
  {
   "cell_type": "code",
   "execution_count": 1,
   "id": "15a580f9",
   "metadata": {},
   "outputs": [],
   "source": [
    "import warnings\n",
    "warnings.filterwarnings('ignore')"
   ]
  },
  {
   "cell_type": "code",
   "execution_count": 170,
   "id": "008989d6",
   "metadata": {},
   "outputs": [],
   "source": [
    "import bz2\n",
    "import igraph as ig\n",
    "import gdown\n",
    "import json\n",
    "import matplotlib.pyplot as plt\n",
    "%matplotlib inline\n",
    "import numpy as np\n",
    "import pandas as pd\n",
    "import pymorphy2\n",
    "import re\n",
    "import regex\n",
    "import seaborn as sns\n",
    "\n",
    "from collections import Counter\n",
    "from contextlib import redirect_stdout\n",
    "from nltk import FreqDist\n",
    "from nltk.corpus import stopwords\n",
    "from nltk.tokenize import sent_tokenize, word_tokenize\n",
    "from PIL import Image\n",
    "from scipy import sparse\n",
    "from string import punctuation\n",
    "from tqdm import tqdm\n",
    "\n",
    "from bokeh.models import ColumnDataSource, LabelSet\n",
    "from bokeh.plotting import figure, show, output_file\n",
    "from bokeh.io import output_notebook\n",
    "\n",
    "from gensim import similarities\n",
    "from gensim.corpora import Dictionary\n",
    "from gensim.models import KeyedVectors, lsimodel, TfidfModel, word2vec\n",
    "\n",
    "from sklearn.decomposition import TruncatedSVD, LatentDirichletAllocation\n",
    "from sklearn.ensemble import RandomForestClassifier\n",
    "from sklearn.feature_extraction.text import CountVectorizer, TfidfTransformer, TfidfVectorizer\n",
    "from sklearn.manifold import TSNE\n",
    "from sklearn.metrics  import classification_report\n",
    "from sklearn.model_selection import train_test_split\n",
    "from sklearn.pipeline import Pipeline\n",
    "from sklearn.semi_supervised import LabelPropagation, LabelSpreading"
   ]
  },
  {
   "cell_type": "markdown",
   "id": "13827e6e",
   "metadata": {},
   "source": [
    "#### Необходимые функции"
   ]
  },
  {
   "cell_type": "code",
   "execution_count": 5,
   "id": "96da656a",
   "metadata": {},
   "outputs": [],
   "source": [
    "mystopwords = stopwords.words('russian')\n",
    "\n",
    "ru_words = re.compile(\"[А-Яа-я]+\")\n",
    "\n",
    "def get_top_word(bow, count_word = 10):\n",
    "    '''\n",
    "    Принимает на вход результат TfidfVectorizer.fit_transform.\n",
    "    Возвращает список ключевых слов\n",
    "    '''\n",
    "    idx = np.ravel(bow.sum(axis=0).argsort(axis=1))[::-1][:count_word]\n",
    "    top_words = np.array(vec.get_feature_names_out())[idx].tolist()\n",
    "    return top_words\n",
    "\n",
    "\n",
    "def words_only(text):\n",
    "    return \" \".join(ru_words.findall(text))\n",
    "\n",
    "def lemmatize(text):\n",
    "    try:\n",
    "        return  \" \".join([morph.parse(word)[0].normal_form for word in text.lower().split()])\n",
    "    except:\n",
    "        return \" \"\n",
    "\n",
    "def remove_stopwords(text, mystopwords = mystopwords):\n",
    "    try:\n",
    "        return \" \".join([token for token in text.split() if not token in mystopwords])\n",
    "    except:\n",
    "        return \"\"\n",
    " \n",
    "def preprocess(text):\n",
    "    return remove_stopwords(lemmatize(words_only(text.lower())))"
   ]
  },
  {
   "cell_type": "markdown",
   "id": "d8b9a783",
   "metadata": {},
   "source": [
    "#### Скачивание данных"
   ]
  },
  {
   "cell_type": "code",
   "execution_count": 6,
   "id": "2e3074aa",
   "metadata": {},
   "outputs": [],
   "source": [
    "url = 'https://drive.google.com/uc?id=1OelGGXPXBinXvZnDb1Bmmxe4rtdBmqdk'"
   ]
  },
  {
   "cell_type": "code",
   "execution_count": 7,
   "id": "a7a8163d",
   "metadata": {},
   "outputs": [
    {
     "data": {
      "text/plain": [
       "'banki_responses.json.bz2'"
      ]
     },
     "execution_count": 7,
     "metadata": {},
     "output_type": "execute_result"
    }
   ],
   "source": [
    "gdown.download(url, quiet=True)"
   ]
  },
  {
   "cell_type": "code",
   "execution_count": 8,
   "id": "2c88137d",
   "metadata": {},
   "outputs": [
    {
     "name": "stderr",
     "output_type": "stream",
     "text": [
      "201030it [01:06, 3033.48it/s]\n"
     ]
    }
   ],
   "source": [
    "responses = []\n",
    "with bz2.BZ2File('banki_responses.json.bz2', 'r') as thefile:\n",
    "    for row in tqdm(thefile):\n",
    "        resp = json.loads(row)\n",
    "        if not resp['rating_not_checked'] and (len(resp['text'].split()) > 0):\n",
    "            responses.append(resp)"
   ]
  },
  {
   "cell_type": "code",
   "execution_count": 9,
   "id": "ebadbef5",
   "metadata": {},
   "outputs": [
    {
     "data": {
      "text/plain": [
       "153499"
      ]
     },
     "execution_count": 9,
     "metadata": {},
     "output_type": "execute_result"
    }
   ],
   "source": [
    "len(responses)"
   ]
  },
  {
   "cell_type": "code",
   "execution_count": 10,
   "id": "d3b76afb",
   "metadata": {},
   "outputs": [
    {
     "data": {
      "text/html": [
       "<div>\n",
       "<style scoped>\n",
       "    .dataframe tbody tr th:only-of-type {\n",
       "        vertical-align: middle;\n",
       "    }\n",
       "\n",
       "    .dataframe tbody tr th {\n",
       "        vertical-align: top;\n",
       "    }\n",
       "\n",
       "    .dataframe thead th {\n",
       "        text-align: right;\n",
       "    }\n",
       "</style>\n",
       "<table border=\"1\" class=\"dataframe\">\n",
       "  <thead>\n",
       "    <tr style=\"text-align: right;\">\n",
       "      <th></th>\n",
       "      <th>city</th>\n",
       "      <th>rating_not_checked</th>\n",
       "      <th>title</th>\n",
       "      <th>num_comments</th>\n",
       "      <th>bank_license</th>\n",
       "      <th>author</th>\n",
       "      <th>bank_name</th>\n",
       "      <th>datetime</th>\n",
       "      <th>text</th>\n",
       "      <th>rating_grade</th>\n",
       "    </tr>\n",
       "  </thead>\n",
       "  <tbody>\n",
       "    <tr>\n",
       "      <th>0</th>\n",
       "      <td>г. Москва</td>\n",
       "      <td>False</td>\n",
       "      <td>Жалоба</td>\n",
       "      <td>0</td>\n",
       "      <td>лицензия № 2562</td>\n",
       "      <td>uhnov1</td>\n",
       "      <td>Бинбанк</td>\n",
       "      <td>2015-06-08 12:50:54</td>\n",
       "      <td>Добрый день! Я не являюсь клиентом банка и пор...</td>\n",
       "      <td>NaN</td>\n",
       "    </tr>\n",
       "    <tr>\n",
       "      <th>1</th>\n",
       "      <td>г. Новосибирск</td>\n",
       "      <td>False</td>\n",
       "      <td>Не могу пользоваться услугой Сбербанк он-лайн</td>\n",
       "      <td>0</td>\n",
       "      <td>лицензия № 1481</td>\n",
       "      <td>Foryou</td>\n",
       "      <td>Сбербанк России</td>\n",
       "      <td>2015-06-08 11:09:57</td>\n",
       "      <td>Доброго дня! Являюсь держателем зарплатной кар...</td>\n",
       "      <td>NaN</td>\n",
       "    </tr>\n",
       "    <tr>\n",
       "      <th>2</th>\n",
       "      <td>г. Москва</td>\n",
       "      <td>False</td>\n",
       "      <td>Двойное списание за один товар.</td>\n",
       "      <td>1</td>\n",
       "      <td>лицензия № 2562</td>\n",
       "      <td>Vladimir84</td>\n",
       "      <td>Бинбанк</td>\n",
       "      <td>2015-06-05 20:14:28</td>\n",
       "      <td>Здравствуйте!  Дублирую свое заявление от 03.0...</td>\n",
       "      <td>NaN</td>\n",
       "    </tr>\n",
       "    <tr>\n",
       "      <th>3</th>\n",
       "      <td>г. Ставрополь</td>\n",
       "      <td>False</td>\n",
       "      <td>Меняют проценты комиссии  не предупредив и не ...</td>\n",
       "      <td>2</td>\n",
       "      <td>лицензия № 1481</td>\n",
       "      <td>643609</td>\n",
       "      <td>Сбербанк России</td>\n",
       "      <td>2015-06-05 13:51:01</td>\n",
       "      <td>Добрый день!! Я открыл расчетный счет в СберБа...</td>\n",
       "      <td>NaN</td>\n",
       "    </tr>\n",
       "    <tr>\n",
       "      <th>4</th>\n",
       "      <td>г. Челябинск</td>\n",
       "      <td>False</td>\n",
       "      <td>Верните денежные средства за страховку</td>\n",
       "      <td>1</td>\n",
       "      <td>лицензия № 2766</td>\n",
       "      <td>anfisa-2003</td>\n",
       "      <td>ОТП Банк</td>\n",
       "      <td>2015-06-05 10:58:12</td>\n",
       "      <td>04.03.2015 г. взяла кредит в вашем банке, заяв...</td>\n",
       "      <td>NaN</td>\n",
       "    </tr>\n",
       "  </tbody>\n",
       "</table>\n",
       "</div>"
      ],
      "text/plain": [
       "             city  rating_not_checked  \\\n",
       "0       г. Москва               False   \n",
       "1  г. Новосибирск               False   \n",
       "2       г. Москва               False   \n",
       "3   г. Ставрополь               False   \n",
       "4    г. Челябинск               False   \n",
       "\n",
       "                                               title  num_comments  \\\n",
       "0                                             Жалоба             0   \n",
       "1      Не могу пользоваться услугой Сбербанк он-лайн             0   \n",
       "2                    Двойное списание за один товар.             1   \n",
       "3  Меняют проценты комиссии  не предупредив и не ...             2   \n",
       "4             Верните денежные средства за страховку             1   \n",
       "\n",
       "      bank_license       author        bank_name             datetime  \\\n",
       "0  лицензия № 2562       uhnov1          Бинбанк  2015-06-08 12:50:54   \n",
       "1  лицензия № 1481       Foryou  Сбербанк России  2015-06-08 11:09:57   \n",
       "2  лицензия № 2562   Vladimir84          Бинбанк  2015-06-05 20:14:28   \n",
       "3  лицензия № 1481       643609  Сбербанк России  2015-06-05 13:51:01   \n",
       "4  лицензия № 2766  anfisa-2003         ОТП Банк  2015-06-05 10:58:12   \n",
       "\n",
       "                                                text  rating_grade  \n",
       "0  Добрый день! Я не являюсь клиентом банка и пор...           NaN  \n",
       "1  Доброго дня! Являюсь держателем зарплатной кар...           NaN  \n",
       "2  Здравствуйте!  Дублирую свое заявление от 03.0...           NaN  \n",
       "3  Добрый день!! Я открыл расчетный счет в СберБа...           NaN  \n",
       "4  04.03.2015 г. взяла кредит в вашем банке, заяв...           NaN  "
      ]
     },
     "execution_count": 10,
     "metadata": {},
     "output_type": "execute_result"
    }
   ],
   "source": [
    "df = pd.DataFrame(responses)\n",
    "df.head()"
   ]
  },
  {
   "cell_type": "markdown",
   "id": "f74ddb53",
   "metadata": {},
   "source": [
    "### Часть 1: Составление словарей для классификации по тональности.\n",
    "#### Разбить всю коллекцию отзывов на предложения. Лемматизировать все слова."
   ]
  },
  {
   "cell_type": "code",
   "execution_count": 11,
   "id": "15c20ffd",
   "metadata": {},
   "outputs": [],
   "source": [
    "sentences = []\n",
    "for i in range(len(df)):\n",
    "    sentences.extend(sent_tokenize(df.text.iloc[i]))"
   ]
  },
  {
   "cell_type": "code",
   "execution_count": 12,
   "id": "d5f57b00",
   "metadata": {},
   "outputs": [
    {
     "data": {
      "text/plain": [
       "['Добрый день!',\n",
       " 'Я не являюсь клиентом банка и поручителем по кредитному договору, а также не являюсь каким-либо другим лицом, письменно  оформившим отношения с банком по поводу урегулирования чьей-либо  задолженности.',\n",
       " 'Начиная с марта 2015 года начали приходить бесконечные письма из ООО \"Примо коллект\"на мой адрес: город Москва, Уваровский переулок, дом 10, квартира 111, с угрозами о возбуждении уголовного дела в отношении гражданина Филиппова Эдуарда Владимировича, который уклоняется от уплаты взятых им кредитов: договор № 81014 от 20.10.2013 года и договор № 2464946 от 09.10.2014 года.',\n",
       " 'Со всей ответственностью\\xa0 хочу Вас заверить, что вышеуказанный гражданин, которого Вы разыскиваете, мне не знаком и никогда в моем адресе не был зарегистрирован.',\n",
       " 'Каким образом Вы не удостоверившись в подлинности его документов оформили на его имя кредитный договор, мне по меньшей мере не понятно,\\xa0 и почему по Вашей милости я должна переживать и бояться за себе и свое имущество.']"
      ]
     },
     "execution_count": 12,
     "metadata": {},
     "output_type": "execute_result"
    }
   ],
   "source": [
    "sentences[:5]"
   ]
  },
  {
   "cell_type": "code",
   "execution_count": 13,
   "id": "bf75bfd8",
   "metadata": {},
   "outputs": [],
   "source": [
    "morph = pymorphy2.MorphAnalyzer()"
   ]
  },
  {
   "cell_type": "code",
   "execution_count": 14,
   "id": "2b4d74dc",
   "metadata": {},
   "outputs": [
    {
     "name": "stderr",
     "output_type": "stream",
     "text": [
      "100%|█████████████████████████████████████████████████████████████████████| 2664065/2664065 [3:39:35<00:00, 202.20it/s]\n"
     ]
    }
   ],
   "source": [
    "lemmas = []\n",
    "for sentence in tqdm(sentences):\n",
    "    lemmas.append(preprocess(sentence))"
   ]
  },
  {
   "cell_type": "code",
   "execution_count": 16,
   "id": "6890937c",
   "metadata": {
    "scrolled": true
   },
   "outputs": [
    {
     "data": {
      "text/plain": [
       "['добрый день',\n",
       " 'являться клиент банк поручитель кредитный договор также являться либо лицо письменно оформить отношение банк повод урегулирование чей либо задолженность',\n",
       " 'начинать март год начать приходить бесконечный письмо ооо прить коллект адрес город москва уваровский переулок дом квартира угроза возбуждение уголовный дело отношение гражданин филиппов эдуард владимирович который уклоняться уплата взять кредит договор год договор год',\n",
       " 'весь ответственность хотеть заверить вышеуказанный гражданин который разыскивать знак адрес зарегистрировать',\n",
       " 'образ удостовериться подлинность документ оформить имя кредитный договор малый мера понятно почему ваш милость должный переживать бояться свой имущество']"
      ]
     },
     "execution_count": 16,
     "metadata": {},
     "output_type": "execute_result"
    }
   ],
   "source": [
    "lemmas[:5]"
   ]
  },
  {
   "cell_type": "markdown",
   "id": "f39170b9",
   "metadata": {},
   "source": [
    "#### Обучение по коллекции предложений word2vec."
   ]
  },
  {
   "cell_type": "code",
   "execution_count": 24,
   "id": "cf965e2b",
   "metadata": {},
   "outputs": [],
   "source": [
    "words = [sentence.split() for sentence in lemmas]"
   ]
  },
  {
   "cell_type": "code",
   "execution_count": 28,
   "id": "00915d13",
   "metadata": {},
   "outputs": [],
   "source": [
    "model_response = word2vec.Word2Vec(words, workers=4, vector_size=200, min_count=3, window=5, epochs=15)"
   ]
  },
  {
   "cell_type": "code",
   "execution_count": 235,
   "id": "bc6a15ed",
   "metadata": {},
   "outputs": [],
   "source": [
    "model_response.save(\"model_w2v.model\")"
   ]
  },
  {
   "cell_type": "markdown",
   "id": "332de751",
   "metadata": {},
   "source": [
    "#### Привести несколько удачных и неудачных примеров решения стандартных текстов для word2vec."
   ]
  },
  {
   "cell_type": "code",
   "execution_count": 34,
   "id": "9aa3a77a",
   "metadata": {},
   "outputs": [
    {
     "data": {
      "text/plain": [
       "[('заработок', 0.7398349046707153),\n",
       " ('ндфл', 0.6394184231758118),\n",
       " ('оклад', 0.5916330814361572),\n",
       " ('прибыль', 0.570221483707428),\n",
       " ('зарплата', 0.5633077621459961),\n",
       " ('зп', 0.5517975687980652),\n",
       " ('доходность', 0.5093913674354553),\n",
       " ('иждивенец', 0.5003501772880554),\n",
       " ('оборот', 0.4870395362377167),\n",
       " ('инфляция', 0.48121801018714905)]"
      ]
     },
     "execution_count": 34,
     "metadata": {},
     "output_type": "execute_result"
    }
   ],
   "source": [
    "model_response.wv.most_similar('доход')"
   ]
  },
  {
   "cell_type": "code",
   "execution_count": 52,
   "id": "c9a2d603",
   "metadata": {},
   "outputs": [
    {
     "data": {
      "text/plain": [
       "[('парень', 0.5981752276420593),\n",
       " ('женщина', 0.5726892352104187),\n",
       " ('особа', 0.5610772371292114),\n",
       " ('жь', 0.5284541249275208),\n",
       " ('мужчина', 0.5239837169647217),\n",
       " ('паренёк', 0.515592634677887),\n",
       " ('дама', 0.5074449181556702),\n",
       " ('мужик', 0.4959198832511902),\n",
       " ('девушка', 0.4720597565174103),\n",
       " ('барышня', 0.45441964268684387)]"
      ]
     },
     "execution_count": 52,
     "metadata": {},
     "output_type": "execute_result"
    }
   ],
   "source": [
    "model_response.wv.most_similar(positive=['сотрудник', 'человек'], negative=['работник'])"
   ]
  },
  {
   "cell_type": "code",
   "execution_count": 40,
   "id": "edd639f0",
   "metadata": {},
   "outputs": [
    {
     "data": {
      "text/plain": [
       "'кредит'"
      ]
     },
     "execution_count": 40,
     "metadata": {},
     "output_type": "execute_result"
    }
   ],
   "source": [
    "model_response.wv.doesnt_match('вклад прибыль доход рост кредит'.split())"
   ]
  },
  {
   "cell_type": "code",
   "execution_count": 50,
   "id": "248d89c3",
   "metadata": {},
   "outputs": [
    {
     "name": "stdout",
     "output_type": "stream",
     "text": [
      "0.3928402\n",
      "0.46484727\n"
     ]
    }
   ],
   "source": [
    "print(model_response.wv.similarity('процент', 'инфляция'))\n",
    "print(model_response.wv.similarity('заработок', 'инфляция'))"
   ]
  },
  {
   "cell_type": "markdown",
   "id": "e9bde385",
   "metadata": {},
   "source": [
    "**Вывод:** тесты показали, что модель хорошо обучилась, хотя мы видим, странное слово 'жь' во втором тесте."
   ]
  },
  {
   "cell_type": "markdown",
   "id": "54042b30",
   "metadata": {},
   "source": [
    "### Построение визуализаций:\n",
    "- TSNE для топ-500 слов и найти осмысленные кластеры слов."
   ]
  },
  {
   "cell_type": "code",
   "execution_count": 65,
   "id": "9a2142ee",
   "metadata": {},
   "outputs": [
    {
     "name": "stdout",
     "output_type": "stream",
     "text": [
      "['банк', 'карта', 'это', 'деньга', 'день', 'всё', 'кредит', 'который', 'отделение', 'клиент', 'сотрудник', 'мочь', 'счёт', 'свой', 'сказать', 'сумма', 'заявление', 'год', 'вопрос', 'время', 'ещё', 'получить', 'кредитный', 'весь', 'ответ', 'вклад', 'офис', 'телефон', 'платёж', 'договор', 'ваш', 'дать', 'номер', 'звонить', 'банкомат', 'сбербанк', 'очень', 'позвонить', 'г', 'месяц', 'написать', 'проблема', 'работать', 'средство', 'рубль', 'работа', 'документ', 'ситуация', 'звонок', 'прийти', 'решить', 'говорить', 'человек', 'хотеть', 'операция', 'почему', 'должный', 'информация', 'сделать', 'смс', 'срок', 'услуга', 'заявка', 'знать', 'просто', 'обслуживание', 'очередь', 'минута', 'обратиться', 'данный', 'большой', 'первый', 'сегодня', 'девушка', 'ждать', 'сайт', 'руб', 'претензия', 'новый', 'просить', 'интернет', 'процент', 'неделя', 'никакой', 'оператор', 'сообщить', 'ответить', 'являться', 'далее', 'стать', 'нужно', 'час', 'несколько', 'оформить', 'перевод', 'писать', 'комиссия', 'следующий', 'хотя', 'иметь', 'пользоваться', 'условие', 'центр', 'момент', 'задолженность', 'взять', 'течение', 'случай', 'вообще', 'делать', 'сразу', 'также', 'вс', 'дело', 'приходить', 'выдать', 'никто', 'решение', 'служба', 'специалист', 'открыть', 'система', 'принять', 'пройти', 'денежный', 'обращение', 'отзыв', 'хороший', 'адрес', 'смочь', 'москва', 'оплата', 'наш', 'итог', 'менеджер', 'узнать', 'указать', 'снять', 'каждый', 'пока', 'р', 'нужный', 'касса', 'история', 'общий', 'думать', 'слово', 'оплатить', 'оказаться', 'предложить', 'вернуть', 'погашение', 'добрый', 'отношение', 'прийтись', 'самый', 'идти', 'поддержка', 'брать', 'последний', 'получать', 'попросить', 'получение', 'объяснить', 'второй', 'лицо', 'спасибо', 'письмо', 'лимит', 'дата', 'линия', 'рабочий', 'платить', 'отправить', 'связь', 'возможность', 'причина', 'ошибка', 'сотрудница', 'просьба', 'банковский', 'находиться', 'снова', 'либо', 'паспорт', 'около', 'внести', 'альфа', 'м', 'предоставить', 'конец', 'понимать', 'место', 'именно', 'друг', 'отвечать', 'закрыть', 'долг', 'обращаться', 'действие', 'выписка', 'справка', 'хотеться', 'страховка', 'ещ', 'карточка', 'оформление', 'рассмотрение', 'помочь', 'видеть', 'назад', 'отказ', 'поэтому', 'данные', 'полный', 'погасить', 'давать', 'пытаться', 'остаться', 'заблокировать', 'операционист', 'любой', 'администратор', 'результат', 'горячий', 'уточнить', 'сообщение', 'приехать', 'терминал', 'число', 'ставка', 'разобраться', 'закрытие', 'втб', 'просрочка', 'мобильный', 'понять', 'ул', 'отдел', 'город', 'оставить', 'покупка', 'право', 'сч', 'филиал', 'декабрь', 'почта', 'пора', 'списать', 'списание', 'перезвонить', 'таки', 'быстро', 'открытие', 'считать', 'сторона', 'дебетовый', 'пойти', 'размер', 'перевести', 'снятие', 'поступить', 'спросить', 'отказаться', 'произойти', 'онлайн', 'начать', 'надеяться', 'начало', 'однако', 'программа', 'найти', 'обещать', 'колл', 'копия', 'п', 'подать', 'здравствуйте', 'наличный', 'сколько', 'предложение', 'суд', 'положить', 'имя', 'жалоба', 'порядок', 'сей', 'очередной', 'стоить', 'видимо', 'оформлять', 'возврат', 'магазин', 'код', 'чек', 'тариф', 'рука', 'уйти', 'дополнительный', 'тысяча', 'прислать', 'остаток', 'выдача', 'разговор', 'личный', 'электронный', 'уважаемый', 'март', 'зарплатный', 'спрашивать', 'долго', 'россия', 'внимание', 'готовый', 'провести', 'близкий', 'одобрить', 'требовать', 'маленький', 'отказать', 'запрос', 'пара', 'январь', 'представитель', 'необходимо', 'курс', 'причём', 'забрать', 'рф', 'сервис', 'образ', 'кассир', 'указанный', 'работник', 'принимать', 'досрочный', 'организация', 'тыс', 'проверить', 'депозит', 'связаться', 'возможно', 'вежливый', 'больший', 'разный', 'анкета', 'факт', 'пожалуйста', 'далёкий', 'апрель', 'оценка', 'период', 'некоторый', 'компания', 'л', 'май', 'заплатить', 'зайти', 'заполнить', 'штраф', 'страхование', 'предлагать', 'сначала', 'повод', 'сообщать', 'закрытый', 'необходимый', 'оплачивать', 'снимать', 'требование', 'положительный', 'технический', 'увидеть', 'подключить', 'попытка', 'плата', 'форма', 'продукт', 'дом', 'ранний', 'февраль', 'ноябрь', 'третий', 'ладный', 'качество', 'квартира', 'кроме', 'возникнуть', 'вид', 'начаться', 'годовой', 'вчера', 'подобный', 'октябрь', 'х', 'подписать', 'поступать', 'часть', 'посмотреть', 'действительно', 'сожаление', 'уведомление', 'туда', 'общение', 'происходить', 'получаться', 'сбер', 'объяснять', 'трубка', 'купюра', 'воспользоваться', 'август', 'помощь', 'сидеть', 'руководство', 'точно', 'примерно', 'давно', 'сентябрь', 'оказываться', 'подойти', 'подождать', 'дозвониться', 'ожидание', 'кстати', 'плюс', 'впечатление', 'сбой', 'поздний', 'основание', 'естественно', 'закон', 'достаточно', 'составить', 'открывать', 'смотреть', 'рассказать', 'потратить', 'безопасность', 'выдавать', 'рассмотреть', 'поставить', 'страховой', 'поскольку', 'вроде', 'ежемесячный', 'выяснить', 'цель', 'полностью', 'правда', 'лично', 'выясниться', 'перевыпуск', 'минус', 'текущий', 'сутки', 'назвать', 'отсутствие', 'передать', 'удобный', 'подтвердить', 'жизнь', 'фамилия', 'июль', 'завтра', 'руководитель', 'го', 'начинать', 'ранее', 'появиться', 'бесплатный', 'валюта', 'русский', 'общаться', 'доп', 'ипотека', 'постоянно', 'правило', 'единственный', 'пункт', 'потерять', 'вносить', 'зачислить', 'лишь', 'июнь', 'связный', 'утро', 'баланс', 'стандарт', 'операционистка', 'иметься', 'пароль', 'обслуживаться', 'заниматься', 'проходить', 'реквизит', 'пополнение', 'база', 'телефонный', 'понятно']\n"
     ]
    }
   ],
   "source": [
    "top_words = []\n",
    "fd = FreqDist()\n",
    "for word in words:\n",
    "    fd.update(word)\n",
    "for idx in fd.most_common(500):\n",
    "    top_words.append(idx[0])\n",
    "print(top_words)"
   ]
  },
  {
   "cell_type": "code",
   "execution_count": 66,
   "id": "35276c81",
   "metadata": {},
   "outputs": [],
   "source": [
    "top_words_vec = model_response.wv[top_words]\n",
    "tsne = TSNE(n_components=2, random_state=21)\n",
    "top_words_tsne = tsne.fit_transform(top_words_vec)"
   ]
  },
  {
   "cell_type": "code",
   "execution_count": 71,
   "id": "e22f1e6e",
   "metadata": {},
   "outputs": [
    {
     "data": {
      "text/html": [
       "\n",
       "    <div class=\"bk-root\">\n",
       "        <a href=\"https://bokeh.org\" target=\"_blank\" class=\"bk-logo bk-logo-small bk-logo-notebook\"></a>\n",
       "        <span id=\"1689\">Loading BokehJS ...</span>\n",
       "    </div>"
      ]
     },
     "metadata": {},
     "output_type": "display_data"
    },
    {
     "data": {
      "application/javascript": [
       "\n",
       "(function(root) {\n",
       "  function now() {\n",
       "    return new Date();\n",
       "  }\n",
       "\n",
       "  const force = true;\n",
       "\n",
       "  if (typeof root._bokeh_onload_callbacks === \"undefined\" || force === true) {\n",
       "    root._bokeh_onload_callbacks = [];\n",
       "    root._bokeh_is_loading = undefined;\n",
       "  }\n",
       "\n",
       "  const JS_MIME_TYPE = 'application/javascript';\n",
       "  const HTML_MIME_TYPE = 'text/html';\n",
       "  const EXEC_MIME_TYPE = 'application/vnd.bokehjs_exec.v0+json';\n",
       "  const CLASS_NAME = 'output_bokeh rendered_html';\n",
       "\n",
       "  /**\n",
       "   * Render data to the DOM node\n",
       "   */\n",
       "  function render(props, node) {\n",
       "    const script = document.createElement(\"script\");\n",
       "    node.appendChild(script);\n",
       "  }\n",
       "\n",
       "  /**\n",
       "   * Handle when an output is cleared or removed\n",
       "   */\n",
       "  function handleClearOutput(event, handle) {\n",
       "    const cell = handle.cell;\n",
       "\n",
       "    const id = cell.output_area._bokeh_element_id;\n",
       "    const server_id = cell.output_area._bokeh_server_id;\n",
       "    // Clean up Bokeh references\n",
       "    if (id != null && id in Bokeh.index) {\n",
       "      Bokeh.index[id].model.document.clear();\n",
       "      delete Bokeh.index[id];\n",
       "    }\n",
       "\n",
       "    if (server_id !== undefined) {\n",
       "      // Clean up Bokeh references\n",
       "      const cmd_clean = \"from bokeh.io.state import curstate; print(curstate().uuid_to_server['\" + server_id + \"'].get_sessions()[0].document.roots[0]._id)\";\n",
       "      cell.notebook.kernel.execute(cmd_clean, {\n",
       "        iopub: {\n",
       "          output: function(msg) {\n",
       "            const id = msg.content.text.trim();\n",
       "            if (id in Bokeh.index) {\n",
       "              Bokeh.index[id].model.document.clear();\n",
       "              delete Bokeh.index[id];\n",
       "            }\n",
       "          }\n",
       "        }\n",
       "      });\n",
       "      // Destroy server and session\n",
       "      const cmd_destroy = \"import bokeh.io.notebook as ion; ion.destroy_server('\" + server_id + \"')\";\n",
       "      cell.notebook.kernel.execute(cmd_destroy);\n",
       "    }\n",
       "  }\n",
       "\n",
       "  /**\n",
       "   * Handle when a new output is added\n",
       "   */\n",
       "  function handleAddOutput(event, handle) {\n",
       "    const output_area = handle.output_area;\n",
       "    const output = handle.output;\n",
       "\n",
       "    // limit handleAddOutput to display_data with EXEC_MIME_TYPE content only\n",
       "    if ((output.output_type != \"display_data\") || (!Object.prototype.hasOwnProperty.call(output.data, EXEC_MIME_TYPE))) {\n",
       "      return\n",
       "    }\n",
       "\n",
       "    const toinsert = output_area.element.find(\".\" + CLASS_NAME.split(' ')[0]);\n",
       "\n",
       "    if (output.metadata[EXEC_MIME_TYPE][\"id\"] !== undefined) {\n",
       "      toinsert[toinsert.length - 1].firstChild.textContent = output.data[JS_MIME_TYPE];\n",
       "      // store reference to embed id on output_area\n",
       "      output_area._bokeh_element_id = output.metadata[EXEC_MIME_TYPE][\"id\"];\n",
       "    }\n",
       "    if (output.metadata[EXEC_MIME_TYPE][\"server_id\"] !== undefined) {\n",
       "      const bk_div = document.createElement(\"div\");\n",
       "      bk_div.innerHTML = output.data[HTML_MIME_TYPE];\n",
       "      const script_attrs = bk_div.children[0].attributes;\n",
       "      for (let i = 0; i < script_attrs.length; i++) {\n",
       "        toinsert[toinsert.length - 1].firstChild.setAttribute(script_attrs[i].name, script_attrs[i].value);\n",
       "        toinsert[toinsert.length - 1].firstChild.textContent = bk_div.children[0].textContent\n",
       "      }\n",
       "      // store reference to server id on output_area\n",
       "      output_area._bokeh_server_id = output.metadata[EXEC_MIME_TYPE][\"server_id\"];\n",
       "    }\n",
       "  }\n",
       "\n",
       "  function register_renderer(events, OutputArea) {\n",
       "\n",
       "    function append_mime(data, metadata, element) {\n",
       "      // create a DOM node to render to\n",
       "      const toinsert = this.create_output_subarea(\n",
       "        metadata,\n",
       "        CLASS_NAME,\n",
       "        EXEC_MIME_TYPE\n",
       "      );\n",
       "      this.keyboard_manager.register_events(toinsert);\n",
       "      // Render to node\n",
       "      const props = {data: data, metadata: metadata[EXEC_MIME_TYPE]};\n",
       "      render(props, toinsert[toinsert.length - 1]);\n",
       "      element.append(toinsert);\n",
       "      return toinsert\n",
       "    }\n",
       "\n",
       "    /* Handle when an output is cleared or removed */\n",
       "    events.on('clear_output.CodeCell', handleClearOutput);\n",
       "    events.on('delete.Cell', handleClearOutput);\n",
       "\n",
       "    /* Handle when a new output is added */\n",
       "    events.on('output_added.OutputArea', handleAddOutput);\n",
       "\n",
       "    /**\n",
       "     * Register the mime type and append_mime function with output_area\n",
       "     */\n",
       "    OutputArea.prototype.register_mime_type(EXEC_MIME_TYPE, append_mime, {\n",
       "      /* Is output safe? */\n",
       "      safe: true,\n",
       "      /* Index of renderer in `output_area.display_order` */\n",
       "      index: 0\n",
       "    });\n",
       "  }\n",
       "\n",
       "  // register the mime type if in Jupyter Notebook environment and previously unregistered\n",
       "  if (root.Jupyter !== undefined) {\n",
       "    const events = require('base/js/events');\n",
       "    const OutputArea = require('notebook/js/outputarea').OutputArea;\n",
       "\n",
       "    if (OutputArea.prototype.mime_types().indexOf(EXEC_MIME_TYPE) == -1) {\n",
       "      register_renderer(events, OutputArea);\n",
       "    }\n",
       "  }\n",
       "\n",
       "  \n",
       "  if (typeof (root._bokeh_timeout) === \"undefined\" || force === true) {\n",
       "    root._bokeh_timeout = Date.now() + 5000;\n",
       "    root._bokeh_failed_load = false;\n",
       "  }\n",
       "\n",
       "  const NB_LOAD_WARNING = {'data': {'text/html':\n",
       "     \"<div style='background-color: #fdd'>\\n\"+\n",
       "     \"<p>\\n\"+\n",
       "     \"BokehJS does not appear to have successfully loaded. If loading BokehJS from CDN, this \\n\"+\n",
       "     \"may be due to a slow or bad network connection. Possible fixes:\\n\"+\n",
       "     \"</p>\\n\"+\n",
       "     \"<ul>\\n\"+\n",
       "     \"<li>re-rerun `output_notebook()` to attempt to load from CDN again, or</li>\\n\"+\n",
       "     \"<li>use INLINE resources instead, as so:</li>\\n\"+\n",
       "     \"</ul>\\n\"+\n",
       "     \"<code>\\n\"+\n",
       "     \"from bokeh.resources import INLINE\\n\"+\n",
       "     \"output_notebook(resources=INLINE)\\n\"+\n",
       "     \"</code>\\n\"+\n",
       "     \"</div>\"}};\n",
       "\n",
       "  function display_loaded() {\n",
       "    const el = document.getElementById(\"1689\");\n",
       "    if (el != null) {\n",
       "      el.textContent = \"BokehJS is loading...\";\n",
       "    }\n",
       "    if (root.Bokeh !== undefined) {\n",
       "      if (el != null) {\n",
       "        el.textContent = \"BokehJS \" + root.Bokeh.version + \" successfully loaded.\";\n",
       "      }\n",
       "    } else if (Date.now() < root._bokeh_timeout) {\n",
       "      setTimeout(display_loaded, 100)\n",
       "    }\n",
       "  }\n",
       "\n",
       "\n",
       "  function run_callbacks() {\n",
       "    try {\n",
       "      root._bokeh_onload_callbacks.forEach(function(callback) {\n",
       "        if (callback != null)\n",
       "          callback();\n",
       "      });\n",
       "    } finally {\n",
       "      delete root._bokeh_onload_callbacks\n",
       "    }\n",
       "    console.debug(\"Bokeh: all callbacks have finished\");\n",
       "  }\n",
       "\n",
       "  function load_libs(css_urls, js_urls, callback) {\n",
       "    if (css_urls == null) css_urls = [];\n",
       "    if (js_urls == null) js_urls = [];\n",
       "\n",
       "    root._bokeh_onload_callbacks.push(callback);\n",
       "    if (root._bokeh_is_loading > 0) {\n",
       "      console.debug(\"Bokeh: BokehJS is being loaded, scheduling callback at\", now());\n",
       "      return null;\n",
       "    }\n",
       "    if (js_urls == null || js_urls.length === 0) {\n",
       "      run_callbacks();\n",
       "      return null;\n",
       "    }\n",
       "    console.debug(\"Bokeh: BokehJS not loaded, scheduling load and callback at\", now());\n",
       "    root._bokeh_is_loading = css_urls.length + js_urls.length;\n",
       "\n",
       "    function on_load() {\n",
       "      root._bokeh_is_loading--;\n",
       "      if (root._bokeh_is_loading === 0) {\n",
       "        console.debug(\"Bokeh: all BokehJS libraries/stylesheets loaded\");\n",
       "        run_callbacks()\n",
       "      }\n",
       "    }\n",
       "\n",
       "    function on_error(url) {\n",
       "      console.error(\"failed to load \" + url);\n",
       "    }\n",
       "\n",
       "    for (let i = 0; i < css_urls.length; i++) {\n",
       "      const url = css_urls[i];\n",
       "      const element = document.createElement(\"link\");\n",
       "      element.onload = on_load;\n",
       "      element.onerror = on_error.bind(null, url);\n",
       "      element.rel = \"stylesheet\";\n",
       "      element.type = \"text/css\";\n",
       "      element.href = url;\n",
       "      console.debug(\"Bokeh: injecting link tag for BokehJS stylesheet: \", url);\n",
       "      document.body.appendChild(element);\n",
       "    }\n",
       "\n",
       "    for (let i = 0; i < js_urls.length; i++) {\n",
       "      const url = js_urls[i];\n",
       "      const element = document.createElement('script');\n",
       "      element.onload = on_load;\n",
       "      element.onerror = on_error.bind(null, url);\n",
       "      element.async = false;\n",
       "      element.src = url;\n",
       "      console.debug(\"Bokeh: injecting script tag for BokehJS library: \", url);\n",
       "      document.head.appendChild(element);\n",
       "    }\n",
       "  };\n",
       "\n",
       "  function inject_raw_css(css) {\n",
       "    const element = document.createElement(\"style\");\n",
       "    element.appendChild(document.createTextNode(css));\n",
       "    document.body.appendChild(element);\n",
       "  }\n",
       "\n",
       "  \n",
       "  const js_urls = [\"https://cdn.bokeh.org/bokeh/release/bokeh-2.4.2.min.js\", \"https://cdn.bokeh.org/bokeh/release/bokeh-gl-2.4.2.min.js\", \"https://cdn.bokeh.org/bokeh/release/bokeh-widgets-2.4.2.min.js\", \"https://cdn.bokeh.org/bokeh/release/bokeh-tables-2.4.2.min.js\", \"https://cdn.bokeh.org/bokeh/release/bokeh-mathjax-2.4.2.min.js\"];\n",
       "  const css_urls = [];\n",
       "  \n",
       "\n",
       "  const inline_js = [\n",
       "    function(Bokeh) {\n",
       "      Bokeh.set_log_level(\"info\");\n",
       "    },\n",
       "    function(Bokeh) {\n",
       "    \n",
       "    \n",
       "    }\n",
       "  ];\n",
       "\n",
       "  function run_inline_js() {\n",
       "    \n",
       "    if (root.Bokeh !== undefined || force === true) {\n",
       "      \n",
       "    for (let i = 0; i < inline_js.length; i++) {\n",
       "      inline_js[i].call(root, root.Bokeh);\n",
       "    }\n",
       "    if (force === true) {\n",
       "        display_loaded();\n",
       "      }} else if (Date.now() < root._bokeh_timeout) {\n",
       "      setTimeout(run_inline_js, 100);\n",
       "    } else if (!root._bokeh_failed_load) {\n",
       "      console.log(\"Bokeh: BokehJS failed to load within specified timeout.\");\n",
       "      root._bokeh_failed_load = true;\n",
       "    } else if (force !== true) {\n",
       "      const cell = $(document.getElementById(\"1689\")).parents('.cell').data().cell;\n",
       "      cell.output_area.append_execute_result(NB_LOAD_WARNING)\n",
       "    }\n",
       "\n",
       "  }\n",
       "\n",
       "  if (root._bokeh_is_loading === 0) {\n",
       "    console.debug(\"Bokeh: BokehJS loaded, going straight to plotting\");\n",
       "    run_inline_js();\n",
       "  } else {\n",
       "    load_libs(css_urls, js_urls, function() {\n",
       "      console.debug(\"Bokeh: BokehJS plotting callback run at\", now());\n",
       "      run_inline_js();\n",
       "    });\n",
       "  }\n",
       "}(window));"
      ],
      "application/vnd.bokehjs_load.v0+json": "\n(function(root) {\n  function now() {\n    return new Date();\n  }\n\n  const force = true;\n\n  if (typeof root._bokeh_onload_callbacks === \"undefined\" || force === true) {\n    root._bokeh_onload_callbacks = [];\n    root._bokeh_is_loading = undefined;\n  }\n\n  \n\n  \n  if (typeof (root._bokeh_timeout) === \"undefined\" || force === true) {\n    root._bokeh_timeout = Date.now() + 5000;\n    root._bokeh_failed_load = false;\n  }\n\n  const NB_LOAD_WARNING = {'data': {'text/html':\n     \"<div style='background-color: #fdd'>\\n\"+\n     \"<p>\\n\"+\n     \"BokehJS does not appear to have successfully loaded. If loading BokehJS from CDN, this \\n\"+\n     \"may be due to a slow or bad network connection. Possible fixes:\\n\"+\n     \"</p>\\n\"+\n     \"<ul>\\n\"+\n     \"<li>re-rerun `output_notebook()` to attempt to load from CDN again, or</li>\\n\"+\n     \"<li>use INLINE resources instead, as so:</li>\\n\"+\n     \"</ul>\\n\"+\n     \"<code>\\n\"+\n     \"from bokeh.resources import INLINE\\n\"+\n     \"output_notebook(resources=INLINE)\\n\"+\n     \"</code>\\n\"+\n     \"</div>\"}};\n\n  function display_loaded() {\n    const el = document.getElementById(\"1689\");\n    if (el != null) {\n      el.textContent = \"BokehJS is loading...\";\n    }\n    if (root.Bokeh !== undefined) {\n      if (el != null) {\n        el.textContent = \"BokehJS \" + root.Bokeh.version + \" successfully loaded.\";\n      }\n    } else if (Date.now() < root._bokeh_timeout) {\n      setTimeout(display_loaded, 100)\n    }\n  }\n\n\n  function run_callbacks() {\n    try {\n      root._bokeh_onload_callbacks.forEach(function(callback) {\n        if (callback != null)\n          callback();\n      });\n    } finally {\n      delete root._bokeh_onload_callbacks\n    }\n    console.debug(\"Bokeh: all callbacks have finished\");\n  }\n\n  function load_libs(css_urls, js_urls, callback) {\n    if (css_urls == null) css_urls = [];\n    if (js_urls == null) js_urls = [];\n\n    root._bokeh_onload_callbacks.push(callback);\n    if (root._bokeh_is_loading > 0) {\n      console.debug(\"Bokeh: BokehJS is being loaded, scheduling callback at\", now());\n      return null;\n    }\n    if (js_urls == null || js_urls.length === 0) {\n      run_callbacks();\n      return null;\n    }\n    console.debug(\"Bokeh: BokehJS not loaded, scheduling load and callback at\", now());\n    root._bokeh_is_loading = css_urls.length + js_urls.length;\n\n    function on_load() {\n      root._bokeh_is_loading--;\n      if (root._bokeh_is_loading === 0) {\n        console.debug(\"Bokeh: all BokehJS libraries/stylesheets loaded\");\n        run_callbacks()\n      }\n    }\n\n    function on_error(url) {\n      console.error(\"failed to load \" + url);\n    }\n\n    for (let i = 0; i < css_urls.length; i++) {\n      const url = css_urls[i];\n      const element = document.createElement(\"link\");\n      element.onload = on_load;\n      element.onerror = on_error.bind(null, url);\n      element.rel = \"stylesheet\";\n      element.type = \"text/css\";\n      element.href = url;\n      console.debug(\"Bokeh: injecting link tag for BokehJS stylesheet: \", url);\n      document.body.appendChild(element);\n    }\n\n    for (let i = 0; i < js_urls.length; i++) {\n      const url = js_urls[i];\n      const element = document.createElement('script');\n      element.onload = on_load;\n      element.onerror = on_error.bind(null, url);\n      element.async = false;\n      element.src = url;\n      console.debug(\"Bokeh: injecting script tag for BokehJS library: \", url);\n      document.head.appendChild(element);\n    }\n  };\n\n  function inject_raw_css(css) {\n    const element = document.createElement(\"style\");\n    element.appendChild(document.createTextNode(css));\n    document.body.appendChild(element);\n  }\n\n  \n  const js_urls = [\"https://cdn.bokeh.org/bokeh/release/bokeh-2.4.2.min.js\", \"https://cdn.bokeh.org/bokeh/release/bokeh-gl-2.4.2.min.js\", \"https://cdn.bokeh.org/bokeh/release/bokeh-widgets-2.4.2.min.js\", \"https://cdn.bokeh.org/bokeh/release/bokeh-tables-2.4.2.min.js\", \"https://cdn.bokeh.org/bokeh/release/bokeh-mathjax-2.4.2.min.js\"];\n  const css_urls = [];\n  \n\n  const inline_js = [\n    function(Bokeh) {\n      Bokeh.set_log_level(\"info\");\n    },\n    function(Bokeh) {\n    \n    \n    }\n  ];\n\n  function run_inline_js() {\n    \n    if (root.Bokeh !== undefined || force === true) {\n      \n    for (let i = 0; i < inline_js.length; i++) {\n      inline_js[i].call(root, root.Bokeh);\n    }\n    if (force === true) {\n        display_loaded();\n      }} else if (Date.now() < root._bokeh_timeout) {\n      setTimeout(run_inline_js, 100);\n    } else if (!root._bokeh_failed_load) {\n      console.log(\"Bokeh: BokehJS failed to load within specified timeout.\");\n      root._bokeh_failed_load = true;\n    } else if (force !== true) {\n      const cell = $(document.getElementById(\"1689\")).parents('.cell').data().cell;\n      cell.output_area.append_execute_result(NB_LOAD_WARNING)\n    }\n\n  }\n\n  if (root._bokeh_is_loading === 0) {\n    console.debug(\"Bokeh: BokehJS loaded, going straight to plotting\");\n    run_inline_js();\n  } else {\n    load_libs(css_urls, js_urls, function() {\n      console.debug(\"Bokeh: BokehJS plotting callback run at\", now());\n      run_inline_js();\n    });\n  }\n}(window));"
     },
     "metadata": {},
     "output_type": "display_data"
    },
    {
     "data": {
      "text/html": [
       "\n",
       "\n",
       "\n",
       "\n",
       "\n",
       "\n",
       "  <div class=\"bk-root\" id=\"9c995340-5d22-406f-8130-f5e4440a939f\" data-root-id=\"1690\"></div>\n"
      ]
     },
     "metadata": {},
     "output_type": "display_data"
    },
    {
     "data": {
      "application/javascript": [
       "(function(root) {\n",
       "  function embed_document(root) {\n",
       "    \n",
       "  const docs_json = {\"26470027-4731-4124-848d-322226e3db6b\":{\"defs\":[],\"roots\":{\"references\":[{\"attributes\":{\"below\":[{\"id\":\"1701\"}],\"center\":[{\"id\":\"1704\"},{\"id\":\"1708\"},{\"id\":\"1725\"}],\"left\":[{\"id\":\"1705\"}],\"renderers\":[{\"id\":\"1723\"}],\"title\":{\"id\":\"1691\"},\"toolbar\":{\"id\":\"1713\"},\"toolbar_location\":\"above\",\"x_range\":{\"id\":\"1693\"},\"x_scale\":{\"id\":\"1697\"},\"y_range\":{\"id\":\"1695\"},\"y_scale\":{\"id\":\"1699\"}},\"id\":\"1690\",\"subtype\":\"Figure\",\"type\":\"Plot\"},{\"attributes\":{\"coordinates\":null,\"group\":null,\"text\":\"TSNE \\u0434\\u043b\\u044f \\u0442\\u043e\\u043f-500 \\u0441\\u043b\\u043e\\u0432\"},\"id\":\"1691\",\"type\":\"Title\"},{\"attributes\":{},\"id\":\"1789\",\"type\":\"Selection\"},{\"attributes\":{\"fill_alpha\":{\"value\":0.2},\"fill_color\":{\"value\":\"#1f77b4\"},\"hatch_alpha\":{\"value\":0.2},\"line_alpha\":{\"value\":0.2},\"line_color\":{\"value\":\"#1f77b4\"},\"size\":{\"value\":6},\"x\":{\"field\":\"x\"},\"y\":{\"field\":\"y\"}},\"id\":\"1722\",\"type\":\"Scatter\"},{\"attributes\":{},\"id\":\"1699\",\"type\":\"LinearScale\"},{\"attributes\":{},\"id\":\"1702\",\"type\":\"BasicTicker\"},{\"attributes\":{\"coordinates\":null,\"data_source\":{\"id\":\"1718\"},\"glyph\":{\"id\":\"1720\"},\"group\":null,\"hover_glyph\":null,\"muted_glyph\":{\"id\":\"1722\"},\"nonselection_glyph\":{\"id\":\"1721\"},\"view\":{\"id\":\"1724\"}},\"id\":\"1723\",\"type\":\"GlyphRenderer\"},{\"attributes\":{\"fill_alpha\":{\"value\":0.1},\"fill_color\":{\"value\":\"#1f77b4\"},\"hatch_alpha\":{\"value\":0.1},\"line_alpha\":{\"value\":0.1},\"line_color\":{\"value\":\"#1f77b4\"},\"size\":{\"value\":6},\"x\":{\"field\":\"x\"},\"y\":{\"field\":\"y\"}},\"id\":\"1721\",\"type\":\"Scatter\"},{\"attributes\":{},\"id\":\"1788\",\"type\":\"UnionRenderers\"},{\"attributes\":{\"tools\":[{\"id\":\"1709\"},{\"id\":\"1710\"},{\"id\":\"1711\"},{\"id\":\"1712\"}]},\"id\":\"1713\",\"type\":\"Toolbar\"},{\"attributes\":{},\"id\":\"1711\",\"type\":\"ResetTool\"},{\"attributes\":{},\"id\":\"1709\",\"type\":\"PanTool\"},{\"attributes\":{},\"id\":\"1787\",\"type\":\"AllLabels\"},{\"attributes\":{\"coordinates\":null,\"formatter\":{\"id\":\"1786\"},\"group\":null,\"major_label_policy\":{\"id\":\"1787\"},\"ticker\":{\"id\":\"1702\"}},\"id\":\"1701\",\"type\":\"LinearAxis\"},{\"attributes\":{},\"id\":\"1706\",\"type\":\"BasicTicker\"},{\"attributes\":{},\"id\":\"1712\",\"type\":\"SaveTool\"},{\"attributes\":{},\"id\":\"1695\",\"type\":\"DataRange1d\"},{\"attributes\":{\"coordinates\":null,\"formatter\":{\"id\":\"1783\"},\"group\":null,\"major_label_policy\":{\"id\":\"1784\"},\"ticker\":{\"id\":\"1706\"}},\"id\":\"1705\",\"type\":\"LinearAxis\"},{\"attributes\":{},\"id\":\"1786\",\"type\":\"BasicTickFormatter\"},{\"attributes\":{\"axis\":{\"id\":\"1701\"},\"coordinates\":null,\"group\":null,\"ticker\":null},\"id\":\"1704\",\"type\":\"Grid\"},{\"attributes\":{\"source\":{\"id\":\"1718\"}},\"id\":\"1724\",\"type\":\"CDSView\"},{\"attributes\":{},\"id\":\"1697\",\"type\":\"LinearScale\"},{\"attributes\":{},\"id\":\"1710\",\"type\":\"WheelZoomTool\"},{\"attributes\":{},\"id\":\"1783\",\"type\":\"BasicTickFormatter\"},{\"attributes\":{\"fill_color\":{\"value\":\"#1f77b4\"},\"line_color\":{\"value\":\"#1f77b4\"},\"size\":{\"value\":6},\"x\":{\"field\":\"x\"},\"y\":{\"field\":\"y\"}},\"id\":\"1720\",\"type\":\"Scatter\"},{\"attributes\":{\"coordinates\":null,\"group\":null,\"source\":{\"id\":\"1718\"},\"text\":{\"field\":\"names\"},\"text_align\":{\"value\":\"center\"},\"text_color\":{\"value\":\"blue\"},\"text_font_size\":{\"value\":\"8pt\"},\"x\":{\"field\":\"x\"},\"y\":{\"field\":\"y\"},\"y_offset\":{\"value\":6}},\"id\":\"1725\",\"type\":\"LabelSet\"},{\"attributes\":{},\"id\":\"1693\",\"type\":\"DataRange1d\"},{\"attributes\":{\"data\":{\"names\":[\"\\u0431\\u0430\\u043d\\u043a\",\"\\u043a\\u0430\\u0440\\u0442\\u0430\",\"\\u044d\\u0442\\u043e\",\"\\u0434\\u0435\\u043d\\u044c\\u0433\\u0430\",\"\\u0434\\u0435\\u043d\\u044c\",\"\\u0432\\u0441\\u0451\",\"\\u043a\\u0440\\u0435\\u0434\\u0438\\u0442\",\"\\u043a\\u043e\\u0442\\u043e\\u0440\\u044b\\u0439\",\"\\u043e\\u0442\\u0434\\u0435\\u043b\\u0435\\u043d\\u0438\\u0435\",\"\\u043a\\u043b\\u0438\\u0435\\u043d\\u0442\",\"\\u0441\\u043e\\u0442\\u0440\\u0443\\u0434\\u043d\\u0438\\u043a\",\"\\u043c\\u043e\\u0447\\u044c\",\"\\u0441\\u0447\\u0451\\u0442\",\"\\u0441\\u0432\\u043e\\u0439\",\"\\u0441\\u043a\\u0430\\u0437\\u0430\\u0442\\u044c\",\"\\u0441\\u0443\\u043c\\u043c\\u0430\",\"\\u0437\\u0430\\u044f\\u0432\\u043b\\u0435\\u043d\\u0438\\u0435\",\"\\u0433\\u043e\\u0434\",\"\\u0432\\u043e\\u043f\\u0440\\u043e\\u0441\",\"\\u0432\\u0440\\u0435\\u043c\\u044f\",\"\\u0435\\u0449\\u0451\",\"\\u043f\\u043e\\u043b\\u0443\\u0447\\u0438\\u0442\\u044c\",\"\\u043a\\u0440\\u0435\\u0434\\u0438\\u0442\\u043d\\u044b\\u0439\",\"\\u0432\\u0435\\u0441\\u044c\",\"\\u043e\\u0442\\u0432\\u0435\\u0442\",\"\\u0432\\u043a\\u043b\\u0430\\u0434\",\"\\u043e\\u0444\\u0438\\u0441\",\"\\u0442\\u0435\\u043b\\u0435\\u0444\\u043e\\u043d\",\"\\u043f\\u043b\\u0430\\u0442\\u0451\\u0436\",\"\\u0434\\u043e\\u0433\\u043e\\u0432\\u043e\\u0440\",\"\\u0432\\u0430\\u0448\",\"\\u0434\\u0430\\u0442\\u044c\",\"\\u043d\\u043e\\u043c\\u0435\\u0440\",\"\\u0437\\u0432\\u043e\\u043d\\u0438\\u0442\\u044c\",\"\\u0431\\u0430\\u043d\\u043a\\u043e\\u043c\\u0430\\u0442\",\"\\u0441\\u0431\\u0435\\u0440\\u0431\\u0430\\u043d\\u043a\",\"\\u043e\\u0447\\u0435\\u043d\\u044c\",\"\\u043f\\u043e\\u0437\\u0432\\u043e\\u043d\\u0438\\u0442\\u044c\",\"\\u0433\",\"\\u043c\\u0435\\u0441\\u044f\\u0446\",\"\\u043d\\u0430\\u043f\\u0438\\u0441\\u0430\\u0442\\u044c\",\"\\u043f\\u0440\\u043e\\u0431\\u043b\\u0435\\u043c\\u0430\",\"\\u0440\\u0430\\u0431\\u043e\\u0442\\u0430\\u0442\\u044c\",\"\\u0441\\u0440\\u0435\\u0434\\u0441\\u0442\\u0432\\u043e\",\"\\u0440\\u0443\\u0431\\u043b\\u044c\",\"\\u0440\\u0430\\u0431\\u043e\\u0442\\u0430\",\"\\u0434\\u043e\\u043a\\u0443\\u043c\\u0435\\u043d\\u0442\",\"\\u0441\\u0438\\u0442\\u0443\\u0430\\u0446\\u0438\\u044f\",\"\\u0437\\u0432\\u043e\\u043d\\u043e\\u043a\",\"\\u043f\\u0440\\u0438\\u0439\\u0442\\u0438\",\"\\u0440\\u0435\\u0448\\u0438\\u0442\\u044c\",\"\\u0433\\u043e\\u0432\\u043e\\u0440\\u0438\\u0442\\u044c\",\"\\u0447\\u0435\\u043b\\u043e\\u0432\\u0435\\u043a\",\"\\u0445\\u043e\\u0442\\u0435\\u0442\\u044c\",\"\\u043e\\u043f\\u0435\\u0440\\u0430\\u0446\\u0438\\u044f\",\"\\u043f\\u043e\\u0447\\u0435\\u043c\\u0443\",\"\\u0434\\u043e\\u043b\\u0436\\u043d\\u044b\\u0439\",\"\\u0438\\u043d\\u0444\\u043e\\u0440\\u043c\\u0430\\u0446\\u0438\\u044f\",\"\\u0441\\u0434\\u0435\\u043b\\u0430\\u0442\\u044c\",\"\\u0441\\u043c\\u0441\",\"\\u0441\\u0440\\u043e\\u043a\",\"\\u0443\\u0441\\u043b\\u0443\\u0433\\u0430\",\"\\u0437\\u0430\\u044f\\u0432\\u043a\\u0430\",\"\\u0437\\u043d\\u0430\\u0442\\u044c\",\"\\u043f\\u0440\\u043e\\u0441\\u0442\\u043e\",\"\\u043e\\u0431\\u0441\\u043b\\u0443\\u0436\\u0438\\u0432\\u0430\\u043d\\u0438\\u0435\",\"\\u043e\\u0447\\u0435\\u0440\\u0435\\u0434\\u044c\",\"\\u043c\\u0438\\u043d\\u0443\\u0442\\u0430\",\"\\u043e\\u0431\\u0440\\u0430\\u0442\\u0438\\u0442\\u044c\\u0441\\u044f\",\"\\u0434\\u0430\\u043d\\u043d\\u044b\\u0439\",\"\\u0431\\u043e\\u043b\\u044c\\u0448\\u043e\\u0439\",\"\\u043f\\u0435\\u0440\\u0432\\u044b\\u0439\",\"\\u0441\\u0435\\u0433\\u043e\\u0434\\u043d\\u044f\",\"\\u0434\\u0435\\u0432\\u0443\\u0448\\u043a\\u0430\",\"\\u0436\\u0434\\u0430\\u0442\\u044c\",\"\\u0441\\u0430\\u0439\\u0442\",\"\\u0440\\u0443\\u0431\",\"\\u043f\\u0440\\u0435\\u0442\\u0435\\u043d\\u0437\\u0438\\u044f\",\"\\u043d\\u043e\\u0432\\u044b\\u0439\",\"\\u043f\\u0440\\u043e\\u0441\\u0438\\u0442\\u044c\",\"\\u0438\\u043d\\u0442\\u0435\\u0440\\u043d\\u0435\\u0442\",\"\\u043f\\u0440\\u043e\\u0446\\u0435\\u043d\\u0442\",\"\\u043d\\u0435\\u0434\\u0435\\u043b\\u044f\",\"\\u043d\\u0438\\u043a\\u0430\\u043a\\u043e\\u0439\",\"\\u043e\\u043f\\u0435\\u0440\\u0430\\u0442\\u043e\\u0440\",\"\\u0441\\u043e\\u043e\\u0431\\u0449\\u0438\\u0442\\u044c\",\"\\u043e\\u0442\\u0432\\u0435\\u0442\\u0438\\u0442\\u044c\",\"\\u044f\\u0432\\u043b\\u044f\\u0442\\u044c\\u0441\\u044f\",\"\\u0434\\u0430\\u043b\\u0435\\u0435\",\"\\u0441\\u0442\\u0430\\u0442\\u044c\",\"\\u043d\\u0443\\u0436\\u043d\\u043e\",\"\\u0447\\u0430\\u0441\",\"\\u043d\\u0435\\u0441\\u043a\\u043e\\u043b\\u044c\\u043a\\u043e\",\"\\u043e\\u0444\\u043e\\u0440\\u043c\\u0438\\u0442\\u044c\",\"\\u043f\\u0435\\u0440\\u0435\\u0432\\u043e\\u0434\",\"\\u043f\\u0438\\u0441\\u0430\\u0442\\u044c\",\"\\u043a\\u043e\\u043c\\u0438\\u0441\\u0441\\u0438\\u044f\",\"\\u0441\\u043b\\u0435\\u0434\\u0443\\u044e\\u0449\\u0438\\u0439\",\"\\u0445\\u043e\\u0442\\u044f\",\"\\u0438\\u043c\\u0435\\u0442\\u044c\",\"\\u043f\\u043e\\u043b\\u044c\\u0437\\u043e\\u0432\\u0430\\u0442\\u044c\\u0441\\u044f\",\"\\u0443\\u0441\\u043b\\u043e\\u0432\\u0438\\u0435\",\"\\u0446\\u0435\\u043d\\u0442\\u0440\",\"\\u043c\\u043e\\u043c\\u0435\\u043d\\u0442\",\"\\u0437\\u0430\\u0434\\u043e\\u043b\\u0436\\u0435\\u043d\\u043d\\u043e\\u0441\\u0442\\u044c\",\"\\u0432\\u0437\\u044f\\u0442\\u044c\",\"\\u0442\\u0435\\u0447\\u0435\\u043d\\u0438\\u0435\",\"\\u0441\\u043b\\u0443\\u0447\\u0430\\u0439\",\"\\u0432\\u043e\\u043e\\u0431\\u0449\\u0435\",\"\\u0434\\u0435\\u043b\\u0430\\u0442\\u044c\",\"\\u0441\\u0440\\u0430\\u0437\\u0443\",\"\\u0442\\u0430\\u043a\\u0436\\u0435\",\"\\u0432\\u0441\",\"\\u0434\\u0435\\u043b\\u043e\",\"\\u043f\\u0440\\u0438\\u0445\\u043e\\u0434\\u0438\\u0442\\u044c\",\"\\u0432\\u044b\\u0434\\u0430\\u0442\\u044c\",\"\\u043d\\u0438\\u043a\\u0442\\u043e\",\"\\u0440\\u0435\\u0448\\u0435\\u043d\\u0438\\u0435\",\"\\u0441\\u043b\\u0443\\u0436\\u0431\\u0430\",\"\\u0441\\u043f\\u0435\\u0446\\u0438\\u0430\\u043b\\u0438\\u0441\\u0442\",\"\\u043e\\u0442\\u043a\\u0440\\u044b\\u0442\\u044c\",\"\\u0441\\u0438\\u0441\\u0442\\u0435\\u043c\\u0430\",\"\\u043f\\u0440\\u0438\\u043d\\u044f\\u0442\\u044c\",\"\\u043f\\u0440\\u043e\\u0439\\u0442\\u0438\",\"\\u0434\\u0435\\u043d\\u0435\\u0436\\u043d\\u044b\\u0439\",\"\\u043e\\u0431\\u0440\\u0430\\u0449\\u0435\\u043d\\u0438\\u0435\",\"\\u043e\\u0442\\u0437\\u044b\\u0432\",\"\\u0445\\u043e\\u0440\\u043e\\u0448\\u0438\\u0439\",\"\\u0430\\u0434\\u0440\\u0435\\u0441\",\"\\u0441\\u043c\\u043e\\u0447\\u044c\",\"\\u043c\\u043e\\u0441\\u043a\\u0432\\u0430\",\"\\u043e\\u043f\\u043b\\u0430\\u0442\\u0430\",\"\\u043d\\u0430\\u0448\",\"\\u0438\\u0442\\u043e\\u0433\",\"\\u043c\\u0435\\u043d\\u0435\\u0434\\u0436\\u0435\\u0440\",\"\\u0443\\u0437\\u043d\\u0430\\u0442\\u044c\",\"\\u0443\\u043a\\u0430\\u0437\\u0430\\u0442\\u044c\",\"\\u0441\\u043d\\u044f\\u0442\\u044c\",\"\\u043a\\u0430\\u0436\\u0434\\u044b\\u0439\",\"\\u043f\\u043e\\u043a\\u0430\",\"\\u0440\",\"\\u043d\\u0443\\u0436\\u043d\\u044b\\u0439\",\"\\u043a\\u0430\\u0441\\u0441\\u0430\",\"\\u0438\\u0441\\u0442\\u043e\\u0440\\u0438\\u044f\",\"\\u043e\\u0431\\u0449\\u0438\\u0439\",\"\\u0434\\u0443\\u043c\\u0430\\u0442\\u044c\",\"\\u0441\\u043b\\u043e\\u0432\\u043e\",\"\\u043e\\u043f\\u043b\\u0430\\u0442\\u0438\\u0442\\u044c\",\"\\u043e\\u043a\\u0430\\u0437\\u0430\\u0442\\u044c\\u0441\\u044f\",\"\\u043f\\u0440\\u0435\\u0434\\u043b\\u043e\\u0436\\u0438\\u0442\\u044c\",\"\\u0432\\u0435\\u0440\\u043d\\u0443\\u0442\\u044c\",\"\\u043f\\u043e\\u0433\\u0430\\u0448\\u0435\\u043d\\u0438\\u0435\",\"\\u0434\\u043e\\u0431\\u0440\\u044b\\u0439\",\"\\u043e\\u0442\\u043d\\u043e\\u0448\\u0435\\u043d\\u0438\\u0435\",\"\\u043f\\u0440\\u0438\\u0439\\u0442\\u0438\\u0441\\u044c\",\"\\u0441\\u0430\\u043c\\u044b\\u0439\",\"\\u0438\\u0434\\u0442\\u0438\",\"\\u043f\\u043e\\u0434\\u0434\\u0435\\u0440\\u0436\\u043a\\u0430\",\"\\u0431\\u0440\\u0430\\u0442\\u044c\",\"\\u043f\\u043e\\u0441\\u043b\\u0435\\u0434\\u043d\\u0438\\u0439\",\"\\u043f\\u043e\\u043b\\u0443\\u0447\\u0430\\u0442\\u044c\",\"\\u043f\\u043e\\u043f\\u0440\\u043e\\u0441\\u0438\\u0442\\u044c\",\"\\u043f\\u043e\\u043b\\u0443\\u0447\\u0435\\u043d\\u0438\\u0435\",\"\\u043e\\u0431\\u044a\\u044f\\u0441\\u043d\\u0438\\u0442\\u044c\",\"\\u0432\\u0442\\u043e\\u0440\\u043e\\u0439\",\"\\u043b\\u0438\\u0446\\u043e\",\"\\u0441\\u043f\\u0430\\u0441\\u0438\\u0431\\u043e\",\"\\u043f\\u0438\\u0441\\u044c\\u043c\\u043e\",\"\\u043b\\u0438\\u043c\\u0438\\u0442\",\"\\u0434\\u0430\\u0442\\u0430\",\"\\u043b\\u0438\\u043d\\u0438\\u044f\",\"\\u0440\\u0430\\u0431\\u043e\\u0447\\u0438\\u0439\",\"\\u043f\\u043b\\u0430\\u0442\\u0438\\u0442\\u044c\",\"\\u043e\\u0442\\u043f\\u0440\\u0430\\u0432\\u0438\\u0442\\u044c\",\"\\u0441\\u0432\\u044f\\u0437\\u044c\",\"\\u0432\\u043e\\u0437\\u043c\\u043e\\u0436\\u043d\\u043e\\u0441\\u0442\\u044c\",\"\\u043f\\u0440\\u0438\\u0447\\u0438\\u043d\\u0430\",\"\\u043e\\u0448\\u0438\\u0431\\u043a\\u0430\",\"\\u0441\\u043e\\u0442\\u0440\\u0443\\u0434\\u043d\\u0438\\u0446\\u0430\",\"\\u043f\\u0440\\u043e\\u0441\\u044c\\u0431\\u0430\",\"\\u0431\\u0430\\u043d\\u043a\\u043e\\u0432\\u0441\\u043a\\u0438\\u0439\",\"\\u043d\\u0430\\u0445\\u043e\\u0434\\u0438\\u0442\\u044c\\u0441\\u044f\",\"\\u0441\\u043d\\u043e\\u0432\\u0430\",\"\\u043b\\u0438\\u0431\\u043e\",\"\\u043f\\u0430\\u0441\\u043f\\u043e\\u0440\\u0442\",\"\\u043e\\u043a\\u043e\\u043b\\u043e\",\"\\u0432\\u043d\\u0435\\u0441\\u0442\\u0438\",\"\\u0430\\u043b\\u044c\\u0444\\u0430\",\"\\u043c\",\"\\u043f\\u0440\\u0435\\u0434\\u043e\\u0441\\u0442\\u0430\\u0432\\u0438\\u0442\\u044c\",\"\\u043a\\u043e\\u043d\\u0435\\u0446\",\"\\u043f\\u043e\\u043d\\u0438\\u043c\\u0430\\u0442\\u044c\",\"\\u043c\\u0435\\u0441\\u0442\\u043e\",\"\\u0438\\u043c\\u0435\\u043d\\u043d\\u043e\",\"\\u0434\\u0440\\u0443\\u0433\",\"\\u043e\\u0442\\u0432\\u0435\\u0447\\u0430\\u0442\\u044c\",\"\\u0437\\u0430\\u043a\\u0440\\u044b\\u0442\\u044c\",\"\\u0434\\u043e\\u043b\\u0433\",\"\\u043e\\u0431\\u0440\\u0430\\u0449\\u0430\\u0442\\u044c\\u0441\\u044f\",\"\\u0434\\u0435\\u0439\\u0441\\u0442\\u0432\\u0438\\u0435\",\"\\u0432\\u044b\\u043f\\u0438\\u0441\\u043a\\u0430\",\"\\u0441\\u043f\\u0440\\u0430\\u0432\\u043a\\u0430\",\"\\u0445\\u043e\\u0442\\u0435\\u0442\\u044c\\u0441\\u044f\",\"\\u0441\\u0442\\u0440\\u0430\\u0445\\u043e\\u0432\\u043a\\u0430\",\"\\u0435\\u0449\",\"\\u043a\\u0430\\u0440\\u0442\\u043e\\u0447\\u043a\\u0430\",\"\\u043e\\u0444\\u043e\\u0440\\u043c\\u043b\\u0435\\u043d\\u0438\\u0435\",\"\\u0440\\u0430\\u0441\\u0441\\u043c\\u043e\\u0442\\u0440\\u0435\\u043d\\u0438\\u0435\",\"\\u043f\\u043e\\u043c\\u043e\\u0447\\u044c\",\"\\u0432\\u0438\\u0434\\u0435\\u0442\\u044c\",\"\\u043d\\u0430\\u0437\\u0430\\u0434\",\"\\u043e\\u0442\\u043a\\u0430\\u0437\",\"\\u043f\\u043e\\u044d\\u0442\\u043e\\u043c\\u0443\",\"\\u0434\\u0430\\u043d\\u043d\\u044b\\u0435\",\"\\u043f\\u043e\\u043b\\u043d\\u044b\\u0439\",\"\\u043f\\u043e\\u0433\\u0430\\u0441\\u0438\\u0442\\u044c\",\"\\u0434\\u0430\\u0432\\u0430\\u0442\\u044c\",\"\\u043f\\u044b\\u0442\\u0430\\u0442\\u044c\\u0441\\u044f\",\"\\u043e\\u0441\\u0442\\u0430\\u0442\\u044c\\u0441\\u044f\",\"\\u0437\\u0430\\u0431\\u043b\\u043e\\u043a\\u0438\\u0440\\u043e\\u0432\\u0430\\u0442\\u044c\",\"\\u043e\\u043f\\u0435\\u0440\\u0430\\u0446\\u0438\\u043e\\u043d\\u0438\\u0441\\u0442\",\"\\u043b\\u044e\\u0431\\u043e\\u0439\",\"\\u0430\\u0434\\u043c\\u0438\\u043d\\u0438\\u0441\\u0442\\u0440\\u0430\\u0442\\u043e\\u0440\",\"\\u0440\\u0435\\u0437\\u0443\\u043b\\u044c\\u0442\\u0430\\u0442\",\"\\u0433\\u043e\\u0440\\u044f\\u0447\\u0438\\u0439\",\"\\u0443\\u0442\\u043e\\u0447\\u043d\\u0438\\u0442\\u044c\",\"\\u0441\\u043e\\u043e\\u0431\\u0449\\u0435\\u043d\\u0438\\u0435\",\"\\u043f\\u0440\\u0438\\u0435\\u0445\\u0430\\u0442\\u044c\",\"\\u0442\\u0435\\u0440\\u043c\\u0438\\u043d\\u0430\\u043b\",\"\\u0447\\u0438\\u0441\\u043b\\u043e\",\"\\u0441\\u0442\\u0430\\u0432\\u043a\\u0430\",\"\\u0440\\u0430\\u0437\\u043e\\u0431\\u0440\\u0430\\u0442\\u044c\\u0441\\u044f\",\"\\u0437\\u0430\\u043a\\u0440\\u044b\\u0442\\u0438\\u0435\",\"\\u0432\\u0442\\u0431\",\"\\u043f\\u0440\\u043e\\u0441\\u0440\\u043e\\u0447\\u043a\\u0430\",\"\\u043c\\u043e\\u0431\\u0438\\u043b\\u044c\\u043d\\u044b\\u0439\",\"\\u043f\\u043e\\u043d\\u044f\\u0442\\u044c\",\"\\u0443\\u043b\",\"\\u043e\\u0442\\u0434\\u0435\\u043b\",\"\\u0433\\u043e\\u0440\\u043e\\u0434\",\"\\u043e\\u0441\\u0442\\u0430\\u0432\\u0438\\u0442\\u044c\",\"\\u043f\\u043e\\u043a\\u0443\\u043f\\u043a\\u0430\",\"\\u043f\\u0440\\u0430\\u0432\\u043e\",\"\\u0441\\u0447\",\"\\u0444\\u0438\\u043b\\u0438\\u0430\\u043b\",\"\\u0434\\u0435\\u043a\\u0430\\u0431\\u0440\\u044c\",\"\\u043f\\u043e\\u0447\\u0442\\u0430\",\"\\u043f\\u043e\\u0440\\u0430\",\"\\u0441\\u043f\\u0438\\u0441\\u0430\\u0442\\u044c\",\"\\u0441\\u043f\\u0438\\u0441\\u0430\\u043d\\u0438\\u0435\",\"\\u043f\\u0435\\u0440\\u0435\\u0437\\u0432\\u043e\\u043d\\u0438\\u0442\\u044c\",\"\\u0442\\u0430\\u043a\\u0438\",\"\\u0431\\u044b\\u0441\\u0442\\u0440\\u043e\",\"\\u043e\\u0442\\u043a\\u0440\\u044b\\u0442\\u0438\\u0435\",\"\\u0441\\u0447\\u0438\\u0442\\u0430\\u0442\\u044c\",\"\\u0441\\u0442\\u043e\\u0440\\u043e\\u043d\\u0430\",\"\\u0434\\u0435\\u0431\\u0435\\u0442\\u043e\\u0432\\u044b\\u0439\",\"\\u043f\\u043e\\u0439\\u0442\\u0438\",\"\\u0440\\u0430\\u0437\\u043c\\u0435\\u0440\",\"\\u043f\\u0435\\u0440\\u0435\\u0432\\u0435\\u0441\\u0442\\u0438\",\"\\u0441\\u043d\\u044f\\u0442\\u0438\\u0435\",\"\\u043f\\u043e\\u0441\\u0442\\u0443\\u043f\\u0438\\u0442\\u044c\",\"\\u0441\\u043f\\u0440\\u043e\\u0441\\u0438\\u0442\\u044c\",\"\\u043e\\u0442\\u043a\\u0430\\u0437\\u0430\\u0442\\u044c\\u0441\\u044f\",\"\\u043f\\u0440\\u043e\\u0438\\u0437\\u043e\\u0439\\u0442\\u0438\",\"\\u043e\\u043d\\u043b\\u0430\\u0439\\u043d\",\"\\u043d\\u0430\\u0447\\u0430\\u0442\\u044c\",\"\\u043d\\u0430\\u0434\\u0435\\u044f\\u0442\\u044c\\u0441\\u044f\",\"\\u043d\\u0430\\u0447\\u0430\\u043b\\u043e\",\"\\u043e\\u0434\\u043d\\u0430\\u043a\\u043e\",\"\\u043f\\u0440\\u043e\\u0433\\u0440\\u0430\\u043c\\u043c\\u0430\",\"\\u043d\\u0430\\u0439\\u0442\\u0438\",\"\\u043e\\u0431\\u0435\\u0449\\u0430\\u0442\\u044c\",\"\\u043a\\u043e\\u043b\\u043b\",\"\\u043a\\u043e\\u043f\\u0438\\u044f\",\"\\u043f\",\"\\u043f\\u043e\\u0434\\u0430\\u0442\\u044c\",\"\\u0437\\u0434\\u0440\\u0430\\u0432\\u0441\\u0442\\u0432\\u0443\\u0439\\u0442\\u0435\",\"\\u043d\\u0430\\u043b\\u0438\\u0447\\u043d\\u044b\\u0439\",\"\\u0441\\u043a\\u043e\\u043b\\u044c\\u043a\\u043e\",\"\\u043f\\u0440\\u0435\\u0434\\u043b\\u043e\\u0436\\u0435\\u043d\\u0438\\u0435\",\"\\u0441\\u0443\\u0434\",\"\\u043f\\u043e\\u043b\\u043e\\u0436\\u0438\\u0442\\u044c\",\"\\u0438\\u043c\\u044f\",\"\\u0436\\u0430\\u043b\\u043e\\u0431\\u0430\",\"\\u043f\\u043e\\u0440\\u044f\\u0434\\u043e\\u043a\",\"\\u0441\\u0435\\u0439\",\"\\u043e\\u0447\\u0435\\u0440\\u0435\\u0434\\u043d\\u043e\\u0439\",\"\\u0441\\u0442\\u043e\\u0438\\u0442\\u044c\",\"\\u0432\\u0438\\u0434\\u0438\\u043c\\u043e\",\"\\u043e\\u0444\\u043e\\u0440\\u043c\\u043b\\u044f\\u0442\\u044c\",\"\\u0432\\u043e\\u0437\\u0432\\u0440\\u0430\\u0442\",\"\\u043c\\u0430\\u0433\\u0430\\u0437\\u0438\\u043d\",\"\\u043a\\u043e\\u0434\",\"\\u0447\\u0435\\u043a\",\"\\u0442\\u0430\\u0440\\u0438\\u0444\",\"\\u0440\\u0443\\u043a\\u0430\",\"\\u0443\\u0439\\u0442\\u0438\",\"\\u0434\\u043e\\u043f\\u043e\\u043b\\u043d\\u0438\\u0442\\u0435\\u043b\\u044c\\u043d\\u044b\\u0439\",\"\\u0442\\u044b\\u0441\\u044f\\u0447\\u0430\",\"\\u043f\\u0440\\u0438\\u0441\\u043b\\u0430\\u0442\\u044c\",\"\\u043e\\u0441\\u0442\\u0430\\u0442\\u043e\\u043a\",\"\\u0432\\u044b\\u0434\\u0430\\u0447\\u0430\",\"\\u0440\\u0430\\u0437\\u0433\\u043e\\u0432\\u043e\\u0440\",\"\\u043b\\u0438\\u0447\\u043d\\u044b\\u0439\",\"\\u044d\\u043b\\u0435\\u043a\\u0442\\u0440\\u043e\\u043d\\u043d\\u044b\\u0439\",\"\\u0443\\u0432\\u0430\\u0436\\u0430\\u0435\\u043c\\u044b\\u0439\",\"\\u043c\\u0430\\u0440\\u0442\",\"\\u0437\\u0430\\u0440\\u043f\\u043b\\u0430\\u0442\\u043d\\u044b\\u0439\",\"\\u0441\\u043f\\u0440\\u0430\\u0448\\u0438\\u0432\\u0430\\u0442\\u044c\",\"\\u0434\\u043e\\u043b\\u0433\\u043e\",\"\\u0440\\u043e\\u0441\\u0441\\u0438\\u044f\",\"\\u0432\\u043d\\u0438\\u043c\\u0430\\u043d\\u0438\\u0435\",\"\\u0433\\u043e\\u0442\\u043e\\u0432\\u044b\\u0439\",\"\\u043f\\u0440\\u043e\\u0432\\u0435\\u0441\\u0442\\u0438\",\"\\u0431\\u043b\\u0438\\u0437\\u043a\\u0438\\u0439\",\"\\u043e\\u0434\\u043e\\u0431\\u0440\\u0438\\u0442\\u044c\",\"\\u0442\\u0440\\u0435\\u0431\\u043e\\u0432\\u0430\\u0442\\u044c\",\"\\u043c\\u0430\\u043b\\u0435\\u043d\\u044c\\u043a\\u0438\\u0439\",\"\\u043e\\u0442\\u043a\\u0430\\u0437\\u0430\\u0442\\u044c\",\"\\u0437\\u0430\\u043f\\u0440\\u043e\\u0441\",\"\\u043f\\u0430\\u0440\\u0430\",\"\\u044f\\u043d\\u0432\\u0430\\u0440\\u044c\",\"\\u043f\\u0440\\u0435\\u0434\\u0441\\u0442\\u0430\\u0432\\u0438\\u0442\\u0435\\u043b\\u044c\",\"\\u043d\\u0435\\u043e\\u0431\\u0445\\u043e\\u0434\\u0438\\u043c\\u043e\",\"\\u043a\\u0443\\u0440\\u0441\",\"\\u043f\\u0440\\u0438\\u0447\\u0451\\u043c\",\"\\u0437\\u0430\\u0431\\u0440\\u0430\\u0442\\u044c\",\"\\u0440\\u0444\",\"\\u0441\\u0435\\u0440\\u0432\\u0438\\u0441\",\"\\u043e\\u0431\\u0440\\u0430\\u0437\",\"\\u043a\\u0430\\u0441\\u0441\\u0438\\u0440\",\"\\u0443\\u043a\\u0430\\u0437\\u0430\\u043d\\u043d\\u044b\\u0439\",\"\\u0440\\u0430\\u0431\\u043e\\u0442\\u043d\\u0438\\u043a\",\"\\u043f\\u0440\\u0438\\u043d\\u0438\\u043c\\u0430\\u0442\\u044c\",\"\\u0434\\u043e\\u0441\\u0440\\u043e\\u0447\\u043d\\u044b\\u0439\",\"\\u043e\\u0440\\u0433\\u0430\\u043d\\u0438\\u0437\\u0430\\u0446\\u0438\\u044f\",\"\\u0442\\u044b\\u0441\",\"\\u043f\\u0440\\u043e\\u0432\\u0435\\u0440\\u0438\\u0442\\u044c\",\"\\u0434\\u0435\\u043f\\u043e\\u0437\\u0438\\u0442\",\"\\u0441\\u0432\\u044f\\u0437\\u0430\\u0442\\u044c\\u0441\\u044f\",\"\\u0432\\u043e\\u0437\\u043c\\u043e\\u0436\\u043d\\u043e\",\"\\u0432\\u0435\\u0436\\u043b\\u0438\\u0432\\u044b\\u0439\",\"\\u0431\\u043e\\u043b\\u044c\\u0448\\u0438\\u0439\",\"\\u0440\\u0430\\u0437\\u043d\\u044b\\u0439\",\"\\u0430\\u043d\\u043a\\u0435\\u0442\\u0430\",\"\\u0444\\u0430\\u043a\\u0442\",\"\\u043f\\u043e\\u0436\\u0430\\u043b\\u0443\\u0439\\u0441\\u0442\\u0430\",\"\\u0434\\u0430\\u043b\\u0451\\u043a\\u0438\\u0439\",\"\\u0430\\u043f\\u0440\\u0435\\u043b\\u044c\",\"\\u043e\\u0446\\u0435\\u043d\\u043a\\u0430\",\"\\u043f\\u0435\\u0440\\u0438\\u043e\\u0434\",\"\\u043d\\u0435\\u043a\\u043e\\u0442\\u043e\\u0440\\u044b\\u0439\",\"\\u043a\\u043e\\u043c\\u043f\\u0430\\u043d\\u0438\\u044f\",\"\\u043b\",\"\\u043c\\u0430\\u0439\",\"\\u0437\\u0430\\u043f\\u043b\\u0430\\u0442\\u0438\\u0442\\u044c\",\"\\u0437\\u0430\\u0439\\u0442\\u0438\",\"\\u0437\\u0430\\u043f\\u043e\\u043b\\u043d\\u0438\\u0442\\u044c\",\"\\u0448\\u0442\\u0440\\u0430\\u0444\",\"\\u0441\\u0442\\u0440\\u0430\\u0445\\u043e\\u0432\\u0430\\u043d\\u0438\\u0435\",\"\\u043f\\u0440\\u0435\\u0434\\u043b\\u0430\\u0433\\u0430\\u0442\\u044c\",\"\\u0441\\u043d\\u0430\\u0447\\u0430\\u043b\\u0430\",\"\\u043f\\u043e\\u0432\\u043e\\u0434\",\"\\u0441\\u043e\\u043e\\u0431\\u0449\\u0430\\u0442\\u044c\",\"\\u0437\\u0430\\u043a\\u0440\\u044b\\u0442\\u044b\\u0439\",\"\\u043d\\u0435\\u043e\\u0431\\u0445\\u043e\\u0434\\u0438\\u043c\\u044b\\u0439\",\"\\u043e\\u043f\\u043b\\u0430\\u0447\\u0438\\u0432\\u0430\\u0442\\u044c\",\"\\u0441\\u043d\\u0438\\u043c\\u0430\\u0442\\u044c\",\"\\u0442\\u0440\\u0435\\u0431\\u043e\\u0432\\u0430\\u043d\\u0438\\u0435\",\"\\u043f\\u043e\\u043b\\u043e\\u0436\\u0438\\u0442\\u0435\\u043b\\u044c\\u043d\\u044b\\u0439\",\"\\u0442\\u0435\\u0445\\u043d\\u0438\\u0447\\u0435\\u0441\\u043a\\u0438\\u0439\",\"\\u0443\\u0432\\u0438\\u0434\\u0435\\u0442\\u044c\",\"\\u043f\\u043e\\u0434\\u043a\\u043b\\u044e\\u0447\\u0438\\u0442\\u044c\",\"\\u043f\\u043e\\u043f\\u044b\\u0442\\u043a\\u0430\",\"\\u043f\\u043b\\u0430\\u0442\\u0430\",\"\\u0444\\u043e\\u0440\\u043c\\u0430\",\"\\u043f\\u0440\\u043e\\u0434\\u0443\\u043a\\u0442\",\"\\u0434\\u043e\\u043c\",\"\\u0440\\u0430\\u043d\\u043d\\u0438\\u0439\",\"\\u0444\\u0435\\u0432\\u0440\\u0430\\u043b\\u044c\",\"\\u043d\\u043e\\u044f\\u0431\\u0440\\u044c\",\"\\u0442\\u0440\\u0435\\u0442\\u0438\\u0439\",\"\\u043b\\u0430\\u0434\\u043d\\u044b\\u0439\",\"\\u043a\\u0430\\u0447\\u0435\\u0441\\u0442\\u0432\\u043e\",\"\\u043a\\u0432\\u0430\\u0440\\u0442\\u0438\\u0440\\u0430\",\"\\u043a\\u0440\\u043e\\u043c\\u0435\",\"\\u0432\\u043e\\u0437\\u043d\\u0438\\u043a\\u043d\\u0443\\u0442\\u044c\",\"\\u0432\\u0438\\u0434\",\"\\u043d\\u0430\\u0447\\u0430\\u0442\\u044c\\u0441\\u044f\",\"\\u0433\\u043e\\u0434\\u043e\\u0432\\u043e\\u0439\",\"\\u0432\\u0447\\u0435\\u0440\\u0430\",\"\\u043f\\u043e\\u0434\\u043e\\u0431\\u043d\\u044b\\u0439\",\"\\u043e\\u043a\\u0442\\u044f\\u0431\\u0440\\u044c\",\"\\u0445\",\"\\u043f\\u043e\\u0434\\u043f\\u0438\\u0441\\u0430\\u0442\\u044c\",\"\\u043f\\u043e\\u0441\\u0442\\u0443\\u043f\\u0430\\u0442\\u044c\",\"\\u0447\\u0430\\u0441\\u0442\\u044c\",\"\\u043f\\u043e\\u0441\\u043c\\u043e\\u0442\\u0440\\u0435\\u0442\\u044c\",\"\\u0434\\u0435\\u0439\\u0441\\u0442\\u0432\\u0438\\u0442\\u0435\\u043b\\u044c\\u043d\\u043e\",\"\\u0441\\u043e\\u0436\\u0430\\u043b\\u0435\\u043d\\u0438\\u0435\",\"\\u0443\\u0432\\u0435\\u0434\\u043e\\u043c\\u043b\\u0435\\u043d\\u0438\\u0435\",\"\\u0442\\u0443\\u0434\\u0430\",\"\\u043e\\u0431\\u0449\\u0435\\u043d\\u0438\\u0435\",\"\\u043f\\u0440\\u043e\\u0438\\u0441\\u0445\\u043e\\u0434\\u0438\\u0442\\u044c\",\"\\u043f\\u043e\\u043b\\u0443\\u0447\\u0430\\u0442\\u044c\\u0441\\u044f\",\"\\u0441\\u0431\\u0435\\u0440\",\"\\u043e\\u0431\\u044a\\u044f\\u0441\\u043d\\u044f\\u0442\\u044c\",\"\\u0442\\u0440\\u0443\\u0431\\u043a\\u0430\",\"\\u043a\\u0443\\u043f\\u044e\\u0440\\u0430\",\"\\u0432\\u043e\\u0441\\u043f\\u043e\\u043b\\u044c\\u0437\\u043e\\u0432\\u0430\\u0442\\u044c\\u0441\\u044f\",\"\\u0430\\u0432\\u0433\\u0443\\u0441\\u0442\",\"\\u043f\\u043e\\u043c\\u043e\\u0449\\u044c\",\"\\u0441\\u0438\\u0434\\u0435\\u0442\\u044c\",\"\\u0440\\u0443\\u043a\\u043e\\u0432\\u043e\\u0434\\u0441\\u0442\\u0432\\u043e\",\"\\u0442\\u043e\\u0447\\u043d\\u043e\",\"\\u043f\\u0440\\u0438\\u043c\\u0435\\u0440\\u043d\\u043e\",\"\\u0434\\u0430\\u0432\\u043d\\u043e\",\"\\u0441\\u0435\\u043d\\u0442\\u044f\\u0431\\u0440\\u044c\",\"\\u043e\\u043a\\u0430\\u0437\\u044b\\u0432\\u0430\\u0442\\u044c\\u0441\\u044f\",\"\\u043f\\u043e\\u0434\\u043e\\u0439\\u0442\\u0438\",\"\\u043f\\u043e\\u0434\\u043e\\u0436\\u0434\\u0430\\u0442\\u044c\",\"\\u0434\\u043e\\u0437\\u0432\\u043e\\u043d\\u0438\\u0442\\u044c\\u0441\\u044f\",\"\\u043e\\u0436\\u0438\\u0434\\u0430\\u043d\\u0438\\u0435\",\"\\u043a\\u0441\\u0442\\u0430\\u0442\\u0438\",\"\\u043f\\u043b\\u044e\\u0441\",\"\\u0432\\u043f\\u0435\\u0447\\u0430\\u0442\\u043b\\u0435\\u043d\\u0438\\u0435\",\"\\u0441\\u0431\\u043e\\u0439\",\"\\u043f\\u043e\\u0437\\u0434\\u043d\\u0438\\u0439\",\"\\u043e\\u0441\\u043d\\u043e\\u0432\\u0430\\u043d\\u0438\\u0435\",\"\\u0435\\u0441\\u0442\\u0435\\u0441\\u0442\\u0432\\u0435\\u043d\\u043d\\u043e\",\"\\u0437\\u0430\\u043a\\u043e\\u043d\",\"\\u0434\\u043e\\u0441\\u0442\\u0430\\u0442\\u043e\\u0447\\u043d\\u043e\",\"\\u0441\\u043e\\u0441\\u0442\\u0430\\u0432\\u0438\\u0442\\u044c\",\"\\u043e\\u0442\\u043a\\u0440\\u044b\\u0432\\u0430\\u0442\\u044c\",\"\\u0441\\u043c\\u043e\\u0442\\u0440\\u0435\\u0442\\u044c\",\"\\u0440\\u0430\\u0441\\u0441\\u043a\\u0430\\u0437\\u0430\\u0442\\u044c\",\"\\u043f\\u043e\\u0442\\u0440\\u0430\\u0442\\u0438\\u0442\\u044c\",\"\\u0431\\u0435\\u0437\\u043e\\u043f\\u0430\\u0441\\u043d\\u043e\\u0441\\u0442\\u044c\",\"\\u0432\\u044b\\u0434\\u0430\\u0432\\u0430\\u0442\\u044c\",\"\\u0440\\u0430\\u0441\\u0441\\u043c\\u043e\\u0442\\u0440\\u0435\\u0442\\u044c\",\"\\u043f\\u043e\\u0441\\u0442\\u0430\\u0432\\u0438\\u0442\\u044c\",\"\\u0441\\u0442\\u0440\\u0430\\u0445\\u043e\\u0432\\u043e\\u0439\",\"\\u043f\\u043e\\u0441\\u043a\\u043e\\u043b\\u044c\\u043a\\u0443\",\"\\u0432\\u0440\\u043e\\u0434\\u0435\",\"\\u0435\\u0436\\u0435\\u043c\\u0435\\u0441\\u044f\\u0447\\u043d\\u044b\\u0439\",\"\\u0432\\u044b\\u044f\\u0441\\u043d\\u0438\\u0442\\u044c\",\"\\u0446\\u0435\\u043b\\u044c\",\"\\u043f\\u043e\\u043b\\u043d\\u043e\\u0441\\u0442\\u044c\\u044e\",\"\\u043f\\u0440\\u0430\\u0432\\u0434\\u0430\",\"\\u043b\\u0438\\u0447\\u043d\\u043e\",\"\\u0432\\u044b\\u044f\\u0441\\u043d\\u0438\\u0442\\u044c\\u0441\\u044f\",\"\\u043f\\u0435\\u0440\\u0435\\u0432\\u044b\\u043f\\u0443\\u0441\\u043a\",\"\\u043c\\u0438\\u043d\\u0443\\u0441\",\"\\u0442\\u0435\\u043a\\u0443\\u0449\\u0438\\u0439\",\"\\u0441\\u0443\\u0442\\u043a\\u0438\",\"\\u043d\\u0430\\u0437\\u0432\\u0430\\u0442\\u044c\",\"\\u043e\\u0442\\u0441\\u0443\\u0442\\u0441\\u0442\\u0432\\u0438\\u0435\",\"\\u043f\\u0435\\u0440\\u0435\\u0434\\u0430\\u0442\\u044c\",\"\\u0443\\u0434\\u043e\\u0431\\u043d\\u044b\\u0439\",\"\\u043f\\u043e\\u0434\\u0442\\u0432\\u0435\\u0440\\u0434\\u0438\\u0442\\u044c\",\"\\u0436\\u0438\\u0437\\u043d\\u044c\",\"\\u0444\\u0430\\u043c\\u0438\\u043b\\u0438\\u044f\",\"\\u0438\\u044e\\u043b\\u044c\",\"\\u0437\\u0430\\u0432\\u0442\\u0440\\u0430\",\"\\u0440\\u0443\\u043a\\u043e\\u0432\\u043e\\u0434\\u0438\\u0442\\u0435\\u043b\\u044c\",\"\\u0433\\u043e\",\"\\u043d\\u0430\\u0447\\u0438\\u043d\\u0430\\u0442\\u044c\",\"\\u0440\\u0430\\u043d\\u0435\\u0435\",\"\\u043f\\u043e\\u044f\\u0432\\u0438\\u0442\\u044c\\u0441\\u044f\",\"\\u0431\\u0435\\u0441\\u043f\\u043b\\u0430\\u0442\\u043d\\u044b\\u0439\",\"\\u0432\\u0430\\u043b\\u044e\\u0442\\u0430\",\"\\u0440\\u0443\\u0441\\u0441\\u043a\\u0438\\u0439\",\"\\u043e\\u0431\\u0449\\u0430\\u0442\\u044c\\u0441\\u044f\",\"\\u0434\\u043e\\u043f\",\"\\u0438\\u043f\\u043e\\u0442\\u0435\\u043a\\u0430\",\"\\u043f\\u043e\\u0441\\u0442\\u043e\\u044f\\u043d\\u043d\\u043e\",\"\\u043f\\u0440\\u0430\\u0432\\u0438\\u043b\\u043e\",\"\\u0435\\u0434\\u0438\\u043d\\u0441\\u0442\\u0432\\u0435\\u043d\\u043d\\u044b\\u0439\",\"\\u043f\\u0443\\u043d\\u043a\\u0442\",\"\\u043f\\u043e\\u0442\\u0435\\u0440\\u044f\\u0442\\u044c\",\"\\u0432\\u043d\\u043e\\u0441\\u0438\\u0442\\u044c\",\"\\u0437\\u0430\\u0447\\u0438\\u0441\\u043b\\u0438\\u0442\\u044c\",\"\\u043b\\u0438\\u0448\\u044c\",\"\\u0438\\u044e\\u043d\\u044c\",\"\\u0441\\u0432\\u044f\\u0437\\u043d\\u044b\\u0439\",\"\\u0443\\u0442\\u0440\\u043e\",\"\\u0431\\u0430\\u043b\\u0430\\u043d\\u0441\",\"\\u0441\\u0442\\u0430\\u043d\\u0434\\u0430\\u0440\\u0442\",\"\\u043e\\u043f\\u0435\\u0440\\u0430\\u0446\\u0438\\u043e\\u043d\\u0438\\u0441\\u0442\\u043a\\u0430\",\"\\u0438\\u043c\\u0435\\u0442\\u044c\\u0441\\u044f\",\"\\u043f\\u0430\\u0440\\u043e\\u043b\\u044c\",\"\\u043e\\u0431\\u0441\\u043b\\u0443\\u0436\\u0438\\u0432\\u0430\\u0442\\u044c\\u0441\\u044f\",\"\\u0437\\u0430\\u043d\\u0438\\u043c\\u0430\\u0442\\u044c\\u0441\\u044f\",\"\\u043f\\u0440\\u043e\\u0445\\u043e\\u0434\\u0438\\u0442\\u044c\",\"\\u0440\\u0435\\u043a\\u0432\\u0438\\u0437\\u0438\\u0442\",\"\\u043f\\u043e\\u043f\\u043e\\u043b\\u043d\\u0435\\u043d\\u0438\\u0435\",\"\\u0431\\u0430\\u0437\\u0430\",\"\\u0442\\u0435\\u043b\\u0435\\u0444\\u043e\\u043d\\u043d\\u044b\\u0439\",\"\\u043f\\u043e\\u043d\\u044f\\u0442\\u043d\\u043e\"],\"x\":{\"__ndarray__\":\"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\",\"dtype\":\"float32\",\"order\":\"little\",\"shape\":[500]},\"y\":{\"__ndarray__\":\"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\",\"dtype\":\"float32\",\"order\":\"little\",\"shape\":[500]}},\"selected\":{\"id\":\"1789\"},\"selection_policy\":{\"id\":\"1788\"}},\"id\":\"1718\",\"type\":\"ColumnDataSource\"},{\"attributes\":{},\"id\":\"1784\",\"type\":\"AllLabels\"},{\"attributes\":{\"axis\":{\"id\":\"1705\"},\"coordinates\":null,\"dimension\":1,\"group\":null,\"ticker\":null},\"id\":\"1708\",\"type\":\"Grid\"}],\"root_ids\":[\"1690\"]},\"title\":\"Bokeh Application\",\"version\":\"2.4.2\"}};\n",
       "  const render_items = [{\"docid\":\"26470027-4731-4124-848d-322226e3db6b\",\"root_ids\":[\"1690\"],\"roots\":{\"1690\":\"9c995340-5d22-406f-8130-f5e4440a939f\"}}];\n",
       "  root.Bokeh.embed.embed_items_notebook(docs_json, render_items);\n",
       "\n",
       "  }\n",
       "  if (root.Bokeh !== undefined) {\n",
       "    embed_document(root);\n",
       "  } else {\n",
       "    let attempts = 0;\n",
       "    const timer = setInterval(function(root) {\n",
       "      if (root.Bokeh !== undefined) {\n",
       "        clearInterval(timer);\n",
       "        embed_document(root);\n",
       "      } else {\n",
       "        attempts++;\n",
       "        if (attempts > 100) {\n",
       "          clearInterval(timer);\n",
       "          console.log(\"Bokeh: ERROR: Unable to run BokehJS code because BokehJS library is missing\");\n",
       "        }\n",
       "      }\n",
       "    }, 10, root)\n",
       "  }\n",
       "})(window);"
      ],
      "application/vnd.bokehjs_exec.v0+json": ""
     },
     "metadata": {
      "application/vnd.bokehjs_exec.v0+json": {
       "id": "1690"
      }
     },
     "output_type": "display_data"
    }
   ],
   "source": [
    "output_notebook()\n",
    "\n",
    "p = figure(tools = 'pan, wheel_zoom, reset, save',\n",
    "           toolbar_location = 'above',\n",
    "           title = 'TSNE для топ-500 слов')\n",
    "\n",
    "source = ColumnDataSource(data = dict(x=top_words_tsne[:,0],\n",
    "                                      y=top_words_tsne[:,1],\n",
    "                                      names=top_words))\n",
    "\n",
    "p.scatter(x='x', y='y', size=6, source=source)\n",
    "\n",
    "labels = LabelSet(x='x', y='y', text = 'names', y_offset = 6,\n",
    "                  text_font_size = '8pt', text_color = 'blue',\n",
    "                  source = source, text_align = 'center')\n",
    "p.add_layout(labels)\n",
    "\n",
    "show(p)"
   ]
  },
  {
   "cell_type": "markdown",
   "id": "01f0dbe0",
   "metadata": {},
   "source": [
    "**Примеры осмысленных кластеров**\n",
    "\n",
    "![Временные кластеры](./plots/Data_TSNE-plot.png)\n",
    "![Денежный кластер](./plots/sum_TSNE-plot.png)"
   ]
  },
  {
   "cell_type": "markdown",
   "id": "8e53be00",
   "metadata": {},
   "source": [
    "**Вывод**: легко выделяются кластера слов с месяцами года, относящиеся к дате, относящиеся к денежной мере и относящиеся к штрафам."
   ]
  },
  {
   "cell_type": "markdown",
   "id": "14f34d57",
   "metadata": {},
   "source": [
    "- задать координаты для нового пространства следующим образом: одна ось описывает отношение \"плохо – хорошо\", вторая – \"медленно – быстро\" и найдите координаты названий банков в этих координатах."
   ]
  },
  {
   "cell_type": "code",
   "execution_count": 124,
   "id": "bf99b9d5",
   "metadata": {},
   "outputs": [],
   "source": [
    "bank_list = ['сбербанк','альфа','втб','бинбанк', 'хоум', 'тинькофф',\n",
    "             'ренессанс', 'отп', 'ситибанк', 'авангард',\n",
    "             'промсвязьбанк', 'юникредит', 'мтс', 'росбанк', 'уралсиб']\n",
    "bank_list_vec = model_response.wv[bank_list]"
   ]
  },
  {
   "cell_type": "code",
   "execution_count": 125,
   "id": "db35849a",
   "metadata": {
    "scrolled": false
   },
   "outputs": [
    {
     "data": {
      "text/html": [
       "\n",
       "\n",
       "\n",
       "\n",
       "\n",
       "\n",
       "  <div class=\"bk-root\" id=\"c5fe255f-66d5-41a6-b69c-08cbf45c350c\" data-root-id=\"2324\"></div>\n"
      ]
     },
     "metadata": {},
     "output_type": "display_data"
    },
    {
     "data": {
      "application/javascript": [
       "(function(root) {\n",
       "  function embed_document(root) {\n",
       "    \n",
       "  const docs_json = {\"0af9b7b3-06c3-487b-bc14-58b4b15b3c57\":{\"defs\":[],\"roots\":{\"references\":[{\"attributes\":{\"below\":[{\"id\":\"2335\"}],\"center\":[{\"id\":\"2338\"},{\"id\":\"2342\"},{\"id\":\"2359\"}],\"left\":[{\"id\":\"2339\"}],\"renderers\":[{\"id\":\"2357\"}],\"title\":{\"id\":\"2325\"},\"toolbar\":{\"id\":\"2347\"},\"toolbar_location\":\"above\",\"x_range\":{\"id\":\"2327\"},\"x_scale\":{\"id\":\"2331\"},\"y_range\":{\"id\":\"2329\"},\"y_scale\":{\"id\":\"2333\"}},\"id\":\"2324\",\"subtype\":\"Figure\",\"type\":\"Plot\"},{\"attributes\":{\"coordinates\":null,\"data_source\":{\"id\":\"2352\"},\"glyph\":{\"id\":\"2354\"},\"group\":null,\"hover_glyph\":null,\"muted_glyph\":{\"id\":\"2356\"},\"nonselection_glyph\":{\"id\":\"2355\"},\"view\":{\"id\":\"2358\"}},\"id\":\"2357\",\"type\":\"GlyphRenderer\"},{\"attributes\":{},\"id\":\"2453\",\"type\":\"BasicTickFormatter\"},{\"attributes\":{\"source\":{\"id\":\"2352\"}},\"id\":\"2358\",\"type\":\"CDSView\"},{\"attributes\":{},\"id\":\"2329\",\"type\":\"DataRange1d\"},{\"attributes\":{},\"id\":\"2454\",\"type\":\"AllLabels\"},{\"attributes\":{},\"id\":\"2336\",\"type\":\"BasicTicker\"},{\"attributes\":{},\"id\":\"2456\",\"type\":\"BasicTickFormatter\"},{\"attributes\":{\"coordinates\":null,\"group\":null,\"text\":\"TSNE \\u0434\\u043b\\u044f \\u0431\\u0430\\u043d\\u043a\\u043e\\u0432\"},\"id\":\"2325\",\"type\":\"Title\"},{\"attributes\":{},\"id\":\"2457\",\"type\":\"AllLabels\"},{\"attributes\":{\"coordinates\":null,\"group\":null,\"source\":{\"id\":\"2352\"},\"text\":{\"field\":\"names\"},\"text_align\":{\"value\":\"center\"},\"text_color\":{\"value\":\"blue\"},\"text_font_size\":{\"value\":\"8pt\"},\"x\":{\"field\":\"x\"},\"y\":{\"field\":\"y\"},\"y_offset\":{\"value\":6}},\"id\":\"2359\",\"type\":\"LabelSet\"},{\"attributes\":{\"fill_alpha\":{\"value\":0.1},\"fill_color\":{\"value\":\"#1f77b4\"},\"hatch_alpha\":{\"value\":0.1},\"line_alpha\":{\"value\":0.1},\"line_color\":{\"value\":\"#1f77b4\"},\"size\":{\"value\":8},\"x\":{\"field\":\"x\"},\"y\":{\"field\":\"y\"}},\"id\":\"2355\",\"type\":\"Scatter\"},{\"attributes\":{},\"id\":\"2458\",\"type\":\"UnionRenderers\"},{\"attributes\":{\"data\":{\"names\":[\"\\u0441\\u0431\\u0435\\u0440\\u0431\\u0430\\u043d\\u043a\",\"\\u0430\\u043b\\u044c\\u0444\\u0430\",\"\\u0432\\u0442\\u0431\",\"\\u0431\\u0438\\u043d\\u0431\\u0430\\u043d\\u043a\",\"\\u0445\\u043e\\u0443\\u043c\",\"\\u0442\\u0438\\u043d\\u044c\\u043a\\u043e\\u0444\\u0444\",\"\\u0440\\u0435\\u043d\\u0435\\u0441\\u0441\\u0430\\u043d\\u0441\",\"\\u043e\\u0442\\u043f\",\"\\u0441\\u0438\\u0442\\u0438\\u0431\\u0430\\u043d\\u043a\",\"\\u0430\\u0432\\u0430\\u043d\\u0433\\u0430\\u0440\\u0434\",\"\\u043f\\u0440\\u043e\\u043c\\u0441\\u0432\\u044f\\u0437\\u044c\\u0431\\u0430\\u043d\\u043a\",\"\\u044e\\u043d\\u0438\\u043a\\u0440\\u0435\\u0434\\u0438\\u0442\",\"\\u043c\\u0442\\u0441\",\"\\u0440\\u043e\\u0441\\u0431\\u0430\\u043d\\u043a\",\"\\u0443\\u0440\\u0430\\u043b\\u0441\\u0438\\u0431\"],\"x\":[22.282310485839844,12.186240196228027,14.305152893066406,3.672318696975708,15.461369514465332,27.1873779296875,9.414933204650879,-0.1569371223449707,10.446976661682129,26.476228713989258,9.342818260192871,18.025941848754883,11.26924991607666,0.4480757713317871,13.822924613952637],\"y\":[-4.301761627197266,-16.080753326416016,-7.316143989562988,-18.704959869384766,-21.775428771972656,12.100626945495605,0.8469080924987793,-8.818284034729004,4.600687026977539,-2.4357528686523438,-29.226703643798828,1.3977084159851074,7.386575698852539,-0.3289794921875,-19.519004821777344]},\"selected\":{\"id\":\"2459\"},\"selection_policy\":{\"id\":\"2458\"}},\"id\":\"2352\",\"type\":\"ColumnDataSource\"},{\"attributes\":{},\"id\":\"2333\",\"type\":\"LinearScale\"},{\"attributes\":{},\"id\":\"2327\",\"type\":\"DataRange1d\"},{\"attributes\":{\"axis\":{\"id\":\"2335\"},\"coordinates\":null,\"group\":null,\"ticker\":null},\"id\":\"2338\",\"type\":\"Grid\"},{\"attributes\":{},\"id\":\"2331\",\"type\":\"LinearScale\"},{\"attributes\":{\"fill_alpha\":{\"value\":0.2},\"fill_color\":{\"value\":\"#1f77b4\"},\"hatch_alpha\":{\"value\":0.2},\"line_alpha\":{\"value\":0.2},\"line_color\":{\"value\":\"#1f77b4\"},\"size\":{\"value\":8},\"x\":{\"field\":\"x\"},\"y\":{\"field\":\"y\"}},\"id\":\"2356\",\"type\":\"Scatter\"},{\"attributes\":{},\"id\":\"2459\",\"type\":\"Selection\"},{\"attributes\":{\"axis_label\":\"\\u043f\\u043b\\u043e\\u0445\\u043e\\u0439 --> \\u0445\\u043e\\u0440\\u043e\\u0448\\u0438\\u0439\",\"coordinates\":null,\"formatter\":{\"id\":\"2456\"},\"group\":null,\"major_label_policy\":{\"id\":\"2457\"},\"ticker\":{\"id\":\"2336\"}},\"id\":\"2335\",\"type\":\"LinearAxis\"},{\"attributes\":{},\"id\":\"2346\",\"type\":\"SaveTool\"},{\"attributes\":{},\"id\":\"2340\",\"type\":\"BasicTicker\"},{\"attributes\":{},\"id\":\"2345\",\"type\":\"ResetTool\"},{\"attributes\":{},\"id\":\"2343\",\"type\":\"PanTool\"},{\"attributes\":{\"fill_color\":{\"value\":\"#1f77b4\"},\"line_color\":{\"value\":\"#1f77b4\"},\"size\":{\"value\":8},\"x\":{\"field\":\"x\"},\"y\":{\"field\":\"y\"}},\"id\":\"2354\",\"type\":\"Scatter\"},{\"attributes\":{\"axis\":{\"id\":\"2339\"},\"coordinates\":null,\"dimension\":1,\"group\":null,\"ticker\":null},\"id\":\"2342\",\"type\":\"Grid\"},{\"attributes\":{\"axis_label\":\"\\u043c\\u0435\\u0434\\u043b\\u0435\\u043d\\u043d\\u044b\\u0439 --> \\u0431\\u044b\\u0441\\u0442\\u0440\\u044b\\u0439\",\"coordinates\":null,\"formatter\":{\"id\":\"2453\"},\"group\":null,\"major_label_policy\":{\"id\":\"2454\"},\"ticker\":{\"id\":\"2340\"}},\"id\":\"2339\",\"type\":\"LinearAxis\"},{\"attributes\":{\"tools\":[{\"id\":\"2343\"},{\"id\":\"2344\"},{\"id\":\"2345\"},{\"id\":\"2346\"}]},\"id\":\"2347\",\"type\":\"Toolbar\"},{\"attributes\":{},\"id\":\"2344\",\"type\":\"WheelZoomTool\"}],\"root_ids\":[\"2324\"]},\"title\":\"Bokeh Application\",\"version\":\"2.4.2\"}};\n",
       "  const render_items = [{\"docid\":\"0af9b7b3-06c3-487b-bc14-58b4b15b3c57\",\"root_ids\":[\"2324\"],\"roots\":{\"2324\":\"c5fe255f-66d5-41a6-b69c-08cbf45c350c\"}}];\n",
       "  root.Bokeh.embed.embed_items_notebook(docs_json, render_items);\n",
       "\n",
       "  }\n",
       "  if (root.Bokeh !== undefined) {\n",
       "    embed_document(root);\n",
       "  } else {\n",
       "    let attempts = 0;\n",
       "    const timer = setInterval(function(root) {\n",
       "      if (root.Bokeh !== undefined) {\n",
       "        clearInterval(timer);\n",
       "        embed_document(root);\n",
       "      } else {\n",
       "        attempts++;\n",
       "        if (attempts > 100) {\n",
       "          clearInterval(timer);\n",
       "          console.log(\"Bokeh: ERROR: Unable to run BokehJS code because BokehJS library is missing\");\n",
       "        }\n",
       "      }\n",
       "    }, 10, root)\n",
       "  }\n",
       "})(window);"
      ],
      "application/vnd.bokehjs_exec.v0+json": ""
     },
     "metadata": {
      "application/vnd.bokehjs_exec.v0+json": {
       "id": "2324"
      }
     },
     "output_type": "display_data"
    }
   ],
   "source": [
    "x_axis = model_response.wv['хороший'] - model_response.wv['плохой']\n",
    "y_axis =  model_response.wv['быстрый'] - model_response.wv['медленный']\n",
    "\n",
    "bank_list_x = []\n",
    "bank_list_y = []\n",
    "for el in bank_list_vec:\n",
    "    bank_list_x.append(np.dot(el, x_axis))\n",
    "    bank_list_y.append(np.dot(el, y_axis))\n",
    "    \n",
    "p = figure(tools=\"pan, wheel_zoom, reset, save\",\n",
    "           toolbar_location=\"above\",\n",
    "           x_axis_label = \"плохой --> хороший\",\n",
    "           y_axis_label = \"медленный --> быстрый\",\n",
    "           title=\"TSNE для банков\")\n",
    "\n",
    "source = ColumnDataSource(data=dict(x=bank_list_x,\n",
    "                                    y=bank_list_y,\n",
    "                                    names=bank_list))\n",
    "\n",
    "p.scatter(x=\"x\", y=\"y\", size=8, source=source)\n",
    "\n",
    "labels = LabelSet(x=\"x\", y=\"y\", text=\"names\", y_offset=6,\n",
    "                  text_font_size=\"8pt\", text_color=\"blue\",\n",
    "                  source=source, text_align='center')\n",
    "p.add_layout(labels)\n",
    "\n",
    "show(p)"
   ]
  },
  {
   "cell_type": "markdown",
   "id": "1a55f318",
   "metadata": {},
   "source": [
    "![Банки](./plots/Banks_TSNE-plot_new.png)"
   ]
  },
  {
   "cell_type": "markdown",
   "id": "4a0c1b6f",
   "metadata": {},
   "source": [
    "### Часть 2: Распространение метки.\n",
    "#### Создание оценочного словаря"
   ]
  },
  {
   "cell_type": "markdown",
   "id": "33f2ba7d",
   "metadata": {},
   "source": [
    "Будем считать, что положительному классу соответствует 1, а негативному соответствует 0"
   ]
  },
  {
   "cell_type": "code",
   "execution_count": 227,
   "id": "2cfc63fb",
   "metadata": {},
   "outputs": [],
   "source": [
    "X_train = ['быстрый','долго', 'хороший', 'медленный', 'легко', 'комфортно', 'отлично', 'нравиться',\n",
    "           'плохой', 'удобный', 'ужасно', 'отличный', 'отвратительный', 'тяжело', 'скверный', 'безобразно']\n",
    "X_labels = [1, 0, 1, 0, 1, 1, 1, 1, 0, 1, 0, 1, 0, 0, 0, 0]"
   ]
  },
  {
   "cell_type": "code",
   "execution_count": 228,
   "id": "19090f18",
   "metadata": {},
   "outputs": [],
   "source": [
    "dict_vec_train = model_response.wv[X_train]"
   ]
  },
  {
   "cell_type": "markdown",
   "id": "96454eff",
   "metadata": {},
   "source": [
    "### Пометить выбранные слова в лексическом графе соответствующими метками"
   ]
  },
  {
   "cell_type": "code",
   "execution_count": 229,
   "id": "bf350a08",
   "metadata": {},
   "outputs": [
    {
     "data": {
      "text/plain": [
       "LabelSpreading()"
      ]
     },
     "execution_count": 229,
     "metadata": {},
     "output_type": "execute_result"
    }
   ],
   "source": [
    "label_model = LabelSpreading()\n",
    "label_model.fit(dict_vec_train, X_labels)"
   ]
  },
  {
   "cell_type": "code",
   "execution_count": 230,
   "id": "0f28abfe",
   "metadata": {},
   "outputs": [
    {
     "data": {
      "text/plain": [
       "array([1, 0, 1, 0, 1, 1, 1, 1, 0, 1, 0, 1, 0, 0, 0, 0])"
      ]
     },
     "execution_count": 230,
     "metadata": {},
     "output_type": "execute_result"
    }
   ],
   "source": [
    "label_model.transduction_"
   ]
  },
  {
   "cell_type": "code",
   "execution_count": 231,
   "id": "fdd0f2eb",
   "metadata": {},
   "outputs": [],
   "source": [
    "dict_vec_test = model_response.wv['оперативный', 'отвратный']"
   ]
  },
  {
   "cell_type": "code",
   "execution_count": 232,
   "id": "d4b3214a",
   "metadata": {},
   "outputs": [
    {
     "data": {
      "text/plain": [
       "array([0, 0])"
      ]
     },
     "execution_count": 232,
     "metadata": {},
     "output_type": "execute_result"
    }
   ],
   "source": [
    "pred = label_model.predict(dict_vec_test)\n",
    "pred"
   ]
  },
  {
   "cell_type": "markdown",
   "id": "a57f0ea7",
   "metadata": {},
   "source": [
    "#### Построение лексического графа."
   ]
  },
  {
   "cell_type": "code",
   "execution_count": 150,
   "id": "104fb8e4",
   "metadata": {},
   "outputs": [
    {
     "name": "stderr",
     "output_type": "stream",
     "text": [
      "100%|██████████████████████████████████████████████████████████████████████████| 42565/42565 [1:22:21<00:00,  8.61it/s]\n"
     ]
    }
   ],
   "source": [
    "g = ig.Graph(directed=True)\n",
    "for word in model_response.wv.key_to_index.keys():\n",
    "    g.add_vertex(word)\n",
    "\n",
    "for word in tqdm(model_response.wv.key_to_index.keys()):\n",
    "    node = g.vs.select(name = word).indices[0]\n",
    "    similar_words = model_response.wv.most_similar(word, topn=5)\n",
    "    for sim in similar_words:\n",
    "        word1 = sim[0]\n",
    "        val  = sim[1]\n",
    "        new_node = g.vs.select(name = word1).indices[0]\n",
    "        g.add_edge(node, new_node, weight = val)"
   ]
  },
  {
   "cell_type": "code",
   "execution_count": 169,
   "id": "c3cc5e3a",
   "metadata": {},
   "outputs": [
    {
     "name": "stdout",
     "output_type": "stream",
     "text": [
      "IGRAPH DNW- 42565 212825 -- \n",
      "+ attr: name (v), weight (e)\n"
     ]
    }
   ],
   "source": [
    "ig.summary(g)"
   ]
  },
  {
   "cell_type": "markdown",
   "id": "45764cdc",
   "metadata": {},
   "source": [
    "Обход ограничения на размер вывода."
   ]
  },
  {
   "cell_type": "code",
   "execution_count": 171,
   "id": "7ef247fe",
   "metadata": {},
   "outputs": [],
   "source": [
    "with open('out.txt', 'w') as f:\n",
    "    with redirect_stdout(f):\n",
    "        print(g)"
   ]
  },
  {
   "cell_type": "code",
   "execution_count": 172,
   "id": "fb0e3260",
   "metadata": {},
   "outputs": [],
   "source": [
    "with open('out.txt') as f:\n",
    "  l = [line.strip() for line in f]"
   ]
  },
  {
   "cell_type": "code",
   "execution_count": 234,
   "id": "b6c141dd",
   "metadata": {},
   "outputs": [
    {
     "data": {
      "text/plain": [
       "['IGRAPH DNW- 42565 212825 --',\n",
       " '+ attr: name (v), weight (e)',\n",
       " '+ edges (vertex names):',\n",
       " 'банк -> сбербанк, ситибанк, росбанк, псб, бинбанка',\n",
       " 'карта -> карточка, дебетовый, кредитка, кк, дебетовка',\n",
       " 'это -> данный, хотя, вообще, подобный, невосполнять',\n",
       " 'деньга -> средство, денежка, наличка, дс, денюжка',\n",
       " 'день -> месяц, неделя, час, сутки, четверг',\n",
       " 'всё -> вс, ладный, вроде, нифига, воспрепятствование',\n",
       " 'кредит -> ипотека, автокредит, рассрочка, потребкредить,',\n",
       " 'ссуда',\n",
       " 'который -> хотя, поскольку, немой, следовательно,',\n",
       " 'посторонний',\n",
       " 'отделение -> офис, филиал, осб, допофис, отд',\n",
       " 'клиент -> вкладчик, заёмщик, пользователь, клиентура,',\n",
       " 'клиенто',\n",
       " 'сотрудник -> специалист, менеджер, сотрудница, работник,',\n",
       " 'работница',\n",
       " 'мочь -> хотеть, нужно, смочь, возможно, невозможно',\n",
       " 'счёт -> карта, сч, картсчёт, скс, картсча']"
      ]
     },
     "execution_count": 234,
     "metadata": {},
     "output_type": "execute_result"
    }
   ],
   "source": [
    "l[:20]"
   ]
  },
  {
   "cell_type": "markdown",
   "id": "b822e74e",
   "metadata": {},
   "source": [
    "### Для проверяющего\n",
    "\n",
    "Добрый день.\n",
    "\n",
    "Прошу помочь с дальнейшим решением во второй части: не понимаю как от обучения LabelSpreading на основе оценочного словаря перейти к разметке лексического графа. Самостоятельно не получилось разобраться."
   ]
  }
 ],
 "metadata": {
  "kernelspec": {
   "display_name": "Python 3 (ipykernel)",
   "language": "python",
   "name": "python3"
  },
  "language_info": {
   "codemirror_mode": {
    "name": "ipython",
    "version": 3
   },
   "file_extension": ".py",
   "mimetype": "text/x-python",
   "name": "python",
   "nbconvert_exporter": "python",
   "pygments_lexer": "ipython3",
   "version": "3.9.12"
  }
 },
 "nbformat": 4,
 "nbformat_minor": 5
}
